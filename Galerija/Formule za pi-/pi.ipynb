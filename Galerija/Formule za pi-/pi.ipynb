{
 "cells": [
  {
   "cell_type": "markdown",
   "metadata": {},
   "source": [
    "# $\\pi$"
   ]
  },
  {
   "cell_type": "markdown",
   "metadata": {},
   "source": [
    "U ovoj bilježnici proučit ćemo nekoliko formula za slavnu matematičku konstantu $\\pi$, i usporediti njihovu konvergenciju."
   ]
  },
  {
   "cell_type": "markdown",
   "metadata": {},
   "source": [
    "## Arhimed (stari vijek)"
   ]
  },
  {
   "cell_type": "markdown",
   "metadata": {},
   "source": [
    "Prvi algoritam za računanje $\\pi$ je dao Arhimed (oko 250. pr. Kr.), koristeći iduću zanimljivu ideju. Promotrimo grafove:"
   ]
  },
  {
   "cell_type": "code",
   "execution_count": 1,
   "metadata": {},
   "outputs": [
    {
     "data": {
      "application/vnd.jupyter.widget-view+json": {
       "model_id": "24b1e0c8b5464b58a5fd2aedc7ee04dd",
       "version_major": 2,
       "version_minor": 0
      },
      "text/html": [
       "<p>Failed to display Jupyter Widget of type <code>interactive</code>.</p>\n",
       "<p>\n",
       "  If you're reading this message in the Jupyter Notebook or JupyterLab Notebook, it may mean\n",
       "  that the widgets JavaScript is still loading. If this message persists, it\n",
       "  likely means that the widgets JavaScript library is either not installed or\n",
       "  not enabled. See the <a href=\"https://ipywidgets.readthedocs.io/en/stable/user_install.html\">Jupyter\n",
       "  Widgets Documentation</a> for setup instructions.\n",
       "</p>\n",
       "<p>\n",
       "  If you're reading this message in another frontend (for example, a static\n",
       "  rendering on GitHub or <a href=\"https://nbviewer.jupyter.org/\">NBViewer</a>),\n",
       "  it may mean that your frontend doesn't currently support widgets.\n",
       "</p>\n"
      ],
      "text/plain": [
       "interactive(children=(IntSlider(value=3, description='n', max=20, min=3), Output()), _dom_classes=('widget-interact',))"
      ]
     },
     "metadata": {},
     "output_type": "display_data"
    }
   ],
   "source": [
    "from __future__ import print_function\n",
    "from ipywidgets import interact, interactive, fixed, interact_manual\n",
    "import ipywidgets as widgets\n",
    "\n",
    "import matplotlib.pyplot as plt\n",
    "import matplotlib.patches as mpatches\n",
    "from matplotlib.collections import PatchCollection\n",
    "import numpy as np\n",
    "%matplotlib inline\n",
    "\n",
    "#NACRTAJ GRAFOVe\n",
    "def crtaj(n):\n",
    "    \"Ova funkcija crta krug i njemu upisani i opisani 3*2^n-terokut.\"\n",
    "    k = n\n",
    "    #Ovdje koristimo pi samo radi jednostavnosti\n",
    "    alpha = np.pi/k\n",
    "    print(k)\n",
    "    \n",
    "    fig, ax = plt.subplots()\n",
    "    # create 3x3 grid to plot the artists\n",
    "    grid = np.mgrid[0.2:0.8:10j, 0.2:0.9:10j].reshape(2, -1).T\n",
    "\n",
    "    patches = []\n",
    "\n",
    "    #dodaj krug\n",
    "    circle = mpatches.Circle(grid[0], 0.1, ec=\"none\")\n",
    "    patches.append(circle)\n",
    "\n",
    "    #dodaj opisani n-terokut\n",
    "    polygon = mpatches.RegularPolygon(grid[0], k, 0.1/np.cos(alpha))\n",
    "    patches.append(polygon)\n",
    "\n",
    "    #dodaj upisani n-terokut\n",
    "    polygon = mpatches.RegularPolygon(grid[0], k, 0.1)\n",
    "    patches.append(polygon)\n",
    "\n",
    "    colors = np.linspace(0, 1, len(patches))\n",
    "    collection = PatchCollection(patches, cmap=plt.cm.hsv, alpha=0.4)\n",
    "    collection.set_array(np.array(colors))\n",
    "    ax.add_collection(collection)\n",
    "\n",
    "    plt.axis('equal')\n",
    "    plt.gca().set_aspect('equal', adjustable='box')\n",
    "    plt.axis('off')\n",
    "    plt.tight_layout()\n",
    "\n",
    "    plt.show()\n",
    "    return;\n",
    "\n",
    "interact(crtaj, n=widgets.IntSlider(min=3,max=20,step=1,value=3));"
   ]
  },
  {
   "cell_type": "markdown",
   "metadata": {},
   "source": [
    "Vidimo da će se opsezi $n$-terokuta proizvoljno blizu približiti opsegu kruga. Opseg n-terokuta $n*2R\\sin\\left(\\frac{\\pi}{n}\\right)$ geometrijski vidimo da teži u $2R\\pi$. Ustvari, ovo je samo slavni limes $\\lim\\limits_{x\\to 0} \\frac{\\sin x}{x}$ u dvije tisuće godina starom izdanju. No, razlog zašto ovo daje efektivni algoritam za računanje $\\pi$ je (naravno) taj što nam *ne treba* $\\pi$ unaprijed! Možemo koristiti formulu $\\sin \\alpha = \\sqrt{\\frac{1-\\cos 2\\alpha}{2}}$ te tako dobivati sve manje kutove i aproksimativno računati limes.\n",
    "\n",
    "Arhimed je ovom metodom ustvrdio nejednakost $\\frac{223}{71}<\\pi<\\frac{22}{7}$, gdje je gornja ograda dobro poznata aproksimacija od $\\pi$. Ovo je bila glavna metoda računanja aproksimacija za $\\pi$ za tisućljeće i pol! Arhimedov račun kreće od jednakostraničnog trokuta (dakle $n=3$) te nastavlja raspolovljavanjem. Promotrimo rezultate Arhimedove metode:"
   ]
  },
  {
   "cell_type": "code",
   "execution_count": 2,
   "metadata": {},
   "outputs": [
    {
     "data": {
      "application/vnd.jupyter.widget-view+json": {
       "model_id": "fa7015932e084d1fae7374751c5f2d94",
       "version_major": 2,
       "version_minor": 0
      },
      "text/html": [
       "<p>Failed to display Jupyter Widget of type <code>interactive</code>.</p>\n",
       "<p>\n",
       "  If you're reading this message in the Jupyter Notebook or JupyterLab Notebook, it may mean\n",
       "  that the widgets JavaScript is still loading. If this message persists, it\n",
       "  likely means that the widgets JavaScript library is either not installed or\n",
       "  not enabled. See the <a href=\"https://ipywidgets.readthedocs.io/en/stable/user_install.html\">Jupyter\n",
       "  Widgets Documentation</a> for setup instructions.\n",
       "</p>\n",
       "<p>\n",
       "  If you're reading this message in another frontend (for example, a static\n",
       "  rendering on GitHub or <a href=\"https://nbviewer.jupyter.org/\">NBViewer</a>),\n",
       "  it may mean that your frontend doesn't currently support widgets.\n",
       "</p>\n"
      ],
      "text/plain": [
       "interactive(children=(IntSlider(value=0, description='n', max=10), Output()), _dom_classes=('widget-interact',))"
      ]
     },
     "metadata": {},
     "output_type": "display_data"
    }
   ],
   "source": [
    "import sympy as sp\n",
    "sp.init_printing()\n",
    "\n",
    "def sn(n):\n",
    "    k = 3*2**n\n",
    "    if k == 3:\n",
    "        return sp.sin(sp.pi/3)\n",
    "    else:\n",
    "        cs = sp.sqrt(1-sn(n-1)**2) #pitagorin poucak\n",
    "        return sp.sqrt((1-cs)/2)\n",
    "\n",
    "def calc(n):\n",
    "    #convert sympy to latex\n",
    "    str = sp.latex(3*2**n*sn(n))\n",
    "    str = '$' + str + '$'\n",
    "\n",
    "    #cheat: s matplotlib iscrtaj latex jer neće drugačije\n",
    "    import matplotlib.pyplot as plt\n",
    "    %matplotlib inline\n",
    "\n",
    "    fig = plt.figure()\n",
    "    fig.suptitle(str, fontsize=14+n, fontweight='bold')\n",
    "\n",
    "    ax = fig.add_subplot(111)\n",
    "    fig.set_size_inches(0.05, 0.05, forward=True)\n",
    "    plt.axis('off')\n",
    "\n",
    "    plt.show()\n",
    "    print(sp.N(3*2**n*sn(n)))\n",
    "    return;\n",
    "\n",
    "interact(calc, n=widgets.IntSlider(min=0,max=10,step=1,value=0));"
   ]
  },
  {
   "cell_type": "code",
   "execution_count": 3,
   "metadata": {},
   "outputs": [
    {
     "name": "stderr",
     "output_type": "stream",
     "text": [
      "No handles with labels found to put in legend.\n"
     ]
    },
    {
     "data": {
      "text/plain": [
       "<matplotlib.legend.Legend at 0x16d9c6ddac8>"
      ]
     },
     "execution_count": 3,
     "metadata": {},
     "output_type": "execute_result"
    },
    {
     "data": {
      "image/png": "[encoded data removed]",
      "text/plain": [
       "<matplotlib.figure.Figure at 0x16d9b9e1668>"
      ]
     },
     "metadata": {},
     "output_type": "display_data"
    }
   ],
   "source": [
    "import matplotlib.pyplot as plt\n",
    "import numpy as np\n",
    "\n",
    "def rez(n):\n",
    "    return 3*2**n*sn(n);\n",
    "nprez = np.vectorize(rez)\n",
    "\n",
    "fig, ax = plt.subplots()\n",
    "plt.axhline(y=np.pi, xmin=0, xmax=1, hold=None, linestyle='--')\n",
    "ax.plot(np.arange(10), nprez(np.arange(10)))\n",
    "ax.legend(loc=9)"
   ]
  },
  {
   "cell_type": "markdown",
   "metadata": {},
   "source": [
    "Za $n=10$ dobivamo $\\pi$ na 5 decimala što ukazuje na to da je konvergencija dobra. To je također ilustrirano gornjim grafom.\n",
    "Naravno, zbog uzastopnog računa drugog korijena ova metoda je složena i postići veliku preciznost ovom metodom se čini uzaludno. *Ipak*, ovo je ista metoda kojom je Ludolph van Ceulen računao $\\pi$ do $35$ decimala, po čemu je $\\pi$ nekad zvan i *Ludolphov broj* (da dobije tu točnost morao je koristit $2^{62}$-terokut. U nedostatku pametnog posla, 1630, je ova aproksimacija još poboljšana na 38 decimala (za što je pak trebalo cca. $10^{40}$-terokut). Time vidimo i da je konvergencija otprilike logaritamska u broju stranica!"
   ]
  },
  {
   "cell_type": "code",
   "execution_count": null,
   "metadata": {},
   "outputs": [],
   "source": []
  }
 ],
 "metadata": {
  "kernelspec": {
   "display_name": "Python 3",
   "language": "python",
   "name": "python3"
  },
  "language_info": {
   "codemirror_mode": {
    "name": "ipython",
    "version": 3
   },
   "file_extension": ".py",
   "mimetype": "text/x-python",
   "name": "python",
   "nbconvert_exporter": "python",
   "pygments_lexer": "ipython3",
   "version": "3.6.4"
  }
 },
 "nbformat": 4,
 "nbformat_minor": 1
}
