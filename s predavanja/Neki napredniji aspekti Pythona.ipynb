{
 "cells": [
  {
   "cell_type": "markdown",
   "metadata": {},
   "source": [
    "# Neki napredniji aspekti Pythona"
   ]
  },
  {
   "cell_type": "markdown",
   "metadata": {},
   "source": [
    "## Klase"
   ]
  },
  {
   "cell_type": "markdown",
   "metadata": {},
   "source": [
    "Vidjeli smo da u Pythonu varijable nemaju tipove, ali zato _objekti_ imaju tipove. Tip objekta određuje kakve vrijednosti taj objekt može imati (u slučaju da je promjenjiv), i važnije, određuje što sve možemo s tim objektom raditi, odnosno kako ga možemo koristiti.\n",
    "\n",
    "Realne brojeve možemo potencirati, ali ne možemo njima indeksirati liste. Cijelim brojevima možemo indeksirati liste, ali im ne možemo mijenjati vrijednost. Listama možemo mijenjati vrijednost, ali ih ne možemo pozivati. Funkcije možemo pozivati, ali ih ne možemo množiti. Liste možemo množiti cijelim brojevima, ali ne i realnim brojevima. Izuzetke možemo dizati, klase instancirati, module uvoziti, ključeve u rječnicima hashirati, po skupovima iterirati,... I tako dalje: tipovi i njihove podržane operacije čine izuzetno složenu mrežu međuovisnosti. Ako pokušamo upotrijebiti objekt na način koji njegov tip ne podržava, dobit ćemo `TypeError` (za razliku od situacije gdje tip dozvoljava operaciju ali ne na konkretnoj vrijednosti, kada dobijemo `ValueError` ili neki još specifičniji izuzetak."
   ]
  },
  {
   "cell_type": "code",
   "execution_count": 34,
   "metadata": {
    "scrolled": true
   },
   "outputs": [
    {
     "ename": "TypeError",
     "evalue": "can't multiply sequence by non-int of type 'float'",
     "output_type": "error",
     "traceback": [
      "\u001b[0;31m---------------------------------------------------------------------------\u001b[0m",
      "\u001b[0;31mTypeError\u001b[0m                                 Traceback (most recent call last)",
      "\u001b[0;32m<ipython-input-34-1cbe2534243b>\u001b[0m in \u001b[0;36m<module>\u001b[0;34m\u001b[0m\n\u001b[0;32m----> 1\u001b[0;31m \u001b[0;36m3.14\u001b[0m \u001b[0;34m*\u001b[0m \u001b[0;34m[\u001b[0m\u001b[0;36m3\u001b[0m\u001b[0;34m,\u001b[0m \u001b[0;36m4\u001b[0m\u001b[0;34m]\u001b[0m\u001b[0;34m\u001b[0m\u001b[0;34m\u001b[0m\u001b[0m\n\u001b[0m",
      "\u001b[0;31mTypeError\u001b[0m: can't multiply sequence by non-int of type 'float'"
     ]
    }
   ],
   "source": [
    "3.14 * [3, 4]"
   ]
  },
  {
   "cell_type": "markdown",
   "metadata": {},
   "source": [
    "U Pythonu možemo definirati i svoje klase, čiji objekti će onda imati točno ona ponašanja koja im propišemo. Na neki način, time smo stvorili novi tip. Najjednostavnije što klase mogu imati su atributi: varijable u klasnom prostoru imena."
   ]
  },
  {
   "cell_type": "code",
   "execution_count": 1,
   "metadata": {},
   "outputs": [
    {
     "data": {
      "text/plain": [
       "5"
      ]
     },
     "execution_count": 1,
     "metadata": {},
     "output_type": "execute_result"
    }
   ],
   "source": [
    "class Klasa1:\n",
    "    varijabla = 5\n",
    "    \n",
    "Klasa1.varijabla"
   ]
  },
  {
   "cell_type": "markdown",
   "metadata": {},
   "source": [
    "Klasi možemo dodavati (i brisati, i mijenjati...) atribute po volji."
   ]
  },
  {
   "cell_type": "code",
   "execution_count": 2,
   "metadata": {},
   "outputs": [],
   "source": [
    "Klasa1.atribut = 7\n",
    "\n",
    "del Klasa1.varijabla"
   ]
  },
  {
   "cell_type": "markdown",
   "metadata": {},
   "source": [
    "Kad klasu instanciramo (sintaksa je ista kao za poziv funkcije, postfiksne zagrade), dobivamo objekt koji ima pristup svim varijablama klase."
   ]
  },
  {
   "cell_type": "code",
   "execution_count": 3,
   "metadata": {},
   "outputs": [
    {
     "data": {
      "text/plain": [
       "__main__.Klasa1"
      ]
     },
     "execution_count": 3,
     "metadata": {},
     "output_type": "execute_result"
    }
   ],
   "source": [
    "instanca1 = Klasa1()\n",
    "type(instanca1)"
   ]
  },
  {
   "cell_type": "code",
   "execution_count": 4,
   "metadata": {},
   "outputs": [
    {
     "data": {
      "text/plain": [
       "7"
      ]
     },
     "execution_count": 4,
     "metadata": {},
     "output_type": "execute_result"
    }
   ],
   "source": [
    "instanca1.atribut"
   ]
  },
  {
   "cell_type": "markdown",
   "metadata": {},
   "source": [
    "Sve je dinamično: dodavanjem novog atributa klasi omogućujemo pristup tom atributu od svih objekata klase, čak i onih koji su stvoreni prije nego što je atribut dodan klasi."
   ]
  },
  {
   "cell_type": "code",
   "execution_count": 5,
   "metadata": {},
   "outputs": [
    {
     "data": {
      "text/plain": [
       "9"
      ]
     },
     "execution_count": 5,
     "metadata": {},
     "output_type": "execute_result"
    }
   ],
   "source": [
    "Klasa1.novo = 9\n",
    "instanca1.novo"
   ]
  },
  {
   "cell_type": "markdown",
   "metadata": {},
   "source": [
    "Pored klasnih atributa (što bi donekle odgovaralo \"statičkim varijablama\"), instance mogu imati i vlastite (individualne) atribute."
   ]
  },
  {
   "cell_type": "code",
   "execution_count": 6,
   "metadata": {},
   "outputs": [
    {
     "name": "stdout",
     "output_type": "stream",
     "text": [
      "12\n",
      "13\n"
     ]
    }
   ],
   "source": [
    "instanca2 = Klasa1()\n",
    "instanca1.id = 3\n",
    "instanca2.id = 4\n",
    "for objekt in instanca1, instanca2:\n",
    "    print(objekt.id + objekt.novo)"
   ]
  },
  {
   "cell_type": "markdown",
   "metadata": {},
   "source": [
    "Dakle, možemo reći da se instanciranjem na neki način povezuju atributni prostor imena instance i klase (koji pak nastaje izvršavanjem bloka koji počinje s `class`). Ipak, ta poveznica nije identiteta za sve tipove atributa.\n",
    "\n",
    "Za početak, u klasnom prostoru imena mogu postojati funkcije."
   ]
  },
  {
   "cell_type": "code",
   "execution_count": 7,
   "metadata": {},
   "outputs": [
    {
     "name": "stdout",
     "output_type": "stream",
     "text": [
      "Ja sam funkcija\n"
     ]
    }
   ],
   "source": [
    "class Klasa2:\n",
    "    def funkcija():\n",
    "        print('Ja sam funkcija')\n",
    "\n",
    "Klasa2.funkcija()"
   ]
  },
  {
   "cell_type": "markdown",
   "metadata": {},
   "source": [
    "... i kao što vidimo, ništa se ne mijenja kad im pristupamo iz klasnog prostora imena. No iz individualnog prostora imena, situacija je drugačija."
   ]
  },
  {
   "cell_type": "code",
   "execution_count": 8,
   "metadata": {},
   "outputs": [
    {
     "ename": "TypeError",
     "evalue": "funkcija() takes 0 positional arguments but 1 was given",
     "output_type": "error",
     "traceback": [
      "\u001b[1;31m---------------------------------------------------------------------------\u001b[0m",
      "\u001b[1;31mTypeError\u001b[0m                                 Traceback (most recent call last)",
      "\u001b[1;32m<ipython-input-8-99ff56d79fb0>\u001b[0m in \u001b[0;36m<module>\u001b[1;34m\u001b[0m\n\u001b[0;32m      1\u001b[0m \u001b[0minstanca\u001b[0m \u001b[1;33m=\u001b[0m \u001b[0mKlasa2\u001b[0m\u001b[1;33m(\u001b[0m\u001b[1;33m)\u001b[0m\u001b[1;33m\u001b[0m\u001b[1;33m\u001b[0m\u001b[0m\n\u001b[1;32m----> 2\u001b[1;33m \u001b[0minstanca\u001b[0m\u001b[1;33m.\u001b[0m\u001b[0mfunkcija\u001b[0m\u001b[1;33m(\u001b[0m\u001b[1;33m)\u001b[0m\u001b[1;33m\u001b[0m\u001b[1;33m\u001b[0m\u001b[0m\n\u001b[0m",
      "\u001b[1;31mTypeError\u001b[0m: funkcija() takes 0 positional arguments but 1 was given"
     ]
    }
   ],
   "source": [
    "instanca = Klasa2()\n",
    "instanca.funkcija()"
   ]
  },
  {
   "cell_type": "markdown",
   "metadata": {},
   "source": [
    "Vidimo da kad pozovemo `instanca.funkcija()`, Python zapravo poziva `Klasa2.funkcija` s jednim argumentom. Kojim to? Naravno, ako znate priču o `this` iz C++a, jasno je da se poziva `Klasa2.funkcija(instanca)`. I općenito, u normalnim okolnostima, `objekt.metoda(argumenti)` se izvršava kao `type(objekt).metoda(objekt, argumenti)`, odnosno objekt na kojem je metoda pozvana prenosi se kao prvi argument. Da bi se na to podsjetili, ljudi obično prvi parametar metode zovu `self`.\n",
    "\n",
    "Primijetite da je (za razliku od `this`) `self` eksplicitan (mora se navesti). Kako nema deklaracijâ, Python ne može znati predstavlja li `x` lokalnu varijablu metode ili člansku varijablu objekta na kojem je metoda pozvana. Vjerojatno najčešća greška C++-programera u Pythonu je da pristupaju atributima objekta na kojem je metoda pozvana bez `self`. No i sâm C++ sve više ide u smjeru sintaksnog razlikovanja članskih i lokalnih varijabli: npr. vidio sam da prof. Jurak u zadaćama inzistira na imenovanju članskih varijabli imenima koja počinju s `m_` (recimo `m_x`). U tom kontekstu, možemo reći da Python inzistira na imenovanju članskih varijabli imenima koja počinju sa `self.` (recimo `self.x`). :-)"
   ]
  },
  {
   "cell_type": "code",
   "execution_count": 9,
   "metadata": {},
   "outputs": [
    {
     "name": "stdout",
     "output_type": "stream",
     "text": [
      "Zbroj je\n"
     ]
    },
    {
     "ename": "AttributeError",
     "evalue": "'Klasa3' object has no attribute 'id'",
     "output_type": "error",
     "traceback": [
      "\u001b[1;31m---------------------------------------------------------------------------\u001b[0m",
      "\u001b[1;31mAttributeError\u001b[0m                            Traceback (most recent call last)",
      "\u001b[1;32m<ipython-input-9-22e5f4309ab5>\u001b[0m in \u001b[0;36m<module>\u001b[1;34m\u001b[0m\n\u001b[0;32m      5\u001b[0m \u001b[1;33m\u001b[0m\u001b[0m\n\u001b[0;32m      6\u001b[0m \u001b[0minstanca\u001b[0m \u001b[1;33m=\u001b[0m \u001b[0mKlasa3\u001b[0m\u001b[1;33m(\u001b[0m\u001b[1;33m)\u001b[0m\u001b[1;33m\u001b[0m\u001b[1;33m\u001b[0m\u001b[0m\n\u001b[1;32m----> 7\u001b[1;33m \u001b[0minstanca\u001b[0m\u001b[1;33m.\u001b[0m\u001b[0mmetoda\u001b[0m\u001b[1;33m(\u001b[0m\u001b[1;36m5\u001b[0m\u001b[1;33m,\u001b[0m \u001b[1;34m'Zbroj je'\u001b[0m\u001b[1;33m)\u001b[0m\u001b[1;33m\u001b[0m\u001b[1;33m\u001b[0m\u001b[0m\n\u001b[0m",
      "\u001b[1;32m<ipython-input-9-22e5f4309ab5>\u001b[0m in \u001b[0;36mmetoda\u001b[1;34m(self, argument, poruka)\u001b[0m\n\u001b[0;32m      2\u001b[0m     \u001b[1;32mdef\u001b[0m \u001b[0mmetoda\u001b[0m\u001b[1;33m(\u001b[0m\u001b[0mself\u001b[0m\u001b[1;33m,\u001b[0m \u001b[0margument\u001b[0m\u001b[1;33m,\u001b[0m \u001b[0mporuka\u001b[0m\u001b[1;33m)\u001b[0m\u001b[1;33m:\u001b[0m\u001b[1;33m\u001b[0m\u001b[1;33m\u001b[0m\u001b[0m\n\u001b[0;32m      3\u001b[0m         \u001b[0mprint\u001b[0m\u001b[1;33m(\u001b[0m\u001b[0mporuka\u001b[0m\u001b[1;33m)\u001b[0m\u001b[1;33m\u001b[0m\u001b[1;33m\u001b[0m\u001b[0m\n\u001b[1;32m----> 4\u001b[1;33m         \u001b[1;32mreturn\u001b[0m \u001b[0mself\u001b[0m\u001b[1;33m.\u001b[0m\u001b[0mid\u001b[0m \u001b[1;33m+\u001b[0m \u001b[0margument\u001b[0m\u001b[1;33m\u001b[0m\u001b[1;33m\u001b[0m\u001b[0m\n\u001b[0m\u001b[0;32m      5\u001b[0m \u001b[1;33m\u001b[0m\u001b[0m\n\u001b[0;32m      6\u001b[0m \u001b[0minstanca\u001b[0m \u001b[1;33m=\u001b[0m \u001b[0mKlasa3\u001b[0m\u001b[1;33m(\u001b[0m\u001b[1;33m)\u001b[0m\u001b[1;33m\u001b[0m\u001b[1;33m\u001b[0m\u001b[0m\n",
      "\u001b[1;31mAttributeError\u001b[0m: 'Klasa3' object has no attribute 'id'"
     ]
    }
   ],
   "source": [
    "class Klasa3:\n",
    "    def metoda(self, argument, poruka):\n",
    "        print(poruka)\n",
    "        return self.id + argument\n",
    "    \n",
    "instanca = Klasa3()\n",
    "instanca.metoda(5, 'Zbroj je')"
   ]
  },
  {
   "cell_type": "markdown",
   "metadata": {},
   "source": [
    "Vidimo da često moramo postavljati individualne atribute objekata koje konstruiramo na neke vrijednosti (i dobivamo grešku kad zaboravimo). To možemo raditi ručno:"
   ]
  },
  {
   "cell_type": "code",
   "execution_count": 10,
   "metadata": {},
   "outputs": [
    {
     "name": "stdout",
     "output_type": "stream",
     "text": [
      "Zbroj je\n"
     ]
    },
    {
     "data": {
      "text/plain": [
       "7"
      ]
     },
     "execution_count": 10,
     "metadata": {},
     "output_type": "execute_result"
    }
   ],
   "source": [
    "instanca.id = 2\n",
    "instanca.metoda(5, 'Zbroj je')"
   ]
  },
  {
   "cell_type": "markdown",
   "metadata": {},
   "source": [
    "... ali bilo bi daleko bolje kad bi se to automatski dogodilo konstrukcijom. C++ za to ima konstruktore, pa se u Pythonu analogna stvar često zove \"konstruktor\", iako je \"inicijalizator\" bolji naziv (jer `self` je već konstruiran, samo mu treba postaviti atribute). To je metoda imena `__init__`, koja se izvrši automatski nakon instanciranja klase (pod pretpostavkom da instanciranje stvarno vrati objekt te klase, što se događa u svim normalnim slučajevima)."
   ]
  },
  {
   "cell_type": "code",
   "execution_count": 11,
   "metadata": {},
   "outputs": [
    {
     "name": "stdout",
     "output_type": "stream",
     "text": [
      "Inicijalizacija\n",
      "Metoda\n"
     ]
    },
    {
     "data": {
      "text/plain": [
       "3"
      ]
     },
     "execution_count": 11,
     "metadata": {},
     "output_type": "execute_result"
    }
   ],
   "source": [
    "class Klasa4:\n",
    "    metoda = Klasa3.metoda  # klasni namespace je kao i svaki drugi :-)\n",
    "    \n",
    "    def __init__(self):\n",
    "        print('Inicijalizacija')\n",
    "        self.id = 0\n",
    "\n",
    "instanca = Klasa4()\n",
    "instanca.metoda(3, 'Metoda')"
   ]
  },
  {
   "cell_type": "markdown",
   "metadata": {},
   "source": [
    "Naravno, kao i u C++u, inicijalizator može imati argumente, koji mu se prenose \"pozivom\" klase."
   ]
  },
  {
   "cell_type": "code",
   "execution_count": 12,
   "metadata": {
    "scrolled": true
   },
   "outputs": [
    {
     "name": "stdout",
     "output_type": "stream",
     "text": [
      "6+1=\n"
     ]
    },
    {
     "data": {
      "text/plain": [
       "7"
      ]
     },
     "execution_count": 12,
     "metadata": {},
     "output_type": "execute_result"
    }
   ],
   "source": [
    "class Klasa5:\n",
    "    metoda = Klasa3.metoda\n",
    "    \n",
    "    def __init__(self, id):\n",
    "        self.id = id\n",
    "\n",
    "instanca = Klasa5(6)\n",
    "instanca.metoda(1, '6+1=')"
   ]
  },
  {
   "cell_type": "markdown",
   "metadata": {},
   "source": [
    "Osim `__init__`, postoji i hrpa (stotinjak) specijalnih \"magičnih\" metodâ koje omogućavaju sudjelovanje instanciranih objekata u raznim sintaksnim konstruktima, pokazat ćemo samo neke. (Puno više, iako ne sve, možete naći [ovdje](https://docs.python.org/3/reference/datamodel.html#basic-customization))."
   ]
  },
  {
   "cell_type": "code",
   "execution_count": 13,
   "metadata": {},
   "outputs": [
    {
     "name": "stdout",
     "output_type": "stream",
     "text": [
      "\\_2_/#\\_1_/\n",
      "\n",
      "\\_3_/#\\_3_/\n",
      "\n",
      "U ravnoteži\n"
     ]
    }
   ],
   "source": [
    "class Vaga:\n",
    "    def __init__(self, a, b):\n",
    "        self.a, self.b = a, b\n",
    "        \n",
    "    def __str__(self):  # pretvorba u string, npr. za print\n",
    "        return rf'\\_{self.a}_/#\\_{self.b}_/'\n",
    "    \n",
    "    def __bool__(self):  # pretvorba u bool, npr. za if\n",
    "        return self.a == self.b\n",
    "        \n",
    "    def __add__(self, other):  # zbrajanje (operator+)\n",
    "        return Vaga(self.a + other.a, self.b + other.b)\n",
    "    \n",
    "    def __invert__(self):  # operator~\n",
    "        return Vaga(self.b, self.a)\n",
    "\n",
    "v = Vaga(2, 1)\n",
    "print(v, end='\\n'*2)\n",
    "v += ~v\n",
    "print(v, end='\\n'*2)\n",
    "if v:\n",
    "    print('U ravnoteži')"
   ]
  },
  {
   "cell_type": "markdown",
   "metadata": {},
   "source": [
    "Ako nam klasa služi samo kao `struct`, odnosno za držanje većih količina imenovanih podataka na okupu, tako da sve instance imaju iste atribute, nespretno je pisati hrpu inicijalizacija."
   ]
  },
  {
   "cell_type": "code",
   "execution_count": null,
   "metadata": {},
   "outputs": [],
   "source": [
    "class Student:\n",
    "    def __init__(self, ime, jmbag, ocjene, godina_rođenja):\n",
    "        self.ime = ime\n",
    "        self.jmbag = jmbag\n",
    "        self.ocjene = ocjene\n",
    "        self.godina_rođenja = godina_rođenja\n",
    "        ...  # itd."
   ]
  },
  {
   "cell_type": "markdown",
   "metadata": {},
   "source": [
    "Tada možemo koristiti dekorator `@dataclass` iz modula `dataclasses`, gdje samo trebamo navesti (\"deklarirati\") atribute koje želimo da sve instance imaju. Iz toga automatski dobijemo odgovarajući inicijalizator, ali i lijep ispis, usporedbu po jednakosti, i još neke detalje (neke, kao što su hashiranje, uređaj i nepromjenjivost, možemo eksplicitno uključiti, pogledajte [dokumentaciju](https://docs.python.org/3/library/dataclasses.html))."
   ]
  },
  {
   "cell_type": "code",
   "execution_count": 19,
   "metadata": {},
   "outputs": [
    {
     "data": {
      "text/plain": [
       "Student(ime='Marko Lukarić', jmbag='1191555000', ocjene=[5, 4, 3, 5], godina_rođenja=1998)"
      ]
     },
     "execution_count": 19,
     "metadata": {},
     "output_type": "execute_result"
    }
   ],
   "source": [
    "from dataclasses import dataclass\n",
    "\n",
    "@dataclass\n",
    "class Student:\n",
    "    ime: str\n",
    "    jmbag: str\n",
    "    ocjene: list\n",
    "    godina_rođenja: int\n",
    "        \n",
    "    def starost(self, rođendan=True):\n",
    "        from datetime import datetime\n",
    "        trenutna_godina = datetime.now().year\n",
    "        godine = trenutna_godina - self.godina_rođenja\n",
    "        if not rođendan: godine -= 1\n",
    "        return godine\n",
    "    \n",
    "    def prosjek(self):\n",
    "        import numpy as np\n",
    "        return np.mean(self.ocjene)\n",
    "    \n",
    "    def __format__(self, frm):\n",
    "        if frm == 'novine':\n",
    "            naslov = type(self).__name__.lower()\n",
    "            ime, prezime, *_ = self.ime.split()\n",
    "            return f'{naslov} {ime[0]}.{prezime[0]}.({self.starost()})'\n",
    "        else: return format(self.ime, frm)\n",
    "\n",
    "Marko = Student('Marko Lukarić', '1191555000', [5, 4, 3, 5], 1998)\n",
    "Marko"
   ]
  },
  {
   "cell_type": "code",
   "execution_count": 20,
   "metadata": {},
   "outputs": [
    {
     "data": {
      "text/plain": [
       "'Pismo nam je poslao student M.L.(22)'"
      ]
     },
     "execution_count": 20,
     "metadata": {},
     "output_type": "execute_result"
    }
   ],
   "source": [
    "f'Pismo nam je poslao {Marko:novine}'"
   ]
  },
  {
   "cell_type": "code",
   "execution_count": 18,
   "metadata": {},
   "outputs": [
    {
     "data": {
      "text/plain": [
       "'Imam +9.2 ovaca.'"
      ]
     },
     "execution_count": 18,
     "metadata": {},
     "output_type": "execute_result"
    }
   ],
   "source": [
    "f'Imam {6+3.2:+03.2} ovaca.'"
   ]
  },
  {
   "cell_type": "markdown",
   "metadata": {},
   "source": [
    "Klase mogu nasljeđivati jedna drugu. Klase od kojih nasljeđujemo pišemo u zagradama pri deklaraciji klase. Recimo, uobičajeniji način da realiziramo klasu `Klasa4` s istom metodom `metoda` kao `Klasa3` bio bi:"
   ]
  },
  {
   "cell_type": "code",
   "execution_count": null,
   "metadata": {},
   "outputs": [],
   "source": [
    "class Klasa4(Klasa3):\n",
    "    def __init__(self):\n",
    "        ..."
   ]
  },
  {
   "cell_type": "markdown",
   "metadata": {},
   "source": [
    "(Moguća su i višestruka nasljeđivanja.) Ako želimo unutar neke metode pozvati metodu natklase (ili su-klase u slučaju suradničkog nasljeđivanja) umjesto na `self` pozivamo je na `super()`:"
   ]
  },
  {
   "cell_type": "code",
   "execution_count": 21,
   "metadata": {},
   "outputs": [
    {
     "data": {
      "text/plain": [
       "'4.0, ali prosjek brucoša je vrlo varijabilan'"
      ]
     },
     "execution_count": 21,
     "metadata": {},
     "output_type": "execute_result"
    }
   ],
   "source": [
    "class Brucoš(Student):\n",
    "    def prosjek(self):\n",
    "        p = super().prosjek()\n",
    "        return f'{p}, ali prosjek brucoša je vrlo varijabilan'\n",
    "\n",
    "t = Brucoš('Tin Kavić', '1191000555', [4], 2002)\n",
    "t.prosjek()"
   ]
  },
  {
   "cell_type": "markdown",
   "metadata": {},
   "source": [
    "## Kompliciraniji primjer: algoritmi na grafovima"
   ]
  },
  {
   "cell_type": "code",
   "execution_count": 22,
   "metadata": {},
   "outputs": [],
   "source": [
    "class Graf:\n",
    "    def __init__(self, **bridovi):\n",
    "        from collections import defaultdict\n",
    "        self.bridovi = defaultdict(int)\n",
    "        self.vrhovi = set()\n",
    "        for (početak, kraj), težina in bridovi.items():\n",
    "            self.vrhovi |= {početak, kraj}\n",
    "            self.bridovi[početak, kraj] = težina\n",
    "    \n",
    "    def minstablo(self):\n",
    "        \"\"\"Razapinjuće podstablo danog grafa, najmanje težine.\n",
    "        \n",
    "        Staza od vrha a do vrha b je konačni niz vrhova a,...,b u kojem su susjedni vrhovi povezani.\n",
    "        U stazi se ne smiju ponavljati vrhovi, osim što prvi može biti jednak zadnjem.\n",
    "        Ciklus je staza od a do a, duljine (kao konačni niz) barem 4. Stablo je graf bez ciklusa.\n",
    "        Podgraf od G je graf čiji su bridovi neki bridovi od G. Podstablo je podgraf koji je stablo.\n",
    "        Težina stabla je zbroj težinâ svih njegovih bridova.\n",
    "        Podstablo od G je razapinjuće ako ima isti skup vrhova kao G.\n",
    "        \"\"\"\n",
    "        # Kruskalov algoritam\n",
    "        h = {vrh: 0 for vrh in self.vrhovi}\n",
    "        def komponenta(vrh):\n",
    "            početak = vrh\n",
    "            while h[vrh] in self.vrhovi: vrh = h[vrh]\n",
    "            kraj = vrh\n",
    "            \n",
    "            vrh = početak\n",
    "            while h[vrh] in self.vrhovi: h[vrh], vrh = kraj, h[vrh]\n",
    "            return kraj, h[kraj]\n",
    "        \n",
    "        stablo = set()\n",
    "        još_dodati = len(self.vrhovi) - 1\n",
    "        if not još_dodati: return stablo\n",
    "        from operator import itemgetter\n",
    "        for brid in sorted(self.bridovi, key=self.bridovi.get):\n",
    "            (V1, h1), (V2, h2) = [komponenta(vrh) for vrh in brid]\n",
    "            if V1 != V2:\n",
    "                stablo.add(brid)\n",
    "                još_dodati -= 1\n",
    "                if not još_dodati: return stablo\n",
    "                if h1 < h2: h[V1] = V2\n",
    "                else: h[V2] = V1\n",
    "                if h1 == h2: h[V1] += 1"
   ]
  },
  {
   "cell_type": "code",
   "execution_count": 23,
   "metadata": {},
   "outputs": [
    {
     "data": {
      "text/plain": [
       "{('A', 'E'), ('D', 'E'), ('E', 'F'), ('F', 'B'), ('F', 'C')}"
      ]
     },
     "execution_count": 23,
     "metadata": {},
     "output_type": "execute_result"
    }
   ],
   "source": [
    "G = Graf(AD=2, AE=1, DE=1, FC=1, FB=1, CB=2, EF=2)\n",
    "G.minstablo()"
   ]
  },
  {
   "cell_type": "markdown",
   "metadata": {},
   "source": [
    "## Izuzetci"
   ]
  },
  {
   "cell_type": "markdown",
   "metadata": {},
   "source": [
    "Prilikom poziva raznih funkcija u Pythonu, mogu se dogoditi greške, nepredviđene okolnosti, ili jednostavno nešto što predstavlja odstupanje od uobičajene kontrole toka. Python u svim tim slučajevima *diže izuzetak*: funkcija signalizira svom pozivatelju da se dogodilo nešto izvan uobičajene \"evo ti argumenti, pošalji mi povratnu vrijednost\"-komunikacije. Pozivatelj može učiniti nešto po tom pitanju, nakon čega se kontrola toka (obično) vraća na uobičajenu razinu; ili to može zanemariti, u kom slučaju će *njegov* pozivatelj dobiti informaciju o izuzetku. Tako se neobrađeni izuzetak \"diže\" sve dok ga netko ne obradi -- ili do globalne razine, u kom slučaju ga Python prijavljuje korisniku kao poruku o grešci."
   ]
  },
  {
   "cell_type": "code",
   "execution_count": 31,
   "metadata": {},
   "outputs": [
    {
     "name": "stdout",
     "output_type": "stream",
     "text": [
      "početak prve funkcije\n",
      "početak druge funkcije\n"
     ]
    },
    {
     "ename": "ZeroDivisionError",
     "evalue": "division by zero",
     "output_type": "error",
     "traceback": [
      "\u001b[0;31m---------------------------------------------------------------------------\u001b[0m",
      "\u001b[0;31mZeroDivisionError\u001b[0m                         Traceback (most recent call last)",
      "\u001b[0;32m<ipython-input-31-f9d6cf359a8b>\u001b[0m in \u001b[0;36m<module>\u001b[0;34m\u001b[0m\n\u001b[1;32m      7\u001b[0m     \u001b[0;36m1\u001b[0m \u001b[0;34m/\u001b[0m \u001b[0;36m0\u001b[0m\u001b[0;34m\u001b[0m\u001b[0;34m\u001b[0m\u001b[0m\n\u001b[1;32m      8\u001b[0m     \u001b[0mprint\u001b[0m\u001b[0;34m(\u001b[0m\u001b[0;34m'kraj druge funkcije'\u001b[0m\u001b[0;34m)\u001b[0m\u001b[0;34m\u001b[0m\u001b[0;34m\u001b[0m\u001b[0m\n\u001b[0;32m----> 9\u001b[0;31m \u001b[0mprva_funkcija\u001b[0m\u001b[0;34m(\u001b[0m\u001b[0;34m)\u001b[0m\u001b[0;34m\u001b[0m\u001b[0;34m\u001b[0m\u001b[0m\n\u001b[0m",
      "\u001b[0;32m<ipython-input-31-f9d6cf359a8b>\u001b[0m in \u001b[0;36mprva_funkcija\u001b[0;34m()\u001b[0m\n\u001b[1;32m      1\u001b[0m \u001b[0;32mdef\u001b[0m \u001b[0mprva_funkcija\u001b[0m\u001b[0;34m(\u001b[0m\u001b[0;34m)\u001b[0m\u001b[0;34m:\u001b[0m\u001b[0;34m\u001b[0m\u001b[0;34m\u001b[0m\u001b[0m\n\u001b[1;32m      2\u001b[0m     \u001b[0mprint\u001b[0m\u001b[0;34m(\u001b[0m\u001b[0;34m'početak prve funkcije'\u001b[0m\u001b[0;34m)\u001b[0m\u001b[0;34m\u001b[0m\u001b[0;34m\u001b[0m\u001b[0m\n\u001b[0;32m----> 3\u001b[0;31m     \u001b[0mdruga_funkcija\u001b[0m\u001b[0;34m(\u001b[0m\u001b[0;34m)\u001b[0m\u001b[0;34m\u001b[0m\u001b[0;34m\u001b[0m\u001b[0m\n\u001b[0m\u001b[1;32m      4\u001b[0m     \u001b[0mprint\u001b[0m\u001b[0;34m(\u001b[0m\u001b[0;34m'kraj prve funkcije'\u001b[0m\u001b[0;34m)\u001b[0m\u001b[0;34m\u001b[0m\u001b[0;34m\u001b[0m\u001b[0m\n\u001b[1;32m      5\u001b[0m \u001b[0;32mdef\u001b[0m \u001b[0mdruga_funkcija\u001b[0m\u001b[0;34m(\u001b[0m\u001b[0;34m)\u001b[0m\u001b[0;34m:\u001b[0m\u001b[0;34m\u001b[0m\u001b[0;34m\u001b[0m\u001b[0m\n",
      "\u001b[0;32m<ipython-input-31-f9d6cf359a8b>\u001b[0m in \u001b[0;36mdruga_funkcija\u001b[0;34m()\u001b[0m\n\u001b[1;32m      5\u001b[0m \u001b[0;32mdef\u001b[0m \u001b[0mdruga_funkcija\u001b[0m\u001b[0;34m(\u001b[0m\u001b[0;34m)\u001b[0m\u001b[0;34m:\u001b[0m\u001b[0;34m\u001b[0m\u001b[0;34m\u001b[0m\u001b[0m\n\u001b[1;32m      6\u001b[0m     \u001b[0mprint\u001b[0m\u001b[0;34m(\u001b[0m\u001b[0;34m'početak druge funkcije'\u001b[0m\u001b[0;34m)\u001b[0m\u001b[0;34m\u001b[0m\u001b[0;34m\u001b[0m\u001b[0m\n\u001b[0;32m----> 7\u001b[0;31m     \u001b[0;36m1\u001b[0m \u001b[0;34m/\u001b[0m \u001b[0;36m0\u001b[0m\u001b[0;34m\u001b[0m\u001b[0;34m\u001b[0m\u001b[0m\n\u001b[0m\u001b[1;32m      8\u001b[0m     \u001b[0mprint\u001b[0m\u001b[0;34m(\u001b[0m\u001b[0;34m'kraj druge funkcije'\u001b[0m\u001b[0;34m)\u001b[0m\u001b[0;34m\u001b[0m\u001b[0;34m\u001b[0m\u001b[0m\n\u001b[1;32m      9\u001b[0m \u001b[0mprva_funkcija\u001b[0m\u001b[0;34m(\u001b[0m\u001b[0;34m)\u001b[0m\u001b[0;34m\u001b[0m\u001b[0;34m\u001b[0m\u001b[0m\n",
      "\u001b[0;31mZeroDivisionError\u001b[0m: division by zero"
     ]
    }
   ],
   "source": [
    "def prva_funkcija():\n",
    "    print('početak prve funkcije')\n",
    "    druga_funkcija()\n",
    "    print('kraj prve funkcije')\n",
    "def druga_funkcija():\n",
    "    print('početak druge funkcije')\n",
    "    1 / 0\n",
    "    print('kraj druge funkcije')\n",
    "prva_funkcija()"
   ]
  },
  {
   "cell_type": "markdown",
   "metadata": {},
   "source": [
    "Prateći strelice, vidimo da je prvo u 9. liniji pozvana `prva_funkcija()`, koja je u 3. liniji pozvala `druga_funkcija()`, koja je pak u 7. liniji pokušala podijeliti broj nulom i time dignula `ZeroDivisionError`. Kako taj izuzetak ni `druga_funkcija` ni `prva_funkcija` nisu obradile, prijavljen je korisniku kao greška. "
   ]
  },
  {
   "cell_type": "markdown",
   "metadata": {},
   "source": [
    "Pored ogromne i razgranate [hijerarhije izuzetaka](https://docs.python.org/3/library/exceptions.html#exception-hierarchy) možemo i proizvoditi svoje izuzetke. Stvaranje novih izuzetaka je jednostavno, sve što Python zahtijeva je da ih naslijedimo iz neke već postojeće klase izuzetaka (u korijenu je `BaseException`, ali najčešće možemo upotrijebiti nešto specijalnije, recimo `Exception` ili `RuntimeError`). Dobro je uvijek staviti _custom_ klasu izuzetaka što niže, jer će tako biti uhvaćena (i vjerojatno ispravno obrađena) u većem broju slučajeva."
   ]
  },
  {
   "cell_type": "code",
   "execution_count": 25,
   "metadata": {},
   "outputs": [
    {
     "ename": "MojIzuzetak",
     "evalue": "",
     "output_type": "error",
     "traceback": [
      "\u001b[1;31m---------------------------------------------------------------------------\u001b[0m",
      "\u001b[1;31mMojIzuzetak\u001b[0m                               Traceback (most recent call last)",
      "\u001b[1;32m<ipython-input-25-28a526100ca0>\u001b[0m in \u001b[0;36m<module>\u001b[1;34m\u001b[0m\n\u001b[0;32m      2\u001b[0m     \u001b[1;34m\"\"\"Primjer proizvodnje vlastite klase izuzetaka.\"\"\"\u001b[0m\u001b[1;33m\u001b[0m\u001b[1;33m\u001b[0m\u001b[0m\n\u001b[0;32m      3\u001b[0m \u001b[1;33m\u001b[0m\u001b[0m\n\u001b[1;32m----> 4\u001b[1;33m \u001b[1;32mraise\u001b[0m \u001b[0mMojIzuzetak\u001b[0m\u001b[1;33m\u001b[0m\u001b[1;33m\u001b[0m\u001b[0m\n\u001b[0m",
      "\u001b[1;31mMojIzuzetak\u001b[0m: "
     ]
    }
   ],
   "source": [
    "class MojIzuzetak(RuntimeError):\n",
    "    \"\"\"Primjer proizvodnje vlastite klase izuzetaka.\"\"\"\n",
    "\n",
    "raise MojIzuzetak"
   ]
  },
  {
   "cell_type": "markdown",
   "metadata": {},
   "source": [
    "Vidimo da možemo dizati izuzetke naredbom `raise`. Ako ih želimo obraditi, koristimo naredbu `try`, oblika `try...except...except...else...finally...` (ne moramo navesti sve dijelove). \n",
    "\n",
    "* `try` označava osnovni blok koda u kojem se prate izuzetci. Dobro je da bude što kraći (najčešće jedna naredba), da ne bismo slučajno maskirali izuzetak koji ne želimo.\n",
    "* `except Klasa as e` označava blok unutar kojeg se ime `e` odnosi na izuzetak klase `Klasa` ako je takav dignut za vrijeme izvršavanja osnovnog bloka. `as e` ne moramo napisati ako nas ne zanimaju konkretna instanca izuzetka, već samo njen tip.\n",
    "* `else` (u ovom kontekstu) označava blok koda koji se izvršava ako je osnovni blok završio \"uobičajeno\" (bez izuzetaka). To nije isto kao dodavanje naredbi na kraj osnovnog bloka, jer se u ovom bloku izuzetci ne prate.\n",
    "* `finally` označava blok koda koji se uvijek izvrši, bez obzira na to je li za vrijeme osnovnog bloka dignut ikakav izuzetak (bilo obrađen s `except` ili ne) ili nije. Upotrebljava se za vraćanje korištenih resursa u prvobitno stanje."
   ]
  },
  {
   "cell_type": "code",
   "execution_count": 28,
   "metadata": {},
   "outputs": [
    {
     "name": "stdout",
     "output_type": "stream",
     "text": [
      "Broj koji treba kvadrirati: 2\n",
      "4\n"
     ]
    }
   ],
   "source": [
    "try:\n",
    "    tekst = input('Broj koji treba kvadrirati: ')\n",
    "    broj = int(tekst)\n",
    "except ValueError:\n",
    "    print(f'{tekst} nije broj')\n",
    "except KeyboardInterrupt:\n",
    "    print('Unos prekinut')\n",
    "else:\n",
    "    print(broj ** 2)"
   ]
  },
  {
   "cell_type": "markdown",
   "metadata": {},
   "source": [
    "## Generatori"
   ]
  },
  {
   "cell_type": "markdown",
   "metadata": {},
   "source": [
    "Ako imamo neku kompliciranu kontrolu toka (petlje, grananja, izuzetci,...) _unutar_ koje se neki segmenti ponavljaju s manjim izmjenama, lako ih je izdvojiti u zasebnu funkciju (manje izmjene apstrahiramo kao parametre) koju onda pozovemo kad treba. No što ako je _vanjska_ struktura takva da je želimo izdvojiti u funkciju?\n",
    "\n",
    "Čest slučaj su višestruke petlje s raznim uvjetima. Recimo, za zadani $n$, želimo da $x$ ide od $0$ do isključivo $n$, a $y$ je uvijek \"blizu\" $x$ (u smislu da je $|x-y|\\le1$), ali tako da ne izađe iz raspona varijable $x$.\n",
    "\n",
    "    for x in range(n):\n",
    "        for delta in -1, 0, 1:\n",
    "            y = x + delta\n",
    "            if y in range(n):\n",
    "                ... napravi nešto s x i y\n",
    "    for x in range(m):\n",
    "        for delta in -1, 0, 1:\n",
    "            y = x + delta\n",
    "            if y in range(m):\n",
    "                ... napravi nešto drugo s x i y\n",
    "    ...\n",
    "    \n",
    "Dakle, želimo \"okvir\" apstrahirati u zasebnu funkciju (s parametrom $n$), a unutarnje dijelove ostaviti u glavnom kodu:\n",
    "\n",
    "    for x, y in susjedi_do(n): ... napravi nešto s x i y\n",
    "    for x, y in susjedi_do(m): ... napravi nešto drugo s x i y"
   ]
  },
  {
   "cell_type": "markdown",
   "metadata": {},
   "source": [
    "Jedno rješenje je svakako napraviti funkciju koja vraća listu parova. Tu listu možemo izgraditi i komprehenzijom ako je dovoljno jednostavna. No to predstavlja besmisleni utrošak memorije: za $n=10^6$, imat ćemo oko tri milijuna parova brojeva odjednom u memoriji, a zapravo nam trebaju samo jedan po jedan par.\n",
    "\n",
    "Rješenje je upotreba _generatora_. Generatori su funkcije koje mogu dati nešto pozivatelju, ali ne kao povratnu vrijednost (završavajući time svoje izvršavanje), već neodređeni broj objekata jedan po jedan. Da bismo istaknuli razliku u semantici od običnih funkcija, umjesto `return` u generatorima koristimo `yield`."
   ]
  },
  {
   "cell_type": "code",
   "execution_count": 29,
   "metadata": {},
   "outputs": [],
   "source": [
    "def susjedi_do(n):\n",
    "    for x in range(n):\n",
    "        for delta in -1, 0, 1:\n",
    "            y = x + delta\n",
    "            if y in range(n):\n",
    "                yield x, y"
   ]
  },
  {
   "cell_type": "code",
   "execution_count": 30,
   "metadata": {},
   "outputs": [
    {
     "name": "stdout",
     "output_type": "stream",
     "text": [
      "617283 617284\n",
      "617284 617283\n",
      "--------------------\n",
      "1 0\n",
      "2 1\n",
      "3 2\n"
     ]
    }
   ],
   "source": [
    "for x, y in susjedi_do(10**6):\n",
    "    if x + y == 1234567: print(x, y)\n",
    "print('-'*20)\n",
    "for prvi, drugi in susjedi_do(100):\n",
    "    if prvi**drugi == drugi**prvi + 1: print(prvi, drugi)"
   ]
  },
  {
   "cell_type": "markdown",
   "metadata": {},
   "source": [
    "Generatori (precizno, njihove povratne vrijednosti) su vrsta *iteratora*, objekata po kojima se može iterirati. Sučelje za rad s iteratorima predstavlja funkcija `next`, koja daje sljedeći element ili diže `StopIteration`."
   ]
  },
  {
   "cell_type": "code",
   "execution_count": 31,
   "metadata": {},
   "outputs": [],
   "source": [
    "g = susjedi_do(2)"
   ]
  },
  {
   "cell_type": "code",
   "execution_count": 32,
   "metadata": {},
   "outputs": [
    {
     "data": {
      "text/plain": [
       "(0, 0)"
      ]
     },
     "execution_count": 32,
     "metadata": {},
     "output_type": "execute_result"
    }
   ],
   "source": [
    "next(g)"
   ]
  },
  {
   "cell_type": "code",
   "execution_count": 33,
   "metadata": {},
   "outputs": [
    {
     "data": {
      "text/plain": [
       "((0, 1, 1, 0), (1, 1))"
      ]
     },
     "execution_count": 33,
     "metadata": {},
     "output_type": "execute_result"
    }
   ],
   "source": [
    "next(g) + next(g), next(g)"
   ]
  },
  {
   "cell_type": "code",
   "execution_count": 34,
   "metadata": {},
   "outputs": [
    {
     "ename": "StopIteration",
     "evalue": "",
     "output_type": "error",
     "traceback": [
      "\u001b[1;31m---------------------------------------------------------------------------\u001b[0m",
      "\u001b[1;31mStopIteration\u001b[0m                             Traceback (most recent call last)",
      "\u001b[1;32m<ipython-input-34-e734f8aca5ac>\u001b[0m in \u001b[0;36m<module>\u001b[1;34m\u001b[0m\n\u001b[1;32m----> 1\u001b[1;33m \u001b[0mnext\u001b[0m\u001b[1;33m(\u001b[0m\u001b[0mg\u001b[0m\u001b[1;33m)\u001b[0m\u001b[1;33m\u001b[0m\u001b[1;33m\u001b[0m\u001b[0m\n\u001b[0m",
      "\u001b[1;31mStopIteration\u001b[0m: "
     ]
    }
   ],
   "source": [
    "next(g)"
   ]
  },
  {
   "cell_type": "markdown",
   "metadata": {},
   "source": [
    "Osim iteratora, mnogi drugi objekti (npr. spremnici) su *iterabilni*, u smislu da se funkcijom `iter` može dobiti iterator koji prolazi kroz njihove elemente. Razlika između iterabilnih objekata i iteratora je u tome što su iteratori \"za jednokratnu upotrebu\", odnosno služe za jedan prolaz kroz iterabilni objekt. Npr. gornji `g` je sada beskoristan, ne možemo ga \"premotati\" -- ali u slučaju spremnika, uvijek možemo funkcijom `iter` dobiti novi iterator kroz njih."
   ]
  },
  {
   "cell_type": "code",
   "execution_count": 35,
   "metadata": {},
   "outputs": [],
   "source": [
    "lista = [8, 7, 17, 3]"
   ]
  },
  {
   "cell_type": "code",
   "execution_count": 28,
   "metadata": {},
   "outputs": [
    {
     "data": {
      "text/plain": [
       "(8, 7)"
      ]
     },
     "execution_count": 28,
     "metadata": {},
     "output_type": "execute_result"
    }
   ],
   "source": [
    "i1 = iter(lista)\n",
    "next(i1), next(i1)"
   ]
  },
  {
   "cell_type": "code",
   "execution_count": 29,
   "metadata": {},
   "outputs": [
    {
     "data": {
      "text/plain": [
       "(8, 17, 7)"
      ]
     },
     "execution_count": 29,
     "metadata": {},
     "output_type": "execute_result"
    }
   ],
   "source": [
    "i2 = iter(lista)\n",
    "next(i2), next(i1), next(i2)"
   ]
  },
  {
   "cell_type": "code",
   "execution_count": 36,
   "metadata": {},
   "outputs": [],
   "source": [
    "import itertools"
   ]
  },
  {
   "cell_type": "code",
   "execution_count": null,
   "metadata": {},
   "outputs": [],
   "source": []
  }
 ],
 "metadata": {
  "kernelspec": {
   "display_name": "Python 3",
   "language": "python",
   "name": "python3"
  },
  "language_info": {
   "codemirror_mode": {
    "name": "ipython",
    "version": 3
   },
   "file_extension": ".py",
   "mimetype": "text/x-python",
   "name": "python",
   "nbconvert_exporter": "python",
   "pygments_lexer": "ipython3",
   "version": "3.7.4"
  }
 },
 "nbformat": 4,
 "nbformat_minor": 2
}
