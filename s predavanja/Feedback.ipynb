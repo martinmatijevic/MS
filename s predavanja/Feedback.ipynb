{
 "cells": [
  {
   "cell_type": "code",
   "execution_count": 2,
   "metadata": {},
   "outputs": [],
   "source": [
    "feedback = iter('''\\\n",
    "Najnejasniji dio gradiva mi je Numpy pa mi je i iz tog dijela bilo najteže napisati zadaću. Općenito, gradivo samo po sebi nije toliki problem koliko mi je problem što ne znam \"što se sve nudi\" pa uvijek krenem na neki komplicirani način. Mislim da bi bilo korisno kada biste objavili rješenja zadaća (Vaša ili od nekog studenta koji je to najbolje riješio) kako bi mogli usporediti neke stvari i vidjeti kako smo to mogli elegantnije napraviti. Sve u svemu, kolegij je dobro organiziran, veći problem je manjak vremena zbog ostalih zadaća. Ako bi mogli možda prokomentirati postoji li neki jednostavniji način upisivanja brojeva u pravokutnike (vezano uz zadaću zlatni rez) od namještanja fonta za određene n-ove, odnosno kako bi to mogli napraviti da radi i za brojeve veće od 9.\n",
    "Imala sam problema s numpyjem, pa bi to bilo korisno.\n",
    "Malo detaljnije objasnit OOP, odnosno razlike izmdeu c++-a i python-a.\n",
    "Ne vezano uz samo predavanje, ako bi mogli produžiti malo rok za predaju eseja, jer u tom tjednu imamo predaje projekata iz RP2, IP, Strojnog učenja i OS-a, barem mi sa računarstva.\n",
    "Manipuliranje odnosno ispravno koristenje pythonovih kolekcija podataka (liste,rijcnici, mozda malo detaljnije i o numpyjevim arrayevima i pandasovim data frameovima...), ucitavanje podataka iz datoteka i jsona te kako onda korsititi te podatke (dakle npr ako ucitamo json kako izvuci pojedine informacije iz njega, ili iterirati po sadrzaju), upisivanje u datoteke, pokretanje skripti (integracija s bashom?), iteriranje po folderima/fileovima kako bi izvukli zeljene informacije, sto se tice grafickog dijela i matplotliba, tu je dosta toga jasnije, mozda mi je tijekom pisanja zadace nedostajala ideja o tome kako uopce krenuti (kako se organizirati kad se tako nesto radi, kako poceti, sto poceti iscrtavati i zapisivati - ne znam ako ovaj komentar ima smisla ali to mi je stvaralo probleme). Veliki problem vidim i u koristenju komprehenzija (konkretno, valjda zato sto imam C++-ovski pogled na stvari, tesko mi je razmisljati u tom smjeru i naviknuti se da ih koristim, a kada bi ih i zeljela koristiti tesko mi je to napraviti tocno, pogotovo jer sam primjetila da se dosta toga u pythonu moze ulancavati npr lista.sort().appen().jos_nesto() itd. i slicne stvari s komprehenzijama, tesko mi je shvatiti sto sve mogu \"strpati\" zajedno, a jos teze sintaksno to napraviti uspjesno)\n",
    "1. Koliko je zapravo korisna funkcija np.vectorize()? Čini mi se da ste dosta stavljali naglasak na nju u zadaći/bilježnici, ali ako sam dobro shvatio, ona zapravo običnom for-petljom vektorizira funkciju pa nije neko \"prepametno\" rješenje kao i obična petlja. (npr. čini mi se ista stvar da mi sami \"ručno\" napišemo funkciju koja s for-petljom vektorizira funkciju ili da primjenimo np.vectorize(). Naravno, lakše je samo pozvati funkciju, ali nekad je sintaksa problem pa se zapetljam.\n",
    "https://stackoverflow.com/questions/38709313/numpy-vectorize-multidimensional-function\n",
    "\n",
    "2. Ako možete malo objasniti funkcije i argumente funkcija add_subplot() i set_aspect()\n",
    "https://stackoverflow.com/questions/7965743/how-can-i-set-the-aspect-ratio-in-matplotlib\n",
    "numpy, matplotlib\n",
    "Za sada sva gradiva koja smo obradili bila su mi jasna, ali smatram da bi mozda neki video predavanja bio koristan jer uživo na predavanjima profesori i asistenti uvijek ubace neke detalje koje se možda u vrijeme pisanja materijala nisu sjetili, a i pričanjem o gradivu na kraju dobije nekakvog smisla.\n",
    "Rado bih vidio kakav osvrt na dosadašnje zadaće: koje su možda bile greške, što se moglo riješiti lakše i jednostavnije.\n",
    "'''.splitlines())"
   ]
  },
  {
   "cell_type": "code",
   "execution_count": 3,
   "metadata": {},
   "outputs": [
    {
     "data": {
      "text/plain": [
       "'Najnejasniji dio gradiva mi je Numpy pa mi je i iz tog dijela bilo najteže napisati zadaću. Općenito, gradivo samo po sebi nije toliki problem koliko mi je problem što ne znam \"što se sve nudi\" pa uvijek krenem na neki komplicirani način. Mislim da bi bilo korisno kada biste objavili rješenja zadaća (Vaša ili od nekog studenta koji je to najbolje riješio) kako bi mogli usporediti neke stvari i vidjeti kako smo to mogli elegantnije napraviti. Sve u svemu, kolegij je dobro organiziran, veći problem je manjak vremena zbog ostalih zadaća. Ako bi mogli možda prokomentirati postoji li neki jednostavniji način upisivanja brojeva u pravokutnike (vezano uz zadaću zlatni rez) od namještanja fonta za određene n-ove, odnosno kako bi to mogli napraviti da radi i za brojeve veće od 9.'"
      ]
     },
     "execution_count": 3,
     "metadata": {},
     "output_type": "execute_result"
    }
   ],
   "source": [
    "next(feedback)"
   ]
  },
  {
   "cell_type": "code",
   "execution_count": 4,
   "metadata": {},
   "outputs": [
    {
     "data": {
      "text/plain": [
       "'Imala sam problema s numpyjem, pa bi to bilo korisno.'"
      ]
     },
     "execution_count": 4,
     "metadata": {},
     "output_type": "execute_result"
    }
   ],
   "source": [
    "next(feedback)"
   ]
  },
  {
   "cell_type": "code",
   "execution_count": 5,
   "metadata": {},
   "outputs": [
    {
     "data": {
      "text/plain": [
       "'Malo detaljnije objasnit OOP, odnosno razlike izmdeu c++-a i python-a.'"
      ]
     },
     "execution_count": 5,
     "metadata": {},
     "output_type": "execute_result"
    }
   ],
   "source": [
    "next(feedback)"
   ]
  },
  {
   "cell_type": "code",
   "execution_count": 6,
   "metadata": {},
   "outputs": [
    {
     "data": {
      "text/plain": [
       "'Ne vezano uz samo predavanje, ako bi mogli produžiti malo rok za predaju eseja, jer u tom tjednu imamo predaje projekata iz RP2, IP, Strojnog učenja i OS-a, barem mi sa računarstva.'"
      ]
     },
     "execution_count": 6,
     "metadata": {},
     "output_type": "execute_result"
    }
   ],
   "source": [
    "next(feedback)"
   ]
  },
  {
   "cell_type": "code",
   "execution_count": 7,
   "metadata": {},
   "outputs": [
    {
     "data": {
      "text/plain": [
       "'Manipuliranje odnosno ispravno koristenje pythonovih kolekcija podataka (liste,rijcnici, mozda malo detaljnije i o numpyjevim arrayevima i pandasovim data frameovima...), ucitavanje podataka iz datoteka i jsona te kako onda korsititi te podatke (dakle npr ako ucitamo json kako izvuci pojedine informacije iz njega, ili iterirati po sadrzaju), upisivanje u datoteke, pokretanje skripti (integracija s bashom?), iteriranje po folderima/fileovima kako bi izvukli zeljene informacije, sto se tice grafickog dijela i matplotliba, tu je dosta toga jasnije, mozda mi je tijekom pisanja zadace nedostajala ideja o tome kako uopce krenuti (kako se organizirati kad se tako nesto radi, kako poceti, sto poceti iscrtavati i zapisivati - ne znam ako ovaj komentar ima smisla ali to mi je stvaralo probleme). Veliki problem vidim i u koristenju komprehenzija (konkretno, valjda zato sto imam C++-ovski pogled na stvari, tesko mi je razmisljati u tom smjeru i naviknuti se da ih koristim, a kada bi ih i zeljela koristiti tesko mi je to napraviti tocno, pogotovo jer sam primjetila da se dosta toga u pythonu moze ulancavati npr lista.sort().appen().jos_nesto() itd. i slicne stvari s komprehenzijama, tesko mi je shvatiti sto sve mogu \"strpati\" zajedno, a jos teze sintaksno to napraviti uspjesno)'"
      ]
     },
     "execution_count": 7,
     "metadata": {},
     "output_type": "execute_result"
    }
   ],
   "source": [
    "next(feedback)"
   ]
  },
  {
   "cell_type": "code",
   "execution_count": 8,
   "metadata": {},
   "outputs": [
    {
     "data": {
      "text/plain": [
       "'1. Koliko je zapravo korisna funkcija np.vectorize()? Čini mi se da ste dosta stavljali naglasak na nju u zadaći/bilježnici, ali ako sam dobro shvatio, ona zapravo običnom for-petljom vektorizira funkciju pa nije neko \"prepametno\" rješenje kao i obična petlja. (npr. čini mi se ista stvar da mi sami \"ručno\" napišemo funkciju koja s for-petljom vektorizira funkciju ili da primjenimo np.vectorize(). Naravno, lakše je samo pozvati funkciju, ali nekad je sintaksa problem pa se zapetljam.'"
      ]
     },
     "execution_count": 8,
     "metadata": {},
     "output_type": "execute_result"
    }
   ],
   "source": [
    "next(feedback)"
   ]
  },
  {
   "cell_type": "code",
   "execution_count": 9,
   "metadata": {},
   "outputs": [
    {
     "data": {
      "text/plain": [
       "'https://stackoverflow.com/questions/38709313/numpy-vectorize-multidimensional-function'"
      ]
     },
     "execution_count": 9,
     "metadata": {},
     "output_type": "execute_result"
    }
   ],
   "source": [
    "next(feedback)"
   ]
  },
  {
   "cell_type": "code",
   "execution_count": 10,
   "metadata": {},
   "outputs": [
    {
     "data": {
      "text/plain": [
       "''"
      ]
     },
     "execution_count": 10,
     "metadata": {},
     "output_type": "execute_result"
    }
   ],
   "source": [
    "next(feedback)"
   ]
  },
  {
   "cell_type": "code",
   "execution_count": 11,
   "metadata": {},
   "outputs": [
    {
     "data": {
      "text/plain": [
       "'2. Ako možete malo objasniti funkcije i argumente funkcija add_subplot() i set_aspect()'"
      ]
     },
     "execution_count": 11,
     "metadata": {},
     "output_type": "execute_result"
    }
   ],
   "source": [
    "next(feedback)"
   ]
  },
  {
   "cell_type": "code",
   "execution_count": 12,
   "metadata": {},
   "outputs": [
    {
     "data": {
      "text/plain": [
       "'https://stackoverflow.com/questions/7965743/how-can-i-set-the-aspect-ratio-in-matplotlib'"
      ]
     },
     "execution_count": 12,
     "metadata": {},
     "output_type": "execute_result"
    }
   ],
   "source": [
    "next(feedback)"
   ]
  },
  {
   "cell_type": "code",
   "execution_count": 13,
   "metadata": {},
   "outputs": [
    {
     "data": {
      "text/plain": [
       "'numpy, matplotlib'"
      ]
     },
     "execution_count": 13,
     "metadata": {},
     "output_type": "execute_result"
    }
   ],
   "source": [
    "next(feedback)"
   ]
  },
  {
   "cell_type": "code",
   "execution_count": 14,
   "metadata": {},
   "outputs": [
    {
     "data": {
      "text/plain": [
       "'Za sada sva gradiva koja smo obradili bila su mi jasna, ali smatram da bi mozda neki video predavanja bio koristan jer uživo na predavanjima profesori i asistenti uvijek ubace neke detalje koje se možda u vrijeme pisanja materijala nisu sjetili, a i pričanjem o gradivu na kraju dobije nekakvog smisla.'"
      ]
     },
     "execution_count": 14,
     "metadata": {},
     "output_type": "execute_result"
    }
   ],
   "source": [
    "next(feedback)"
   ]
  },
  {
   "cell_type": "code",
   "execution_count": 15,
   "metadata": {},
   "outputs": [
    {
     "data": {
      "text/plain": [
       "'Rado bih vidio kakav osvrt na dosadašnje zadaće: koje su možda bile greške, što se moglo riješiti lakše i jednostavnije.'"
      ]
     },
     "execution_count": 15,
     "metadata": {},
     "output_type": "execute_result"
    }
   ],
   "source": [
    "next(feedback)"
   ]
  },
  {
   "cell_type": "code",
   "execution_count": 16,
   "metadata": {},
   "outputs": [
    {
     "ename": "StopIteration",
     "evalue": "",
     "output_type": "error",
     "traceback": [
      "\u001b[0;31m---------------------------------------------------------------------------\u001b[0m",
      "\u001b[0;31mStopIteration\u001b[0m                             Traceback (most recent call last)",
      "\u001b[0;32m<ipython-input-16-0903abcad3bb>\u001b[0m in \u001b[0;36m<module>\u001b[0;34m\u001b[0m\n\u001b[0;32m----> 1\u001b[0;31m \u001b[0mnext\u001b[0m\u001b[0;34m(\u001b[0m\u001b[0mfeedback\u001b[0m\u001b[0;34m)\u001b[0m\u001b[0;34m\u001b[0m\u001b[0;34m\u001b[0m\u001b[0m\n\u001b[0m",
      "\u001b[0;31mStopIteration\u001b[0m: "
     ]
    }
   ],
   "source": [
    "next(feedback)"
   ]
  }
 ],
 "metadata": {
  "kernelspec": {
   "display_name": "Python 3",
   "language": "python",
   "name": "python3"
  },
  "language_info": {
   "codemirror_mode": {
    "name": "ipython",
    "version": 3
   },
   "file_extension": ".py",
   "mimetype": "text/x-python",
   "name": "python",
   "nbconvert_exporter": "python",
   "pygments_lexer": "ipython3",
   "version": "3.7.4"
  }
 },
 "nbformat": 4,
 "nbformat_minor": 4
}
