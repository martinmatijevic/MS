{
 "cells": [
  {
   "cell_type": "markdown",
   "metadata": {},
   "source": [
    "# Pandas bootcamp - Zadaća"
   ]
  },
  {
   "cell_type": "code",
   "execution_count": 1,
   "metadata": {},
   "outputs": [],
   "source": [
    "import numpy as np\n",
    "import pandas as pd"
   ]
  },
  {
   "cell_type": "markdown",
   "metadata": {},
   "source": [
    "Ako zelimo ucitat iz prilozene csv datoteke onda treba postaviti ovu celiju na Code,\n",
    "a dvije Code celije ispod na Markdown."
   ]
  },
  {
   "cell_type": "markdown",
   "metadata": {},
   "source": [
    "podaci = pd.read_csv('Pandas Bootcamp.csv', encoding='utf-8')\n",
    "podaci.head()"
   ]
  },
  {
   "cell_type": "markdown",
   "metadata": {},
   "source": [
    "Radi jednostavnosti ispravljanja, kopirat cemo dirktno podatke u DataFrame."
   ]
  },
  {
   "cell_type": "code",
   "execution_count": 2,
   "metadata": {
    "scrolled": true
   },
   "outputs": [
    {
     "data": {
      "text/html": [
       "<div>\n",
       "<style scoped>\n",
       "    .dataframe tbody tr th:only-of-type {\n",
       "        vertical-align: middle;\n",
       "    }\n",
       "\n",
       "    .dataframe tbody tr th {\n",
       "        vertical-align: top;\n",
       "    }\n",
       "\n",
       "    .dataframe thead th {\n",
       "        text-align: right;\n",
       "    }\n",
       "</style>\n",
       "<table border=\"1\" class=\"dataframe\">\n",
       "  <thead>\n",
       "    <tr style=\"text-align: right;\">\n",
       "      <th></th>\n",
       "      <th>date</th>\n",
       "      <th>num</th>\n",
       "      <th>num2</th>\n",
       "      <th>str</th>\n",
       "      <th>str2</th>\n",
       "    </tr>\n",
       "  </thead>\n",
       "  <tbody>\n",
       "    <tr>\n",
       "      <td>0</td>\n",
       "      <td>2014-03-04</td>\n",
       "      <td>300</td>\n",
       "      <td>952.832706</td>\n",
       "      <td>boy</td>\n",
       "      <td>green</td>\n",
       "    </tr>\n",
       "    <tr>\n",
       "      <td>1</td>\n",
       "      <td>2014-03-31</td>\n",
       "      <td>428</td>\n",
       "      <td>465.364555</td>\n",
       "      <td>boy</td>\n",
       "      <td>red</td>\n",
       "    </tr>\n",
       "    <tr>\n",
       "      <td>2</td>\n",
       "      <td>2014-04-11</td>\n",
       "      <td>723</td>\n",
       "      <td>878.203092</td>\n",
       "      <td>boy</td>\n",
       "      <td>green</td>\n",
       "    </tr>\n",
       "    <tr>\n",
       "      <td>3</td>\n",
       "      <td>2014-05-11</td>\n",
       "      <td>860</td>\n",
       "      <td>194.985889</td>\n",
       "      <td>girl</td>\n",
       "      <td>yellow</td>\n",
       "    </tr>\n",
       "    <tr>\n",
       "      <td>4</td>\n",
       "      <td>2014-05-27</td>\n",
       "      <td>155</td>\n",
       "      <td>460.987946</td>\n",
       "      <td>boy</td>\n",
       "      <td>red</td>\n",
       "    </tr>\n",
       "  </tbody>\n",
       "</table>\n",
       "</div>"
      ],
      "text/plain": [
       "         date  num        num2   str    str2\n",
       "0  2014-03-04  300  952.832706   boy   green\n",
       "1  2014-03-31  428  465.364555   boy     red\n",
       "2  2014-04-11  723  878.203092   boy   green\n",
       "3  2014-05-11  860  194.985889  girl  yellow\n",
       "4  2014-05-27  155  460.987946   boy     red"
      ]
     },
     "execution_count": 2,
     "metadata": {},
     "output_type": "execute_result"
    }
   ],
   "source": [
    "podaci = pd.DataFrame([[\"2014-03-04\",\"300\",\"952.832706\",\"boy\",\"green\"],\n",
    "[\"2014-03-31\",\"428\",\"465.364555\",\"boy\",\"red\"],\n",
    "[\"2014-04-11\",\"723\",\"878.203092\",\"boy\",\"green\"],\n",
    "[\"2014-05-11\",\"860\",\"194.985889\",\"girl\",\"yellow\"],\n",
    "[\"2014-05-27\",\"155\",\"460.987946\",\"boy\",\"red\"],\n",
    "[\"2014-05-27\",\"437\",\"694.223097\",\"boy\",\"green\"],\n",
    "[\"2014-06-29\",\"720\",\"387.680953\",\"boy\",\"red\"],\n",
    "[\"2014-08-17\",\"696\",\"774.897015\",\"girl\",\"green\"],\n",
    "[\"2014-08-20\",\"786\",\"199.430695\",\"girl\",\"blue\"],\n",
    "[\"2014-09-26\",\"873\",\"183.592237\",\"boy\",\"red\"],\n",
    "[\"2014-10-23\",\"357\",\"102.774363\",\"boy\",\"red\"],\n",
    "[\"2014-10-29\",\"497\",\"119.828422\",\"girl\",\"yellow\"],\n",
    "[\"2014-11-25\",\"322\",\"119.102962\",\"boy\",\"green\"],\n",
    "[\"2014-11-28\",\"964\",\"579.369511\",\"boy\",\"purple\"],\n",
    "[\"2014-12-03\",\"320\",\"247.427160\",\"girl\",\"yellow\"],\n",
    "[\"2014-12-23\",\"62\",\"787.836626\",\"boy\",\"yellow\"],\n",
    "[\"2015-01-01\",\"212\",\"310.383853\",\"girl\",\"yellow\"],\n",
    "[\"2015-02-01\",\"97\",\"498.973685\",\"girl\",\"blue\"],\n",
    "[\"2015-02-16\",\"774\",\"110.680015\",\"girl\",\"blue\"],\n",
    "[\"2015-02-18\",\"291\",\"843.984553\",\"girl\",\"yellow\"],\n",
    "[\"2015-02-26\",\"200\",\"768.264990\",\"boy\",\"green\"],\n",
    "[\"2015-03-01\",\"37\",\"249.788150\",\"boy\",\"yellow\"],\n",
    "[\"2015-03-02\",\"977\",\"809.167848\",\"boy\",\"blue\"],\n",
    "[\"2015-03-03\",\"356\",\"508.627272\",\"girl\",\"purple\"],\n",
    "[\"2015-04-05\",\"11\",\"445.899128\",\"boy\",\"yellow\"],\n",
    "[\"2015-04-07\",\"58\",\"277.709841\",\"boy\",\"purple\"],\n",
    "[\"2015-04-21\",\"926\",\"949.267018\",\"boy\",\"purple\"],\n",
    "[\"2015-05-02\",\"596\",\"963.376961\",\"boy\",\"green\"],\n",
    "[\"2015-06-04\",\"387\",\"712.491756\",\"boy\",\"yellow\"],\n",
    "[\"2015-07-11\",\"422\",\"562.153338\",\"girl\",\"yellow\"],\n",
    "[\"2015-08-13\",\"723\",\"260.237361\",\"boy\",\"purple\"],\n",
    "[\"2015-08-14\",\"629\",\"224.010859\",\"boy\",\"blue\"],\n",
    "[\"2015-08-20\",\"858\",\"528.584456\",\"girl\",\"purple\"],\n",
    "[\"2015-09-07\",\"153\",\"999.563128\",\"girl\",\"purple\"],\n",
    "[\"2015-10-01\",\"411\",\"900.576673\",\"boy\",\"red\"],\n",
    "[\"2015-10-06\",\"721\",\"832.925401\",\"boy\",\"red\"],\n",
    "[\"2015-10-09\",\"905\",\"44.905768\",\"boy\",\"blue\"],\n",
    "[\"2015-12-01\",\"404\",\"534.427466\",\"boy\",\"purple\"],\n",
    "[\"2015-12-29\",\"672\",\"909.304653\",\"girl\",\"yellow\"],\n",
    "[\"2016-03-22\",\"365\",\"44.381779\",\"girl\",\"green\"],\n",
    "[\"2016-03-28\",\"732\",\"972.696331\",\"girl\",\"purple\"],\n",
    "[\"2016-04-01\",\"146\",\"273.671177\",\"girl\",\"yellow\"],\n",
    "[\"2016-04-03\",\"65\",\"338.246237\",\"boy\",\"blue\"],\n",
    "[\"2016-05-19\",\"875\",\"520.096337\",\"girl\",\"yellow\"],\n",
    "[\"2016-05-30\",\"960\",\"29.565442\",\"boy\",\"blue\"],\n",
    "[\"2016-06-01\",\"861\",\"326.040039\",\"boy\",\"yellow\"],\n",
    "[\"2016-06-18\",\"828\",\"451.811979\",\"boy\",\"yellow\"],\n",
    "[\"2016-07-20\",\"799\",\"85.787864\",\"boy\",\"blue\"],\n",
    "[\"2016-08-07\",\"48\",\"162.637139\",\"girl\",\"green\"],\n",
    "[\"2016-09-14\",\"213\",\"467.285634\",\"boy\",\"purple\"]],\n",
    "         columns=[\"date\",\"num\",\"num2\",\"str\",\"str2\"])\n",
    "\n",
    "podaci.head()"
   ]
  },
  {
   "cell_type": "markdown",
   "metadata": {},
   "source": [
    "Trebamo jos postavit prave tipove podataka u stupacima, kakvi bi bili da smo ucitali csv datoteku."
   ]
  },
  {
   "cell_type": "code",
   "execution_count": 3,
   "metadata": {},
   "outputs": [],
   "source": [
    "podaci['num'] = pd.to_numeric(podaci['num'])\n",
    "podaci['num2'] = pd.to_numeric(podaci['num2'])"
   ]
  },
  {
   "cell_type": "markdown",
   "metadata": {},
   "source": [
    "#### Zadatak 1:\n",
    "Find the least popular string in column str2. Filter by str2 where the string equals the least popular string. Find the sum of column num."
   ]
  },
  {
   "cell_type": "code",
   "execution_count": 4,
   "metadata": {},
   "outputs": [
    {
     "data": {
      "text/plain": [
       "3665"
      ]
     },
     "execution_count": 4,
     "metadata": {},
     "output_type": "execute_result"
    }
   ],
   "source": [
    "podaci.loc[podaci[\"str2\"] == podaci[\"str2\"].value_counts().index.tolist()[-1], \"num\"].sum()"
   ]
  },
  {
   "cell_type": "code",
   "execution_count": 9,
   "metadata": {},
   "outputs": [
    {
     "data": {
      "text/plain": [
       "yellow    15\n",
       "purple    10\n",
       "blue       9\n",
       "green      9\n",
       "red        7\n",
       "Name: str2, dtype: int64"
      ]
     },
     "execution_count": 9,
     "metadata": {},
     "output_type": "execute_result"
    }
   ],
   "source": [
    "import pandas as pd\n",
    "podaci['str2'].value_counts()"
   ]
  },
  {
   "cell_type": "markdown",
   "metadata": {},
   "source": [
    "#### Zadatak 2:\n",
    "Find the row with the smallest date. Subtract num - num2."
   ]
  },
  {
   "cell_type": "code",
   "execution_count": 5,
   "metadata": {},
   "outputs": [
    {
     "data": {
      "text/plain": [
       "-652.832706"
      ]
     },
     "execution_count": 5,
     "metadata": {},
     "output_type": "execute_result"
    }
   ],
   "source": [
    "float(podaci.loc[podaci['date'] == podaci['date'].min(), 'num'] - podaci.loc[podaci['date'] == podaci['date'].min(), 'num2'])"
   ]
  },
  {
   "cell_type": "markdown",
   "metadata": {},
   "source": [
    "#### Zadatak 3:\n",
    "What is the average of column num2?"
   ]
  },
  {
   "cell_type": "code",
   "execution_count": 6,
   "metadata": {},
   "outputs": [
    {
     "data": {
      "text/plain": [
       "481.3212272"
      ]
     },
     "execution_count": 6,
     "metadata": {},
     "output_type": "execute_result"
    }
   ],
   "source": [
    "podaci['num2'].mean()"
   ]
  },
  {
   "cell_type": "markdown",
   "metadata": {},
   "source": [
    "#### Zadatak 4:\n",
    "Create a new column called \"Letter\". This column is the sum of the lengths of columns str and str2. Then divide the column num by Letter. Pick the second smallest number."
   ]
  },
  {
   "cell_type": "code",
   "execution_count": 14,
   "metadata": {},
   "outputs": [
    {
     "data": {
      "text/plain": [
       "0      37.500000\n",
       "1      71.333333\n",
       "2      90.375000\n",
       "3      86.000000\n",
       "4      25.833333\n",
       "5      54.625000\n",
       "6     120.000000\n",
       "7      77.333333\n",
       "8      98.250000\n",
       "9     145.500000\n",
       "10     59.500000\n",
       "11     49.700000\n",
       "12     40.250000\n",
       "13    107.111111\n",
       "14     32.000000\n",
       "15      6.888889\n",
       "16     21.200000\n",
       "17     12.125000\n",
       "18     96.750000\n",
       "19     29.100000\n",
       "20     25.000000\n",
       "21      4.111111\n",
       "22    139.571429\n",
       "23     35.600000\n",
       "24      1.222222\n",
       "25      6.444444\n",
       "26    102.888889\n",
       "27     74.500000\n",
       "28     43.000000\n",
       "29     42.200000\n",
       "30     80.333333\n",
       "31     89.857143\n",
       "32     85.800000\n",
       "33     15.300000\n",
       "34     68.500000\n",
       "35    120.166667\n",
       "36    129.285714\n",
       "37     44.888889\n",
       "38     67.200000\n",
       "39     40.555556\n",
       "40     73.200000\n",
       "41     14.600000\n",
       "42      9.285714\n",
       "43     87.500000\n",
       "44    137.142857\n",
       "45     95.666667\n",
       "46     92.000000\n",
       "47    114.142857\n",
       "48      5.333333\n",
       "49     23.666667\n",
       "dtype: float64"
      ]
     },
     "execution_count": 14,
     "metadata": {},
     "output_type": "execute_result"
    }
   ],
   "source": [
    "podaci['num'] / (podaci['str'].str.len() + podaci['str2'].str.len())"
   ]
  },
  {
   "cell_type": "code",
   "execution_count": 10,
   "metadata": {},
   "outputs": [
    {
     "data": {
      "text/plain": [
       "4.111111111111111"
      ]
     },
     "execution_count": 10,
     "metadata": {},
     "output_type": "execute_result"
    }
   ],
   "source": [
    "podaci['Letter'] = [len(a) for a in list(podaci['str'] + podaci['str2'])]\n",
    "(podaci['num'] / podaci['Letter']).nsmallest(2).iloc[-1]"
   ]
  },
  {
   "cell_type": "markdown",
   "metadata": {},
   "source": [
    "Ako zelimo rjesenje u jednom retku bez da zapravo kreiramo novi stupac:"
   ]
  },
  {
   "cell_type": "code",
   "execution_count": 8,
   "metadata": {},
   "outputs": [
    {
     "data": {
      "text/plain": [
       "4.111111111111111"
      ]
     },
     "execution_count": 8,
     "metadata": {},
     "output_type": "execute_result"
    }
   ],
   "source": [
    "(podaci['num'] / (list(len(a) for a in list(podaci['str'] + podaci['str2']))) ).nsmallest(2).iloc[-1]"
   ]
  },
  {
   "cell_type": "markdown",
   "metadata": {},
   "source": [
    "#### Zadatak 5:\n",
    "Group by str and find the sum of column num where the index is boy."
   ]
  },
  {
   "cell_type": "code",
   "execution_count": 9,
   "metadata": {},
   "outputs": [
    {
     "data": {
      "text/plain": [
       "16052"
      ]
     },
     "execution_count": 9,
     "metadata": {},
     "output_type": "execute_result"
    }
   ],
   "source": [
    "podaci.groupby('str').get_group('boy')['num'].sum()"
   ]
  }
 ],
 "metadata": {
  "kernelspec": {
   "display_name": "Python 3",
   "language": "python",
   "name": "python3"
  },
  "language_info": {
   "codemirror_mode": {
    "name": "ipython",
    "version": 3
   },
   "file_extension": ".py",
   "mimetype": "text/x-python",
   "name": "python",
   "nbconvert_exporter": "python",
   "pygments_lexer": "ipython3",
   "version": "3.7.4"
  }
 },
 "nbformat": 4,
 "nbformat_minor": 4
}
