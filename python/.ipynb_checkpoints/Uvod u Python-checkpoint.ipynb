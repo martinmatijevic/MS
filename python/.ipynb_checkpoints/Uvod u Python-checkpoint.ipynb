{
 "cells": [
  {
   "cell_type": "markdown",
   "metadata": {},
   "source": [
    "# Osnove Pythona"
   ]
  },
  {
   "cell_type": "markdown",
   "metadata": {},
   "source": [
    "## Objekti i njihova imena"
   ]
  },
  {
   "cell_type": "markdown",
   "metadata": {},
   "source": [
    "Osnovna razlika Pythona od jezika poput C-a je: U C-u, memorijske lokacije su primarni objekti kojima baratamo, vrijednosti zapisane u njima su sekundarne. Varijable su zato uvijek imena za \"kutije\": nizove od nekoliko (fiksno i konačno mnogo) uzastopnih memorijskih lokacija, unutar kojih se nalazi vrijednost objekta. Čak i kod dinamički alocirane memorije, deklarirane varijable uvijek imaju fiksnu i ograničenu veličinu (`sizeof`), dok o našoj interpretaciji njihovog sadržaja kao pointera ovisi naša sposobnost da spremimo potencijalno više podataka u memoriju nego što smo statički alocirali.\n",
    "\n",
    "U Pythonu, pogled na svijet je bitno drugačiji: primarne \"vrijednosti\" kojima baratamo su upravo objekti, memorijske lokacije su potpuno irelevantne, a da bismo došli do objekata odnosno da bismo ih mogli spomenuti u kodu, dajemo im _imena_. `x = 382` ne znači (kao u C-u) \"stvori kutiju imena `x` i u nju stavi bit-pattern `0...0101111110`\", već \"stvori objekt `382` (tipa `int`), i daj mu ime `x`\".\n",
    "\n",
    "Direktna posljedica: tip više nije svojstvo varijable (imena), nego objekta. `x = 3; x = 'tri'` je sasvim legalno. Naravno, hoće li `x.islower()` dignuti `AttributeError` ili vratiti `True`, ovisi o konkretnoj vrijednosti od `x` u trenutku poziva -- baš kao da smo napisali `3 .islower()` odnosno `'tri'.islower()`. Još jedna posljedica: isti objekt može imati više imena. `x = y` jednostavno uzme objekt imena `y`, i dade mu još jedno ime `x`. _Ništa se nikamo ne kopira._ Na primjer kod poziva funkcije, objekti koje smo naveli kao funkcijske argumente jednostavno dobiju još neka _lokalna_ imena, koja zovemo parametri. Opet, ništa se nikamo ne kopira."
   ]
  },
  {
   "cell_type": "markdown",
   "metadata": {},
   "source": [
    "Da bismo ustanovili odnose li se imena `x` i `y` na isti objekt, možemo pitati `x is y`. Napomena: to nema veze s jednakošću, koja se testira s `x == y`. Implementacija jednakosti, kao i mnogih drugih operatora/metoda, ovisi o tipu od `x` (i možda od `y`): npr. razlomci bitno drugačije definiraju jednakost nego IP-adrese. Čak i da dva objekta imaju potpuno istu reprezentaciju u memoriji (tada će vjerojatno biti `x == y`), to i dalje mogu biti dva objekta (`x is not y`), i promjena jednog neće utjecati na drugi objekt. Druga implikacija (`x is y` povlači `x == y`, odnosno zapravo `x == x`) vrijedi puno češće, i jedini standardni kontraprimjer je NaN (`math.nan`)."
   ]
  },
  {
   "cell_type": "code",
   "execution_count": 1,
   "metadata": {},
   "outputs": [
    {
     "data": {
      "text/plain": [
       "{1: False, 2: True, 3: True, 4: False}"
      ]
     },
     "execution_count": 1,
     "metadata": {},
     "output_type": "execute_result"
    }
   ],
   "source": [
    "from math import nan\n",
    "{1: nan == nan, 2: nan is nan, 3: [] == [], 4: [] is []}"
   ]
  },
  {
   "cell_type": "markdown",
   "metadata": {},
   "source": [
    "### Prostori imenâ (*namespaces*)"
   ]
  },
  {
   "cell_type": "markdown",
   "metadata": {},
   "source": [
    "Kako su imena očito vrlo važna i zapravo jedini način da u kodu govorimo o objektima, Python posvećuje posebnu pažnju njihovom razvrstavanju. Svako ime postoji u točno jednom **prostoru**, te se prostori imena dijele na implicitne (čija imena se obično ne navode) i eksplicitne (čija imena se moraju navesti).\n",
    "\n",
    "Implicitnih prostora imena ima četiri vrste, i uvijek su ugniježđeni na isti način. Vanjski je `builtins`, u kojem žive preddefinirana imena za Pythonove ugrađene funkcije i ostale objekte (npr. `print`). Obično se ne mijenja, iako Python dopušta i njegovu promjenu.\n",
    "\n",
    "Sljedeći prema unutra je `globals`, u kojem žive ili varijable koje smo definirali unutar interaktivnog rada (npr. pisanja u Jupyterovoj bilježnici), ili pak \"globalne\" varijable pojedinog _modula_ (ugrubo, datoteke s nastavkom `.py`) koje nisu ni u kojem unutrašnjem (klasnom ili lokalnom) prostoru. U njega možemo slobodno dodavati imena, a možemo i mijenjati njihove vrijednosti -- ali to se ne smatra dobrom praksom iz svih uobičajenih razloga protiv globalnih varijabli (globalne *konstante*, imena čije se vrijednosti ne mijenjaju -- npr. funkcije i klase koje modul definira -- su sasvim u redu).\n",
    "\n",
    "Unutar `globals` postoje dvije vrste prostora imena, koji se oba zovu `locals` ali ne vide jedan drugog bez obzira na sintaksnu ugniježđenost: klasni i funkcijski. U klasnom prostoru žive atributi (uključujući metode i svojstva) klase unutar koje se nalazimo (ako se uopće nalazimo unutar bloka `class `...`:`). Točna priroda ovog bloka, pa tako i mogućnost mijenjanja, ovisi o tipu trenutne klase (tzv. \"metaklasi\"), no često se u njemu nalaze samo metode.\n",
    "\n",
    "U funkcijskom lokalnom prostoru žive \"prave\" lokalne varijable (uključivo parametri) funkcije unutar koje se nalazimo (ako se uopće nalazimo unutar bloka `def `...`:`). U ovom prostoru imena su fiksna (samo ona koja se sintaksno pojavljuju u kodu funkcije) i nije moguće dodavati nova imena dinamički, iako je naravno moguće mijenjati njihove vrijednosti. Ovaj prostor imena iznova se stvara svakim pozivom funkcije, i prestaje postojati povratkom iz funkcije; zato je posebno optimiziran. Funkcijski lokalni prostori mogu biti i međusobno ugniježđeni, ako imamo jednu funkciju definiranu unutar druge.\n",
    "\n",
    "Za implicitne prostore imena vrijedi jednostavno pravilo: _čitanje_ vrijednosti imena (npr. korištenje imena u nekom izrazu) obavlja se prvo u trenutnom prostoru, te ako ga tamo nema, u prvom iznad, te ako ga ni tamo nema, u sljedećem iznad njega... i tako dalje u hijerarhiji. Ako se ime ne nađe ni u jednom implicitnom prostoru imena (čak niti u `builtins`), prijavljuje se greška `NameError`. S druge strane, _postavljanje_ vrijednosti imena (npr. pridruživanje tog imena nekom objektu), kao i _brisanje_ vrijednosti imena (npr. naredbom `del`), _uvijek_ se obavlja u trenutnom prostoru imena (osim ako smo to promijenili direktivom `global` ili `nonlocal`)."
   ]
  },
  {
   "cell_type": "markdown",
   "metadata": {},
   "source": [
    "Eksplicitni prostori imena su puno jednostavniji, i ima ih dva tipa: atributni (oni čija imena se navode kao `prostor.ime`) i spremnički (oni čija imena se navode kao `prostor[ime]`). Atributni su vrlo slični implicitnima, samo su vezani uz _objekte_ (instance) pojedinih klasa. Gotovo svaki objekt u Pythonu ima svoj atributni prostor imena. Važan specijalni slučaj: `import nekimodul` stvara objekt imena `nekimodul`, čiji atributni prostor je upravo globalni prostor modula `nekimodul.py`. Na taj način možemo jednostavno koristiti globalna imena iz jednog modula u drugom. Atributni prostori su često dinamički (možemo dodavati i brisati imena), iako pomoću definicije imena `__slots__` možemo fiksirati skup imena (vrlo slično funkcijskom lokalnom prostoru).\n",
    "\n",
    "Spremnički prostor imena imaju samo posebni tipovi *spremnici*, kao što su npr. liste i rječnici. Njihova posebnost je u tome da \"imena\" u njima mogu biti proizvoljni objekti (ipak, najčešće se zahtijeva da budu nepromjenjivi) -- u svim ostalim prostorima imena moraju biti validni identifikatori: nizovi znakova koji sadrže slova, znamenke i znak `_`, te ne počinju znamenkom. U slučaju listi (i raznih drugih sekvenci kao što su slogovi, stringovi, polja,...), validna imena su cijeli brojevi i zovu se *indeksi*. U slučaju rječnika, validna imena su bilo kakvi _hashabilni_ objekti i zovu se *ključevi*."
   ]
  },
  {
   "cell_type": "markdown",
   "metadata": {},
   "source": [
    "### Primjena: uvoz modula"
   ]
  },
  {
   "cell_type": "markdown",
   "metadata": {},
   "source": [
    "Recimo da imamo modul `m.py`, unutar kojeg se nalazi kod\n",
    "```py\n",
    "x = y = 2\n",
    "z = 3\n",
    "```\n",
    "\n",
    "Naredbom `import m` dobit ćemo (u trenutnom prostoru imena) ime `m` koje će se odnositi na objekt tipa `module`, čiji atributni prostor imena će imati tri imena: `m.x` i `m.y` će biti imena za jedan te isti broj `2`, dok će `m.z` biti ime za broj `3`. Naredbom `import m as n` dobit ćemo ime `n` koje će se odnositi na isti objekt opisan gore. Tako će `n.x` i `n.y` biti imena za `2`, dok će `n.z` biti ime za `3`. Ovo najčešće koristimo kad želimo skratiti ime modula, posebno kad je modul u paketu te je time njegovo ime zapravo cijela \"staza\": `import matplotlib.pyplot as plt`.\n",
    "\n",
    "Naredbom `from m import x` dobit ćemo (u trenutnom prostoru imena) ime `x` koje će se odnositi na broj `2`. Naredbom `from m import x as z` dobit ćemo ime `z` koje će se odnositi na broj `2`. Naredbom `from m import x, z` dobit ćemo imena `x` i `z` koja će se odnositi redom na `2` i `3`. Ovo koristimo kad imamo module koji sadrže sve i svašta, i treba nam samo uzak dio njihovih funkcionalnosti: `from functools import partial`. Također je korisno kad je glavnina funkcionalnosti modula u jednoj funkciji/klasi koja se zove jednako kao modul: `from datetime import datetime`.\n",
    "\n",
    "Naredbom `from m import *` dobit ćemo imena `x`, `y` i `z`, takva da će se prva dva odnositi na broj `2`, a treće na broj `3`. Primijetite da se ovakav oblik naredbe ne može naći unutar funkcijske definicije, jer se time imena `x`, `y` i `z` ne bi nalazila sintaksno u tekstu funkcijske definicije, te Python ne bi mogao konstruirati lokalni funkcijski prostor imena (ne zna koja će se imena pojaviti u lokalnom prostoru sve do trenutka poziva funkcije). Također, loša strana ovog je teže razumijevanje koda: posebno pri _debuggiranju_, izuzetno je važno za svako ime znati iz kojeg prostora dolazi. Ako imamo\n",
    "\n",
    "```py\n",
    "from a import *\n",
    "from b import *\n",
    "from c import *\n",
    "...  # puno uvezenih modula\n",
    "... z ...\n",
    "```\n",
    "\n",
    "nemamo nikakav način da saznamo iz kojeg modula je `z`, te najčešće moramo istraživati jedan po jedan. Ipak, u interaktivnom _quick&dirty_ kodiranju često je vrlo praktično koristiti ovaj oblik."
   ]
  },
  {
   "cell_type": "markdown",
   "metadata": {},
   "source": [
    "### Primjena: prijenos argumenata u funkciju"
   ]
  },
  {
   "cell_type": "code",
   "execution_count": 2,
   "metadata": {},
   "outputs": [
    {
     "name": "stdout",
     "output_type": "stream",
     "text": [
      "8\n",
      "3\n"
     ]
    }
   ],
   "source": [
    "def f(x):\n",
    "    x = 8\n",
    "    print(x)\n",
    "x = 3\n",
    "f(x)\n",
    "print(x)"
   ]
  },
  {
   "cell_type": "markdown",
   "metadata": {},
   "source": [
    "Ime `x` u prve tri linije različito je od imena `x` u druge tri linije: prvo živi u lokalnom funkcijskom prostoru funkcije `f`, dok drugo živi u globalnom prostoru ove bilježnice.\n",
    "\n",
    "Prvo se definira funkcija `f`, s jednim lokalnim imenom `x`, koje je prvo (jednom kad se funkcija pozove) ime za argument funkcije, nakon toga ime za broj `8`, i nakon toga se njegova vrijednost (dakle `8`) prenese u funkciju `print` (precizno, funkciju čije ime u prostoru `builtins` je `print`).\n",
    "\n",
    "Nakon toga stvorimo broj `3`, damo mu _globalno_ ime `x`, te s njime pozovemo funkciju `f` (precizno, funkciju čije ime u `globals` prostoru je `f`). Tada se stvori lokalni funkcijski prostor imena, u njemu ime `x` za broj `3`, zatim se to isto (lokalno) ime pridruži broju `8`, te se ispiše `8`. Time funkcija dolazi do kraja, njen lokalni prostor imena nestaje, te se izvršava sljedeća naredba nakon funkcijskog poziva, a to je ovaj `print(x)` u zadnjoj liniji. U tom trenutku, postoji samo jedan `x`, globalno ime `x` za objekt `3`, te se ispisuje `3`."
   ]
  },
  {
   "cell_type": "code",
   "execution_count": 3,
   "metadata": {},
   "outputs": [
    {
     "name": "stdout",
     "output_type": "stream",
     "text": [
      "[1, 5, 8]\n",
      "[1, 5, 8]\n"
     ]
    }
   ],
   "source": [
    "def g(x):\n",
    "    x[2] = 8\n",
    "    print(x)\n",
    "x = [1, 5, 3]\n",
    "g(x)\n",
    "print(x)"
   ]
  },
  {
   "cell_type": "markdown",
   "metadata": {},
   "source": [
    "Velika razlika od prethodnog primjera: također postoje dva imena, lokalni i globalni `x`, no ovaj put se oba cijelo vrijeme odnose na isti objekt: jednu jedinu listu u gornjem kodu. Naredba pridruživanja `x[2] = 8` ne mijenja lokalni funkcijski prostor funkcije `g` (u kojem živi `x`), već `x`ov spremnički prostor imena. Zapravo, to nije pridruživanje ničega imenu `x`, već je to pridruživanje (broja `8`) \"imenu\" (indeksu) `2` unutar prostora imena koji odgovara objektu (spremniku) `x`. To se najbolje može vidjeti po tome da u ovoj drugoj naredbi \"x\" može biti izraz: `(x if 2 < 3 else y)[2] = 8`, dok je naravno pridruživanje `(x if 2 < 3 else y) = 8` besmisleno."
   ]
  },
  {
   "cell_type": "markdown",
   "metadata": {},
   "source": [
    "### Za detaljniji prikaz ..."
   ]
  },
  {
   "cell_type": "markdown",
   "metadata": {},
   "source": [
    "Izuzetno koristan alat za vizualizaciju Pythonove memorije nalazi se na http://pythontutor.com/visualize.html#mode=edit. Preporučujem provesti neko vrijeme igrajući se s njim, izvršavajući razne naredbe i gledajući kako Python reprezentira memoriju."
   ]
  },
  {
   "cell_type": "code",
   "execution_count": 4,
   "metadata": {},
   "outputs": [
    {
     "data": {
      "text/html": [
       "<iframe width=\"800\" height=\"500\" frameborder=\"0\" src=\"http://pythontutor.com/iframe-embed.html#code=def%20f%28x%29%3A%0A%20%20%20%20x%20%3D%208%0A%20%20%20%20print%28x%29%0Ax%20%3D%203%0Af%28x%29%0Aprint%28x%29%0A%0Adef%20g%28x%29%3A%0A%20%20%20%20x%5B2%5D%20%3D%208%0A%20%20%20%20print%28x%29%0Ax%20%3D%20%5B1,%205,%203%5D%0Ag%28x%29%0Aprint%28x%29&codeDivHeight=400&codeDivWidth=350&cumulative=false&curInstr=0&heapPrimitives=true&origin=opt-frontend.js&py=3&rawInputLstJSON=%5B%5D&textReferences=false\"> </iframe>\n"
      ],
      "text/plain": [
       "<IPython.core.display.HTML object>"
      ]
     },
     "metadata": {},
     "output_type": "display_data"
    }
   ],
   "source": [
    "%%HTML\n",
    "<iframe width=\"800\" height=\"500\" frameborder=\"0\" src=\"http://pythontutor.com/iframe-embed.html#code=def%20f%28x%29%3A%0A%20%20%20%20x%20%3D%208%0A%20%20%20%20print%28x%29%0Ax%20%3D%203%0Af%28x%29%0Aprint%28x%29%0A%0Adef%20g%28x%29%3A%0A%20%20%20%20x%5B2%5D%20%3D%208%0A%20%20%20%20print%28x%29%0Ax%20%3D%20%5B1,%205,%203%5D%0Ag%28x%29%0Aprint%28x%29&codeDivHeight=400&codeDivWidth=350&cumulative=false&curInstr=0&heapPrimitives=true&origin=opt-frontend.js&py=3&rawInputLstJSON=%5B%5D&textReferences=false\"> </iframe>"
   ]
  },
  {
   "cell_type": "markdown",
   "metadata": {},
   "source": [
    "## Matematičke operacije"
   ]
  },
  {
   "cell_type": "markdown",
   "metadata": {},
   "source": [
    "Python podržava rad s cijelim (`int`) i realnim (`float`) brojevima. `float` odgovara C-ovom tipu `double` (standard IEEE754 za prikaz realnih brojeva u računalu), dok je `int` sličan (niz bitova u dvojnom komplementu), jedino što nije ograničene veličine. Osnovne računske operacije pišu se jednako kao u jeziku C, osim što dijeljenje `int`ova proizvodi `float`."
   ]
  },
  {
   "cell_type": "code",
   "execution_count": 5,
   "metadata": {},
   "outputs": [
    {
     "data": {
      "text/plain": [
       "(95, 41, 1836, 2.5185185185185186)"
      ]
     },
     "execution_count": 5,
     "metadata": {},
     "output_type": "execute_result"
    }
   ],
   "source": [
    "68 + 27, 68 - 27, 68 * 27, 68 / 27"
   ]
  },
  {
   "cell_type": "markdown",
   "metadata": {},
   "source": [
    "Cjelobrojno dijeljenje (najveće cijelo kvocijenta) piše se `//`. Ostatak je `%` kao i u jeziku C. Često trebamo i jedno i drugo, to nam daje funkcija `divmod`."
   ]
  },
  {
   "cell_type": "code",
   "execution_count": 6,
   "metadata": {},
   "outputs": [
    {
     "data": {
      "text/plain": [
       "(2, 14, (2, 14))"
      ]
     },
     "execution_count": 6,
     "metadata": {},
     "output_type": "execute_result"
    }
   ],
   "source": [
    "68 // 27, 68 % 27, divmod(68, 27) "
   ]
  },
  {
   "cell_type": "markdown",
   "metadata": {},
   "source": [
    "Za potenciranje možemo koristiti operator `**` ili funkciju `pow` kao u C-u. `pow(a,b,c)` računa $a^b\\bmod c$, ali puno brže nego da stvarno potencira i dijeli."
   ]
  },
  {
   "cell_type": "code",
   "execution_count": 7,
   "metadata": {},
   "outputs": [
    {
     "data": {
      "text/plain": [
       "(30042816356321847106973754380840451238772376338432,\n",
       " 30042816356321847106973754380840451238772376338432,\n",
       " 13)"
      ]
     },
     "execution_count": 7,
     "metadata": {},
     "output_type": "execute_result"
    }
   ],
   "source": [
    "68 ** 27, pow(68, 27), pow(68, 1_000_000, 27)"
   ]
  },
  {
   "cell_type": "markdown",
   "metadata": {},
   "source": [
    "Rad s razlomcima, decimalnim brojevima proizvoljne preciznosti, kompleksnim brojevima, ..."
   ]
  },
  {
   "cell_type": "code",
   "execution_count": 8,
   "metadata": {},
   "outputs": [],
   "source": [
    "from fractions import Fraction as F\n",
    "from decimal import Decimal as D, getcontext\n",
    "import cmath"
   ]
  },
  {
   "cell_type": "markdown",
   "metadata": {},
   "source": [
    "Razlomljeni dio od $(\\frac{18}{7})^2$... Prikažimo ga kao string, dohvatimo brojnik i nazivnik (sjetimo se, `_` je posljednji rezultat):"
   ]
  },
  {
   "cell_type": "code",
   "execution_count": 9,
   "metadata": {},
   "outputs": [
    {
     "data": {
      "text/plain": [
       "Fraction(250, 729)"
      ]
     },
     "execution_count": 9,
     "metadata": {},
     "output_type": "execute_result"
    }
   ],
   "source": [
    "F(68, 27)**2 % 1"
   ]
  },
  {
   "cell_type": "code",
   "execution_count": 10,
   "metadata": {
    "scrolled": true
   },
   "outputs": [
    {
     "data": {
      "text/plain": [
       "('250/729', 250, 729)"
      ]
     },
     "execution_count": 10,
     "metadata": {},
     "output_type": "execute_result"
    }
   ],
   "source": [
    "str(_), _.numerator, _.denominator"
   ]
  },
  {
   "cell_type": "markdown",
   "metadata": {},
   "source": [
    "Da bismo radili s decimalnim brojevima, moramo postaviti preciznost (broj znamenaka) s kojom ćemo računati neegzaktne decimalne brojeve kao $\\frac13$.\n",
    "\n",
    "Treba paziti na redoslijed operacija: ako prvo podijelimo `int`ove, dobit ćemo `float`, kojeg će `Decimal` egzaktno pretvoriti u (decimalno krivi) rezultat. Ako želimo doista decimalno dijeliti, moramo dijeliti decimalne brojeve."
   ]
  },
  {
   "cell_type": "code",
   "execution_count": 11,
   "metadata": {},
   "outputs": [
    {
     "data": {
      "text/plain": [
       "{'krivo': Decimal('2.571428571428571618895375650026835501194000244140625'),\n",
       " 'točno': Decimal('2.57142857142857142857142857143')}"
      ]
     },
     "execution_count": 11,
     "metadata": {},
     "output_type": "execute_result"
    }
   ],
   "source": [
    "getcontext().prec = 30\n",
    "dict(krivo=D(18/7), točno=D(18)/D(7))"
   ]
  },
  {
   "cell_type": "markdown",
   "metadata": {},
   "source": [
    "Decimalni brojevi imaju hrpu algoritama, recimo za računanje drugog korijena na proizvoljnu preciznost."
   ]
  },
  {
   "cell_type": "code",
   "execution_count": 12,
   "metadata": {},
   "outputs": [
    {
     "data": {
      "text/plain": [
       "Decimal('1.4142135623730950488016887242096980785696718753769480731766797379907324784621070388503875343276415727350138462309122970249248360558507372126441214970999358314132226659275055927557999505011527820605715')"
      ]
     },
     "execution_count": 12,
     "metadata": {},
     "output_type": "execute_result"
    }
   ],
   "source": [
    "getcontext().prec = 200\n",
    "D(2).sqrt()"
   ]
  },
  {
   "cell_type": "code",
   "execution_count": 13,
   "metadata": {
    "scrolled": true
   },
   "outputs": [
    {
     "data": {
      "text/plain": [
       "Decimal('1E-199')"
      ]
     },
     "execution_count": 13,
     "metadata": {},
     "output_type": "execute_result"
    }
   ],
   "source": [
    "_**2 - 2"
   ]
  },
  {
   "cell_type": "markdown",
   "metadata": {},
   "source": [
    "Potenciranje je desno asocirano, što omogućuje i jednostavno vađenje korijena ($\\sqrt[3]{5}\\approx\\dots$). Također možemo računati i druge korijene, čak i negativnih brojeva. Kompleksni brojevi pišu se kao `(`x`+`y`j)`$, gdje su x i y realni i imaginarni dio redom."
   ]
  },
  {
   "cell_type": "code",
   "execution_count": 14,
   "metadata": {},
   "outputs": [
    {
     "data": {
      "text/plain": [
       "{'treći_korijen iz pet': 1.7099759466766968,\n",
       " 'drugi korijen iz sedam': 2.6457513110645907,\n",
       " 'približno i': (6.123233995736766e-17+1j)}"
      ]
     },
     "execution_count": 14,
     "metadata": {},
     "output_type": "execute_result"
    }
   ],
   "source": [
    "{'treći_korijen iz pet': 5 ** 3**-1, 'drugi korijen iz sedam': 7 ** .5, 'približno i': (-1) ** .5}"
   ]
  },
  {
   "cell_type": "markdown",
   "metadata": {},
   "source": [
    "Imaginarna jedinica je `1j`. Izvadimo joj realni i imaginarni dio, i usporedimo je sa zadnjom vrijednošću od `_`."
   ]
  },
  {
   "cell_type": "code",
   "execution_count": 15,
   "metadata": {},
   "outputs": [
    {
     "data": {
      "text/plain": [
       "(0.0, 1.0, True)"
      ]
     },
     "execution_count": 15,
     "metadata": {},
     "output_type": "execute_result"
    }
   ],
   "source": [
    "1j.real, 1j.imag, cmath.isclose(_['približno i'], 1j)"
   ]
  },
  {
   "cell_type": "markdown",
   "metadata": {},
   "source": [
    "U biblioteci [`cmath`](https://docs.python.org/3/library/cmath.html) nalaze se brojne transcendentne funkcije za rad s kompleksnim brojevima (u [`math`](https://docs.python.org/3/library/math.html) su više-manje iste funkcije za rad s realnim brojevima, kao u C-u)."
   ]
  },
  {
   "cell_type": "code",
   "execution_count": 16,
   "metadata": {},
   "outputs": [
    {
     "data": {
      "text/plain": [
       "((16+0j),\n",
       " (-378690592832-4811930855424j),\n",
       " True,\n",
       " (-1.5276382501165433-0.1658444019189788j),\n",
       " 3.141592653589793j)"
      ]
     },
     "execution_count": 16,
     "metadata": {},
     "output_type": "execute_result"
    }
   ],
   "source": [
    "(1 + 1j) ** 8, (7+9j)**12, cmath.isclose(1j**200, 1), cmath.cos(3+1j), cmath.log(-1)"
   ]
  },
  {
   "cell_type": "code",
   "execution_count": 17,
   "metadata": {},
   "outputs": [
    {
     "data": {
      "text/plain": [
       "(False, True)"
      ]
     },
     "execution_count": 17,
     "metadata": {},
     "output_type": "execute_result"
    }
   ],
   "source": [
    "cmath.isclose(cmath.e ** (1j*cmath.pi) + 1, 0), cmath.isclose(cmath.e ** (1j*cmath.pi), -1)"
   ]
  },
  {
   "cell_type": "markdown",
   "metadata": {},
   "source": [
    "Vidimo da pri radu s funkcijom `isclose` treba biti oprezan: uobičajeno njeno ponašanje je ocjena relativne greške, što je u većini slučajeva ono što želimo -- **osim kad uspoređujemo s nulom**. Tada moramo postaviti toleranciju apsolutne greške, inače će smatrati da je jedini broj blizu nule sama nula."
   ]
  },
  {
   "cell_type": "code",
   "execution_count": 18,
   "metadata": {},
   "outputs": [
    {
     "name": "stdout",
     "output_type": "stream",
     "text": [
      "Help on built-in function isclose in module cmath:\n",
      "\n",
      "isclose(a, b, *, rel_tol=1e-09, abs_tol=0.0)\n",
      "    Determine whether two complex numbers are close in value.\n",
      "    \n",
      "      rel_tol\n",
      "        maximum difference for being considered \"close\", relative to the\n",
      "        magnitude of the input values\n",
      "      abs_tol\n",
      "        maximum difference for being considered \"close\", regardless of the\n",
      "        magnitude of the input values\n",
      "    \n",
      "    Return True if a is close in value to b, and False otherwise.\n",
      "    \n",
      "    For the values to be considered close, the difference between them must be\n",
      "    smaller than at least one of the tolerances.\n",
      "    \n",
      "    -inf, inf and NaN behave similarly to the IEEE 754 Standard. That is, NaN is\n",
      "    not close to anything, even itself. inf and -inf are only close to themselves.\n",
      "\n"
     ]
    }
   ],
   "source": [
    "help(cmath.isclose)"
   ]
  },
  {
   "cell_type": "code",
   "execution_count": 19,
   "metadata": {},
   "outputs": [
    {
     "data": {
      "text/plain": [
       "True"
      ]
     },
     "execution_count": 19,
     "metadata": {},
     "output_type": "execute_result"
    }
   ],
   "source": [
    "cmath.isclose(cmath.e ** (1j * cmath.pi) + 1, 0, abs_tol=1e-9)"
   ]
  },
  {
   "cell_type": "code",
   "execution_count": 20,
   "metadata": {},
   "outputs": [
    {
     "data": {
      "text/plain": [
       "True"
      ]
     },
     "execution_count": 20,
     "metadata": {},
     "output_type": "execute_result"
    }
   ],
   "source": [
    "cmath.isclose(cmath.atan(cmath.inf), cmath.pi / 2)"
   ]
  },
  {
   "cell_type": "markdown",
   "metadata": {},
   "source": [
    "Ako vam se više sviđa [$\\tau$](https://tauday.com/tau-manifesto#sec-the_number_tau) od [$\\pi$](http://www.thepimanifesto.com/), Python [ne bira strane](https://bugs.python.org/msg272457):"
   ]
  },
  {
   "cell_type": "code",
   "execution_count": 21,
   "metadata": {},
   "outputs": [
    {
     "data": {
      "text/plain": [
       "6.283185307179586"
      ]
     },
     "execution_count": 21,
     "metadata": {},
     "output_type": "execute_result"
    }
   ],
   "source": [
    "cmath.tau"
   ]
  },
  {
   "cell_type": "markdown",
   "metadata": {},
   "source": [
    "## Spremnici\n",
    "\n",
    "### Liste"
   ]
  },
  {
   "cell_type": "markdown",
   "metadata": {},
   "source": [
    "Lista kao spremnički prostor imena, može (baš kao i drugi prostori imena) sadržavati vrijednosti različitih tipova."
   ]
  },
  {
   "cell_type": "code",
   "execution_count": 22,
   "metadata": {},
   "outputs": [
    {
     "data": {
      "text/plain": [
       "[3, -2, 5.8, 2j, 'bla', [3, 5], {8}, <function print>, ZeroDivisionError]"
      ]
     },
     "execution_count": 22,
     "metadata": {},
     "output_type": "execute_result"
    }
   ],
   "source": [
    "lista = [3, -2, 5.8, 2j, 'bla', [3, 5], {8}, print, ZeroDivisionError]\n",
    "lista"
   ]
  },
  {
   "cell_type": "markdown",
   "metadata": {},
   "source": [
    "Duljina (broj elemenata spremnika) se u Pythonu dobije funkcijom `len`. Python podržava indeksiranje s početka i s kraja, negativnim brojevima. S lijevog kraja indeksiranje počinje s `0`, a s desnog s `-1 == ~0`, pa je prirodnije koristiti binarni komplement umjesto dvojnog."
   ]
  },
  {
   "cell_type": "code",
   "execution_count": 23,
   "metadata": {},
   "outputs": [
    {
     "data": {
      "text/plain": [
       "(9, 2j, True, {8})"
      ]
     },
     "execution_count": 23,
     "metadata": {},
     "output_type": "execute_result"
    }
   ],
   "source": [
    "len(lista), lista[3], lista[-2] is lista[len(lista)-2], lista[~2]"
   ]
  },
  {
   "cell_type": "markdown",
   "metadata": {},
   "source": [
    "Uzastopno indeksiranje, u slučaju da spremnici koriste druge spremnike. Stringovi su posebni: oni su nizovi znakova, ali znakovi nisu zasebni tip podataka već obični stringovi duljine 1 (kao što su prirodni brojevi nizovi znamenaka, ali znamenke nisu zasebni tip podataka već obični jednoznamenkasti brojevi)."
   ]
  },
  {
   "cell_type": "code",
   "execution_count": 24,
   "metadata": {},
   "outputs": [
    {
     "data": {
      "text/plain": [
       "(3, 'a')"
      ]
     },
     "execution_count": 24,
     "metadata": {},
     "output_type": "execute_result"
    }
   ],
   "source": [
    "lista[5][0], lista[4][2][0][0][0]"
   ]
  },
  {
   "cell_type": "markdown",
   "metadata": {},
   "source": [
    "Rezanje liste od ili do nekog mjesta: prva tri elementa, svi nakon prva tri, zadnja tri, svi prije zadnja tri."
   ]
  },
  {
   "cell_type": "code",
   "execution_count": 25,
   "metadata": {},
   "outputs": [
    {
     "data": {
      "text/plain": [
       "([3, -2, 5.8],\n",
       " [2j, 'bla', [3, 5], {8}, <function print>, ZeroDivisionError],\n",
       " [{8}, <function print>, ZeroDivisionError],\n",
       " [3, -2, 5.8, 2j, 'bla', [3, 5]])"
      ]
     },
     "execution_count": 25,
     "metadata": {},
     "output_type": "execute_result"
    }
   ],
   "source": [
    "lista[:3], lista[3:], lista[-3:], lista[:-3]"
   ]
  },
  {
   "cell_type": "markdown",
   "metadata": {},
   "source": [
    "Rezanje liste između mjesta: intervali u Pythonu su uvijek **poluzatvoreni**. $[2..6\\rangle=\\{2,3,4,5\\}$. Specijalno, $[7..7\\rangle=\\emptyset$."
   ]
  },
  {
   "cell_type": "code",
   "execution_count": 26,
   "metadata": {},
   "outputs": [
    {
     "data": {
      "text/plain": [
       "([5.8, 2j, 'bla', [3, 5]],\n",
       " [-2, 5.8, 2j, 'bla', [3, 5], {8}, <function print>],\n",
       " [],\n",
       " [2j, 'bla', [3, 5], {8}, <function print>, ZeroDivisionError])"
      ]
     },
     "execution_count": 26,
     "metadata": {},
     "output_type": "execute_result"
    }
   ],
   "source": [
    "lista[2:6], lista[1:-1], lista[7:7], lista[3:99]"
   ]
  },
  {
   "cell_type": "markdown",
   "metadata": {},
   "source": [
    "Preskakanje elemenata (u ovom slučaju, uzimanje svakog trećeg elementa): počevši od početka ili nekog određenog elementa."
   ]
  },
  {
   "cell_type": "code",
   "execution_count": 27,
   "metadata": {},
   "outputs": [
    {
     "data": {
      "text/plain": [
       "([3, -2, 5.8, 2j, 'bla', [3, 5], {8}, <function print>, ZeroDivisionError],\n",
       " [3, 2j, {8}],\n",
       " [-2, 'bla', <function print>])"
      ]
     },
     "execution_count": 27,
     "metadata": {},
     "output_type": "execute_result"
    }
   ],
   "source": [
    "lista, lista[::3], lista[1::3]"
   ]
  },
  {
   "cell_type": "markdown",
   "metadata": {},
   "source": [
    "Pretvaranje spremnika: string -> lista -> skup. Općenito, tipovi (klase) se mogu pozivati kao funkcije (konstruktori), i većina ugrađenih tipova podržavaju konvenciju da je `Tip(spremnik)` objekt tipa `Tip` koji ima iste elemente kao `spremnik`. (Stringovi su opet posebni: `str(['a', 'b'])` nije `'ab'` već `\"['a', 'b']\"` (stringifikacija). Za ovo prvo, koristite `''.join`.)"
   ]
  },
  {
   "cell_type": "code",
   "execution_count": 28,
   "metadata": {},
   "outputs": [
    {
     "data": {
      "text/plain": [
       "['M', 'a', 't', 'S', 'o', 'f', 't']"
      ]
     },
     "execution_count": 28,
     "metadata": {},
     "output_type": "execute_result"
    }
   ],
   "source": [
    "list('MatSoft')"
   ]
  },
  {
   "cell_type": "code",
   "execution_count": 29,
   "metadata": {},
   "outputs": [
    {
     "data": {
      "text/plain": [
       "{'M', 'S', 'a', 'f', 'o', 't'}"
      ]
     },
     "execution_count": 29,
     "metadata": {},
     "output_type": "execute_result"
    }
   ],
   "source": [
    "set(_)"
   ]
  },
  {
   "cell_type": "code",
   "execution_count": 30,
   "metadata": {},
   "outputs": [
    {
     "data": {
      "text/plain": [
       "(\"{'t', 'S', 'o', 'f', 'M', 'a'}\", 'tSofMa')"
      ]
     },
     "execution_count": 30,
     "metadata": {},
     "output_type": "execute_result"
    }
   ],
   "source": [
    "str(_), ''.join(_)"
   ]
  },
  {
   "cell_type": "markdown",
   "metadata": {},
   "source": [
    "### Rad sa skupovima"
   ]
  },
  {
   "cell_type": "code",
   "execution_count": 31,
   "metadata": {},
   "outputs": [],
   "source": [
    "mat = set('matematički')\n",
    "samoglasnici = set('aeiou')"
   ]
  },
  {
   "cell_type": "markdown",
   "metadata": {},
   "source": [
    "Presjek, razlika, unija, simetrična razlika (operatori `&`, `|`, `^` kao bitovni operatori u C-u):"
   ]
  },
  {
   "cell_type": "code",
   "execution_count": 32,
   "metadata": {},
   "outputs": [
    {
     "data": {
      "text/plain": [
       "({'a', 'e', 'i'}, {'k', 'm', 't', 'č'}, {'a', 'e', 'i'}, {'k', 'm', 't', 'č'})"
      ]
     },
     "execution_count": 32,
     "metadata": {},
     "output_type": "execute_result"
    }
   ],
   "source": [
    "mat & samoglasnici, mat - samoglasnici, mat & samoglasnici, mat - samoglasnici"
   ]
  },
  {
   "cell_type": "markdown",
   "metadata": {},
   "source": [
    "Formula uključivanja-isključivanja:"
   ]
  },
  {
   "cell_type": "code",
   "execution_count": 33,
   "metadata": {},
   "outputs": [
    {
     "data": {
      "text/plain": [
       "True"
      ]
     },
     "execution_count": 33,
     "metadata": {},
     "output_type": "execute_result"
    }
   ],
   "source": [
    "len(samoglasnici) + len(mat) == len(mat | samoglasnici) + len(mat & samoglasnici)"
   ]
  },
  {
   "cell_type": "markdown",
   "metadata": {},
   "source": [
    "Skupovi koriste operatore uspoređivanja za relacije \"podskup\" `<=`, \"nadskup\" `>=`, \"pravi podskup\" `<` i \"pravi nadskup\" `>`."
   ]
  },
  {
   "cell_type": "code",
   "execution_count": 34,
   "metadata": {},
   "outputs": [
    {
     "data": {
      "text/plain": [
       "(False, True)"
      ]
     },
     "execution_count": 34,
     "metadata": {},
     "output_type": "execute_result"
    }
   ],
   "source": [
    "samoglasnici <= mat, samoglasnici & mat < mat"
   ]
  },
  {
   "cell_type": "markdown",
   "metadata": {},
   "source": [
    "Provjera disjunktnosti:"
   ]
  },
  {
   "cell_type": "code",
   "execution_count": 35,
   "metadata": {},
   "outputs": [
    {
     "data": {
      "text/plain": [
       "False"
      ]
     },
     "execution_count": 35,
     "metadata": {},
     "output_type": "execute_result"
    }
   ],
   "source": [
    "mat.isdisjoint(samoglasnici)"
   ]
  },
  {
   "cell_type": "markdown",
   "metadata": {},
   "source": [
    "### Mijenjanje listi i skupova"
   ]
  },
  {
   "cell_type": "markdown",
   "metadata": {},
   "source": [
    "Neki Pythonovi objekti su *promjenjivi*: predstavljaju eksplicitne prostore imena, u kojima se \"imena\" mogu redefinirati da se odnose na neke druge objekte. Također se imena mogu dodavati ili brisati. U listi se to najjednostavnije čini pomoću metode [`.append`](https://docs.python.org/3.7/tutorial/datastructures.html#more-on-lists) koja dodaje element na kraj (postoji i `.insert`)."
   ]
  },
  {
   "cell_type": "code",
   "execution_count": 36,
   "metadata": {},
   "outputs": [
    {
     "data": {
      "text/plain": [
       "[3, -2, 5.8, 2j, 'bla', [3, 5], {8}, <function print>, ZeroDivisionError, 23]"
      ]
     },
     "execution_count": 36,
     "metadata": {},
     "output_type": "execute_result"
    }
   ],
   "source": [
    "lista.append(23)\n",
    "lista"
   ]
  },
  {
   "cell_type": "markdown",
   "metadata": {},
   "source": [
    "Za brisanje možemo koristiti metodu `.remove` (briše po vrijednosti), ili naredbu za općenito brisanje iz prostora imena, `del` (briše po indeksu)."
   ]
  },
  {
   "cell_type": "code",
   "execution_count": 37,
   "metadata": {},
   "outputs": [
    {
     "data": {
      "text/plain": [
       "[3, -2, 5.8, 'bla', [3, 5], <function print>, ZeroDivisionError, 23]"
      ]
     },
     "execution_count": 37,
     "metadata": {},
     "output_type": "execute_result"
    }
   ],
   "source": [
    "lista.remove({8})\n",
    "lista.remove(2j)\n",
    "lista"
   ]
  },
  {
   "cell_type": "code",
   "execution_count": 38,
   "metadata": {},
   "outputs": [
    {
     "data": {
      "text/plain": [
       "[3, -2, 5.8, [3, 5], <function print>]"
      ]
     },
     "execution_count": 38,
     "metadata": {},
     "output_type": "execute_result"
    }
   ],
   "source": [
    "del lista[3]\n",
    "del lista[-2:]\n",
    "lista"
   ]
  },
  {
   "cell_type": "markdown",
   "metadata": {},
   "source": [
    "Provjera nalazi li se nešto u spremniku realizirana je kroz operator `in` (negirano `not in`):"
   ]
  },
  {
   "cell_type": "code",
   "execution_count": 39,
   "metadata": {},
   "outputs": [
    {
     "data": {
      "text/plain": [
       "(True, False, False, True)"
      ]
     },
     "execution_count": 39,
     "metadata": {},
     "output_type": "execute_result"
    }
   ],
   "source": [
    "-2 in lista, 3 not in lista, 17 in lista, 87 not in lista"
   ]
  },
  {
   "cell_type": "markdown",
   "metadata": {},
   "source": [
    "Skoro svi operatori imaju verzije \"in place\", koje pokušavaju promijeniti objekt na lijevoj strani (`a ¤= b` je kao `a = a ¤ b`, osim što se `¤` izvršava direktno mijenjajući `a` ako njegov tip omogućuje mijenjanje)."
   ]
  },
  {
   "cell_type": "code",
   "execution_count": 40,
   "metadata": {},
   "outputs": [
    {
     "data": {
      "text/plain": [
       "{'a', 'e', 'i', 'k', 'm', 't', 'č'}"
      ]
     },
     "execution_count": 40,
     "metadata": {},
     "output_type": "execute_result"
    }
   ],
   "source": [
    "mat"
   ]
  },
  {
   "cell_type": "code",
   "execution_count": 41,
   "metadata": {},
   "outputs": [
    {
     "data": {
      "text/plain": [
       "{'a', 'b', 'c', 'd', 'e', 'i', 'k', 'm', 't', 'č'}"
      ]
     },
     "execution_count": 41,
     "metadata": {},
     "output_type": "execute_result"
    }
   ],
   "source": [
    "mat |= set('abcde')\n",
    "mat"
   ]
  },
  {
   "cell_type": "markdown",
   "metadata": {},
   "source": [
    "U skupove dodajemo elemente metodom [`.add`](https://docs.python.org/3/library/stdtypes.html#frozenset.add). `.remove`, kao i za liste, zahtijeva da element bude prisutan, dok `.discard` ne zahtijeva."
   ]
  },
  {
   "cell_type": "code",
   "execution_count": 42,
   "metadata": {},
   "outputs": [
    {
     "data": {
      "text/plain": [
       "{'a', 'b', 'c', 'd', 'e', 'i', 'k', 'm', 't', 'z'}"
      ]
     },
     "execution_count": 42,
     "metadata": {},
     "output_type": "execute_result"
    }
   ],
   "source": [
    "mat.add('z')\n",
    "mat.remove('č')\n",
    "mat.discard('ž')\n",
    "mat"
   ]
  },
  {
   "cell_type": "markdown",
   "metadata": {},
   "source": [
    "## Rječnici"
   ]
  },
  {
   "cell_type": "markdown",
   "metadata": {},
   "source": [
    "Rječnik (`dict`) je najopćenitiji (spremnički) prostor imena u Pythonu. Predstavlja apstraktni tip podataka MAPPING, odnosno preslikavanje ključeva (`.keys()`) u vrijednosti (`.values()`) -- slično kao `<map>` u jeziku C++. Naravno, ključevi moraju biti različiti, vrijednosti se smiju ponavljati. Elementi rječnika su uređeni parovi `(`*ključ*`, `*vrijednost*`)`, koji se zovu _stavke_ (`.items()`).\n",
    "\n",
    "U pozadini rječnika stoji *hash*-tablica (zatvoreno hashiranje). To znači da na ključevima mora biti definirana *hash*-funkcija, koja mora imati svojstvo da preslikava jednake objekte u jednake. To pak znači da ključevi ne smiju biti promjenjivi, jer bi inače (u zanimljivom slučaju da *hash*-funkcija spremnika ovisi o njegovim elementima) jedan te isti objekt imao različite *hash*eve u različitim trenutcima svog života -- pa ga ne bismo mogli naći u rječniku.\n",
    "\n",
    "Za liste i skupove Python ima odgovarajuće nepromjenjive varijante, koje mogu poslužiti kao ključevi u rječnicima:\n",
    "\n",
    "| vrsta spremnika  | popis            | skup            |\n",
    "|-----------------:|:----------------:|:---------------:|\n",
    "|                  | poredak bitan    | poredak nebitan |\n",
    "|                  | mogući duplikati | bez duplikata   |\n",
    "| promjenjiv       | `list`           | `set`           |\n",
    "| nepromjenjiv     | `tuple`          | `frozenset`     |"
   ]
  },
  {
   "cell_type": "code",
   "execution_count": 43,
   "metadata": {},
   "outputs": [
    {
     "data": {
      "text/plain": [
       "4"
      ]
     },
     "execution_count": 43,
     "metadata": {},
     "output_type": "execute_result"
    }
   ],
   "source": [
    "boje = {'jabuka': 'crveno', 'kruška': 'žuto', 'limun': 'žuto'}\n",
    "boje['grožđe'] = 'plavo'\n",
    "len(boje)"
   ]
  },
  {
   "cell_type": "code",
   "execution_count": 44,
   "metadata": {},
   "outputs": [
    {
     "name": "stdout",
     "output_type": "stream",
     "text": [
      "jabuka je boje: crveno\n",
      "kruška je boje: žuto\n",
      "limun je boje: žuto\n",
      "grožđe je boje: plavo\n"
     ]
    }
   ],
   "source": [
    "for voće, boja in boje.items(): \n",
    "    print(f'{voće} je boje: {boja}')"
   ]
  },
  {
   "cell_type": "code",
   "execution_count": 45,
   "metadata": {},
   "outputs": [],
   "source": [
    "del boje['limun']"
   ]
  },
  {
   "cell_type": "code",
   "execution_count": 46,
   "metadata": {},
   "outputs": [],
   "source": [
    "for voće in boje:\n",
    "    if voće != 'grožđe':\n",
    "        boje[voće] = 'zeleno'"
   ]
  },
  {
   "cell_type": "code",
   "execution_count": 47,
   "metadata": {
    "scrolled": true
   },
   "outputs": [
    {
     "data": {
      "text/plain": [
       "{'jabuka': 'zeleno', 'kruška': 'zeleno', 'grožđe': 'plavo'}"
      ]
     },
     "execution_count": 47,
     "metadata": {},
     "output_type": "execute_result"
    }
   ],
   "source": [
    "boje"
   ]
  },
  {
   "cell_type": "markdown",
   "metadata": {},
   "source": [
    "Operator `in` se **kod listâ odnosi na vrijednosti, a kod rječnikâ na ključeve**: `if vrijednost in lista` odnosno `if ključ in rječnik`. Analogno, `for vrijednost in lista` prolazi po vrijednostima, `for ključ in rječnik` po ključevima. Ako želimo oboje, koristimo funkciju `enumerate` odnosno metodu `.items()`: `for indeks, vrijednost in enumerate(lista)` te `for ključ, vrijednost in rječnik.items()`."
   ]
  },
  {
   "cell_type": "markdown",
   "metadata": {},
   "source": [
    "### Specijalizirani rječnici"
   ]
  },
  {
   "cell_type": "markdown",
   "metadata": {},
   "source": [
    "Ako pokušamo dohvatiti ključ kojeg nema, dobit ćemo `KeyError` (baš kao što ćemo, ako pokušamo dohvatiti ime kojeg nema, dobiti `NameError`). Za povremeni pristup možemo koristiti metodu [`.get`](https://docs.python.org/3/library/stdtypes.html#dict.get), ali ako želimo semantiku kao u C++u (da se vrijednosti *default*-konstruiraju pri svakom neuspješnom pokušaju pristupa), moramo navesti tip vrijednosti."
   ]
  },
  {
   "cell_type": "code",
   "execution_count": 48,
   "metadata": {},
   "outputs": [
    {
     "name": "stdout",
     "output_type": "stream",
     "text": [
      "defaultdict(<class 'list'>, {'Mirko': ['01/555-2842'], 'Slavko': []})\n"
     ]
    }
   ],
   "source": [
    "from collections import defaultdict\n",
    "telefoni = defaultdict(list)  # ako ključ nije prisutan, stvorit će se nova prazna lista\n",
    "telefoni['Mirko'].append('01/555-2842')\n",
    "telefoni['Slavko']  # samo pristup je dovoljan da se stavi ('Slavko', []) u defaultdict\n",
    "print(telefoni)"
   ]
  },
  {
   "cell_type": "markdown",
   "metadata": {},
   "source": [
    "Još jedna izuzetno česta upotreba rječnika je za brojenje pojava određenih elemenata. Za to je moguće koristiti `defaultdict(int)`, ali je još bolje koristiti `Counter`."
   ]
  },
  {
   "cell_type": "code",
   "execution_count": 49,
   "metadata": {},
   "outputs": [
    {
     "data": {
      "text/plain": [
       "Counter({'o': 4, 'v': 2, ' ': 2, 'j': 1, 'e': 1, 'n': 1, '.': 1})"
      ]
     },
     "execution_count": 49,
     "metadata": {},
     "output_type": "execute_result"
    }
   ],
   "source": [
    "from collections import Counter\n",
    "brojslova = Counter('Ovo je novo.'.casefold())\n",
    "brojslova"
   ]
  },
  {
   "cell_type": "code",
   "execution_count": 50,
   "metadata": {},
   "outputs": [
    {
     "data": {
      "text/plain": [
       "{'o': 4, 'v': 2, ' ': 2, 'j': 1, 'e': 1}"
      ]
     },
     "execution_count": 50,
     "metadata": {},
     "output_type": "execute_result"
    }
   ],
   "source": [
    "dict(brojslova.most_common(5))"
   ]
  },
  {
   "cell_type": "markdown",
   "metadata": {},
   "source": [
    "### Komprehenzije (objedinjavanja)"
   ]
  },
  {
   "cell_type": "markdown",
   "metadata": {},
   "source": [
    "Skupove, liste i rječnike (pa i neke druge agregatore, kao što su sume, ekstremi i kvantifikacije) možemo konstruirati ne samo navođenjem elemenata, nego i *komprehenzijom*: direktnom iteracijom kroz neki objekt i skupljanjem (transformiranih) elemenata koji imaju neko svojstvo. Općenito,\n",
    "\n",
    "    [izraz for varijabla in spremnik if uvjet]\n",
    "je isto što i\n",
    "\n",
    "    nekalista = []\n",
    "    for varijabla in spremnik:\n",
    "        if uvjet:\n",
    "            nekalista.append(izraz)\n",
    "    nekalista\n",
    "    \n",
    "(i `add` umjesto `append` u slučaju skupova, itd.). Možemo imati i ugniježđene petlje, na bilo koji način isprepletene s uvjetima (npr. `... for ... for ... if ... for ... if ...`)."
   ]
  },
  {
   "cell_type": "markdown",
   "metadata": {},
   "source": [
    "Uočimo sličnost s aksiomom separacije iz teorije skupova: $\\{v:v\\in\\operatorname{dom}B\\land B(v)=z\\}$."
   ]
  },
  {
   "cell_type": "code",
   "execution_count": 51,
   "metadata": {},
   "outputs": [
    {
     "data": {
      "text/plain": [
       "{'jabuka', 'kruška'}"
      ]
     },
     "execution_count": 51,
     "metadata": {},
     "output_type": "execute_result"
    }
   ],
   "source": [
    "{voće for voće in boje if boje[voće] == 'zeleno'}"
   ]
  },
  {
   "cell_type": "code",
   "execution_count": 52,
   "metadata": {},
   "outputs": [
    {
     "data": {
      "text/plain": [
       "{'Isprobavamo': 11, 'komprehenzije': 13, 'u': 1, 'Pythonu': 7}"
      ]
     },
     "execution_count": 52,
     "metadata": {},
     "output_type": "execute_result"
    }
   ],
   "source": [
    "{riječ: len(riječ) for riječ in 'Isprobavamo komprehenzije u Pythonu'.split()}"
   ]
  },
  {
   "cell_type": "code",
   "execution_count": 53,
   "metadata": {},
   "outputs": [
    {
     "data": {
      "text/plain": [
       "[8, 2, 5, 7, 1, 9, 5, 0, 2, 3]"
      ]
     },
     "execution_count": 53,
     "metadata": {},
     "output_type": "execute_result"
    }
   ],
   "source": [
    "lista_listâ = [[8, 2, 5], [7], [1, 9, 5, 0], [], [2, 3]]\n",
    "[element for lista in lista_listâ for element in lista]"
   ]
  },
  {
   "cell_type": "markdown",
   "metadata": {},
   "source": [
    "Kao agregatore možemo koristiti i mnoge funkcije, ne samo tipove:\n",
    "\n",
    "zbroj rednih brojeva znakova u Unikodu; maksimum funkcije na konačnom intervalu; egzistencijalna kvantifikacija."
   ]
  },
  {
   "cell_type": "code",
   "execution_count": 54,
   "metadata": {},
   "outputs": [
    {
     "data": {
      "text/plain": [
       "1999"
      ]
     },
     "execution_count": 54,
     "metadata": {},
     "output_type": "execute_result"
    }
   ],
   "source": [
    "sum(ord(slovo) for slovo in 'Matematički softver' if slovo.islower())"
   ]
  },
  {
   "cell_type": "code",
   "execution_count": 55,
   "metadata": {},
   "outputs": [
    {
     "data": {
      "text/plain": [
       "17"
      ]
     },
     "execution_count": 55,
     "metadata": {},
     "output_type": "execute_result"
    }
   ],
   "source": [
    "max(x**2 - 2*x - 7 for x in range(-4, 6))"
   ]
  },
  {
   "cell_type": "code",
   "execution_count": 56,
   "metadata": {
    "scrolled": true
   },
   "outputs": [
    {
     "data": {
      "text/plain": [
       "True"
      ]
     },
     "execution_count": 56,
     "metadata": {},
     "output_type": "execute_result"
    }
   ],
   "source": [
    "any(riječ.casefold().startswith('p') for riječ in 'Znanstvenici vole koristiti Python'.split())"
   ]
  },
  {
   "cell_type": "markdown",
   "metadata": {},
   "source": [
    "## Funkcije"
   ]
  },
  {
   "cell_type": "markdown",
   "metadata": {},
   "source": [
    "Neke primjere funkcija smo već vidjeli. Koristeći slogove (`tuple`) možemo vrlo jednostavno vraćati više objekata iz funkcije"
   ]
  },
  {
   "cell_type": "code",
   "execution_count": 57,
   "metadata": {},
   "outputs": [
    {
     "data": {
      "text/plain": [
       "9"
      ]
     },
     "execution_count": 57,
     "metadata": {},
     "output_type": "execute_result"
    }
   ],
   "source": [
    "def potencije(x): return x ** 2, x ** 3, x ** 4\n",
    "kvadrat, kub, četvrta = potencije(3)\n",
    "kvadrat"
   ]
  },
  {
   "cell_type": "markdown",
   "metadata": {},
   "source": [
    "Funkcije mogu imati i _ugrađenu dokumentaciju_ (docstrings): Obično se piše u \"trostrukim dvostrukim\" navodnicima, i može sadržavati prelaske u novi red. Službeni Pythonov stilski vodič za pisanje docstringova je [PEP257](https://www.python.org/dev/peps/pep-0257/).\n",
    "\n",
    "Funkcije mogu i imati podrazumijevane vrijednosti nekih (zadnjih) argumenata. Pri pozivu ih možemo navesti ako ne želimo te vrijednosti, čak i s imenom ako nisu po redu (npr. `thumbnail(neka_slika, ime='mini.png')` će promijeniti ime, ali ostaviti širinu na `100`)."
   ]
  },
  {
   "cell_type": "code",
   "execution_count": 58,
   "metadata": {},
   "outputs": [],
   "source": [
    "from skimage import io, transform, data\n",
    "def thumbnail(slika, širina=100, ime='thumb.png'):\n",
    "    \"\"\"Proizvodi thumbnail za sliku, zadanog imena i širine (visina se određuje proporcionalno).\"\"\"\n",
    "    izvorna_širina, izvorna_visina = slika.shape[:2]\n",
    "    visina = izvorna_visina * širina // izvorna_širina\n",
    "    io.imsave(ime, transform.resize(slika, (širina, visina), mode='constant'))"
   ]
  },
  {
   "cell_type": "markdown",
   "metadata": {},
   "source": [
    "`.shape` je oblik tenzora (\"višedimenzionalne matrice\") koji predstavlja sliku (ovdje 512×512×3, jer je slika kvadratna i u formatu RGB, pa je svaki piksel predstavljen s 3 broja)."
   ]
  },
  {
   "cell_type": "code",
   "execution_count": 59,
   "metadata": {},
   "outputs": [
    {
     "data": {
      "text/plain": [
       "(512, 512, 3)"
      ]
     },
     "execution_count": 59,
     "metadata": {},
     "output_type": "execute_result"
    }
   ],
   "source": [
    "astro = data.astronaut()\n",
    "astro.shape"
   ]
  },
  {
   "cell_type": "code",
   "execution_count": 60,
   "metadata": {},
   "outputs": [
    {
     "data": {
      "text/plain": [
       "<matplotlib.image.AxesImage at 0x7f15fdf44290>"
      ]
     },
     "execution_count": 60,
     "metadata": {},
     "output_type": "execute_result"
    },
    {
     "data": {
      "image/png": "[encoded data removed]",
      "text/plain": [
       "<Figure size 432x288 with 1 Axes>"
      ]
     },
     "metadata": {
      "needs_background": "light"
     },
     "output_type": "display_data"
    }
   ],
   "source": [
    "import matplotlib.pyplot as plt\n",
    "%matplotlib inline\n",
    "plt.imshow(astro)"
   ]
  },
  {
   "cell_type": "code",
   "execution_count": 61,
   "metadata": {},
   "outputs": [
    {
     "name": "stderr",
     "output_type": "stream",
     "text": [
      "/home/veky/anaconda3/lib/python3.7/site-packages/skimage/util/dtype.py:135: UserWarning: Possible precision loss when converting from float64 to uint8\n",
      "  .format(dtypeobj_in, dtypeobj_out))\n"
     ]
    },
    {
     "data": {
      "image/png": "[encoded data removed]",
      "text/plain": [
       "<IPython.core.display.Image object>"
      ]
     },
     "execution_count": 61,
     "metadata": {},
     "output_type": "execute_result"
    }
   ],
   "source": [
    "from IPython.display import Image\n",
    "thumbnail(astro)\n",
    "Image('thumb.png')"
   ]
  },
  {
   "cell_type": "markdown",
   "metadata": {},
   "source": [
    "### Funkcije višeg reda"
   ]
  },
  {
   "cell_type": "markdown",
   "metadata": {},
   "source": [
    "U Pythonu, funkcije su objekti kao i svi ostali. Možemo ih normalno prenositi u funkcije i vraćati iz njih. Evo jedne funkcije koja stvara (vraća) linearnu funkciju s koeficijentom smjera $k$ i odsječkom na ordinati $l$."
   ]
  },
  {
   "cell_type": "code",
   "execution_count": 62,
   "metadata": {},
   "outputs": [],
   "source": [
    "def linearna(k, l):\n",
    "    def funkcija(x): return k*x + l\n",
    "    return funkcija"
   ]
  },
  {
   "cell_type": "code",
   "execution_count": 63,
   "metadata": {},
   "outputs": [],
   "source": [
    "f = linearna(k=F(2,3), l=-1)"
   ]
  },
  {
   "cell_type": "code",
   "execution_count": 64,
   "metadata": {},
   "outputs": [
    {
     "data": {
      "text/plain": [
       "Fraction(37, 3)"
      ]
     },
     "execution_count": 64,
     "metadata": {},
     "output_type": "execute_result"
    }
   ],
   "source": [
    "f(20)"
   ]
  },
  {
   "cell_type": "markdown",
   "metadata": {},
   "source": [
    "Često trebamo na određenom mjestu navesti neku funkciju zadanu pravilom preslikavanja, pa je nespretno pisati naredbu `def` i smišljati ime za nju. `lambda argumenti: izraz` je pokrata za\n",
    "\n",
    "    def neka_funkcija(argumenti):\n",
    "        return izraz\n",
    "    neka_funkcija\n",
    "    \n",
    "i možemo je normalno koristiti u izrazima. Recimo, gornji kod smo mogli napisati i kao\n",
    "\n",
    "    def linearna(k, l):\n",
    "        return lambda x: k*x + l\n",
    "        \n",
    "ili čak kao\n",
    "\n",
    "    linearna = lambda k, l: lambda x: k*x+l\n",
    "    \n",
    "ali ne treba pretjerivati. :-) Stilski vodič za Pythonovu standardnu biblioteku, [PEP8](https://www.python.org/dev/peps/pep-0008/) (koji mnogi shvaćaju i kao stilski vodič za Python općenito), preporučuje da se `lambda` koristi samo za anonimne funkcije: ako joj planiramo dati ime, bolje je funkciju definirati s `def`. Dakle, drugi isječak koda u ovoj ćeliji jest u skladu s PEP8, dok treći nije.\n",
    "\n",
    "`lambda` se često koristi neopravdano: ako već postoji funkcija koja radi ono što želimo, nema nikakvog smisla stvoriti novu koja ju samo poziva. Recimo, umjesto `lambda x: abs(x)` treba pisati jednostavno `abs`."
   ]
  },
  {
   "cell_type": "markdown",
   "metadata": {},
   "source": [
    "Evo funkcije koja komponira zadane funkcije (vraća njihovu kompoziciju). Zvjezdicom u `def f(*argumenti):` kažemo da funkcija može primati proizvoljni broj argumenata (ovdje funkcijâ koje treba komponirati). Naravno, sama kompozicija prima samo jedan argument $x$."
   ]
  },
  {
   "cell_type": "code",
   "execution_count": 65,
   "metadata": {},
   "outputs": [],
   "source": [
    "def komponiraj(*funkcije):\n",
    "    def kompozicija(x):\n",
    "        for f in reversed(funkcije): x = f(x)\n",
    "        return x\n",
    "    return kompozicija"
   ]
  },
  {
   "cell_type": "markdown",
   "metadata": {},
   "source": [
    "Već smo vidjeli da Python koristi uvlačenje za istu svrhu za koju C koristi vitičaste zagrade. Tako je kôd puno čišći i lakši za čitanje. Kao i u C-u, ako se blok sastoji samo od jedne naredbe (gore `x = f(x)`), ne moramo ga uvući već ga možemo samo napisati u nastavku. Dvotočka je uvijek obavezna."
   ]
  },
  {
   "cell_type": "code",
   "execution_count": 66,
   "metadata": {},
   "outputs": [],
   "source": [
    "f = komponiraj(lambda x: x+1, lambda x: x*2, abs)"
   ]
  },
  {
   "cell_type": "code",
   "execution_count": 67,
   "metadata": {},
   "outputs": [
    {
     "data": {
      "text/plain": [
       "11"
      ]
     },
     "execution_count": 67,
     "metadata": {},
     "output_type": "execute_result"
    }
   ],
   "source": [
    "f(5)"
   ]
  },
  {
   "cell_type": "markdown",
   "metadata": {},
   "source": [
    "Još jedna česta zloupotreba `lambda`-funkcijâ je kad imamo funkciju koja je _općenitija_ od one koja nama treba, odnosno želimo funkciju kojoj je prvih nekoliko argumenata (ili bilo kakvi argumenti specificirani imenima) fiksirano na neke vrijednosti. Tu je bolje koristiti `partial` iz biblioteke `functools`."
   ]
  },
  {
   "cell_type": "code",
   "execution_count": 68,
   "metadata": {},
   "outputs": [],
   "source": [
    "from functools import partial\n",
    "dva_na = partial(pow, 2)"
   ]
  },
  {
   "cell_type": "code",
   "execution_count": 69,
   "metadata": {},
   "outputs": [
    {
     "data": {
      "text/plain": [
       "4096"
      ]
     },
     "execution_count": 69,
     "metadata": {},
     "output_type": "execute_result"
    }
   ],
   "source": [
    "dva_na(12)"
   ]
  },
  {
   "cell_type": "code",
   "execution_count": 70,
   "metadata": {},
   "outputs": [
    {
     "data": {
      "text/plain": [
       "<function __main__.komponiraj.<locals>.kompozicija(x)>"
      ]
     },
     "execution_count": 70,
     "metadata": {},
     "output_type": "execute_result"
    }
   ],
   "source": [
    "komponiraj(dva_na, dva_na, f)"
   ]
  },
  {
   "cell_type": "code",
   "execution_count": 71,
   "metadata": {},
   "outputs": [
    {
     "data": {
      "text/plain": [
       "256"
      ]
     },
     "execution_count": 71,
     "metadata": {},
     "output_type": "execute_result"
    }
   ],
   "source": [
    "_(1)"
   ]
  },
  {
   "cell_type": "code",
   "execution_count": 72,
   "metadata": {},
   "outputs": [],
   "source": [
    "veliki_thumbnail = partial(thumbnail, širina=200, ime='veći.png')"
   ]
  },
  {
   "cell_type": "code",
   "execution_count": 73,
   "metadata": {},
   "outputs": [
    {
     "data": {
      "image/png": "[encoded data removed]",
      "text/plain": [
       "<IPython.core.display.Image object>"
      ]
     },
     "execution_count": 73,
     "metadata": {},
     "output_type": "execute_result"
    }
   ],
   "source": [
    "veliki_thumbnail(astro)\n",
    "Image('veći.png')"
   ]
  },
  {
   "cell_type": "markdown",
   "metadata": {},
   "source": [
    "## Grananja i petlje"
   ]
  },
  {
   "cell_type": "markdown",
   "metadata": {},
   "source": [
    "S `if...elif...else` pišemo grananja. `elif`ova može biti nula ili više, a i `else` je opcionalna. Semantika je: provjeravaju se uvjeti odozgo prema dolje dok se ne nađe neki koji je ispunjen, tada se izvrši odgovarajući blok i izvršavanje grananja je gotovo. Ako nijedan nije ispunjen i postoji `else`, izvršava se njen (zadnji) blok."
   ]
  },
  {
   "cell_type": "code",
   "execution_count": 74,
   "metadata": {},
   "outputs": [
    {
     "name": "stdout",
     "output_type": "stream",
     "text": [
      "Sve ok\n"
     ]
    }
   ],
   "source": [
    "if 2 < 1: print('Nešto je čudno')\n",
    "elif 2 == 1: print('Još čudnije')\n",
    "elif 2 > 1: print('Sve ok')\n",
    "else: print('Neusporedivi su?!')"
   ]
  },
  {
   "cell_type": "markdown",
   "metadata": {},
   "source": [
    "Python podržava i ulančane usporedbe: `a < b < c < d` je kao `a < b and b < c and c < d`, osim što se izraz `b` izračuna samo jednom, a `c` jednom ili nijednom ovisno o tome je li `a < b`."
   ]
  },
  {
   "cell_type": "code",
   "execution_count": 75,
   "metadata": {},
   "outputs": [
    {
     "name": "stdout",
     "output_type": "stream",
     "text": [
      "Broj 1.8 nije između 2 i 5\n"
     ]
    }
   ],
   "source": [
    "x = 1.8\n",
    "if 2 <= x < 5: print(f'Broj {x} je između 2 i 5')\n",
    "else: print(f'Broj {x} nije između 2 i 5')"
   ]
  },
  {
   "cell_type": "markdown",
   "metadata": {},
   "source": [
    "Uobičajene for-petlje u C-u su oblika `for(int i = a; i < b; i += c)`. Pythonov objekt klase `range` je upravo takav da se isto može postići s `for i in range(a, b, c)`. Štoviše, podrazumijevane vrijednosti su `a=0` i `c=1`, tako da `for(i=0;i<n;++i)` možemo jednostavno napisati kao `for i in range(n)`."
   ]
  },
  {
   "cell_type": "code",
   "execution_count": 76,
   "metadata": {},
   "outputs": [
    {
     "name": "stdout",
     "output_type": "stream",
     "text": [
      "23\n",
      "30\n",
      "37\n",
      "44\n",
      "51\n",
      "58\n",
      "65\n",
      "72\n",
      "79\n",
      "86\n",
      "93\n"
     ]
    }
   ],
   "source": [
    "for i in range(23, 95, 7): print(i)"
   ]
  },
  {
   "cell_type": "code",
   "execution_count": 77,
   "metadata": {},
   "outputs": [
    {
     "name": "stdout",
     "output_type": "stream",
     "text": [
      "Znanstvenici\n",
      "vole\n",
      "koristiti\n",
      "Python\n"
     ]
    }
   ],
   "source": [
    "for riječ in 'Znanstvenici', 'vole', 'koristiti', 'Python': print(riječ)"
   ]
  },
  {
   "cell_type": "markdown",
   "metadata": {},
   "source": [
    "Već smo vidjeli da s `f'...{izraz}...'` dobijemo string u koji su uklopljene (*interpolirane*) vrijednosti izraza u trenutku njegove evaluacije. U takvim stringovima, pomoću `{izraz:format}` možemo i formatirati vrijednosti u oblik u kojem želimo ispis. Za format se koriste [slične konvencije kao u C-u](https://docs.python.org/3/library/string.html#formatspec) (recimo `5.2f` za ispis realnog broja u polju širine 5, s dvije decimale), osim što umjesto negativnih širinâ za poravnanje stringova koristimo znakove `>` (desno), `^` (centrirano) ili `<` (lijevo)."
   ]
  },
  {
   "cell_type": "code",
   "execution_count": 78,
   "metadata": {},
   "outputs": [
    {
     "name": "stdout",
     "output_type": "stream",
     "text": [
      "       kamatna_stopa =  0.07\n",
      "             točnost =  2.88\n",
      "           iteracije = 38.00\n"
     ]
    }
   ],
   "source": [
    "parametri = dict(kamatna_stopa=0.07, točnost=2.879, iteracije=38)\n",
    "for parametar, vrijednost in parametri.items():\n",
    "    print(f'{parametar:>20} = {vrijednost:5.2f}')"
   ]
  },
  {
   "cell_type": "markdown",
   "metadata": {},
   "source": [
    "`print` ima nekoliko parametara koji olakšavaju ispis: za `print(x,y,z)`, `sep` predstavlja string koji se ispisuje između `x` i `y` te između `y` i `z` (podrazumijevano `' '`), dok je `end` string koji se ispisuje nakon `z` (podrazumijevano `'\\n'`, odnosno prelazak u novi red)."
   ]
  },
  {
   "cell_type": "code",
   "execution_count": 79,
   "metadata": {},
   "outputs": [
    {
     "name": "stdout",
     "output_type": "stream",
     "text": [
      "8; zatim 7; zatim 52; zatim 4. I to je sve!"
     ]
    }
   ],
   "source": [
    "print(8, 7, 52, 4, sep='; zatim ', end='. I to je sve!')"
   ]
  },
  {
   "cell_type": "markdown",
   "metadata": {},
   "source": [
    "Petlje `while` koristimo jednako kao u C-u. Izvršavaju blok koda dok je ispunjen neki uvjet."
   ]
  },
  {
   "cell_type": "code",
   "execution_count": 80,
   "metadata": {},
   "outputs": [
    {
     "name": "stdout",
     "output_type": "stream",
     "text": [
      "82\t41\t124\t62\t31\t94\t47\t142\t71\t214\t107\t322\t161\t484\t242\t121\t364\t182\t91\t274\t137\t412\t206\t103\t310\t155\t466\t233\t700\t350\t175\t526\t263\t790\t395\t1186\t593\t1780\t890\t445\t1336\t668\t334\t167\t502\t251\t754\t377\t1132\t566\t283\t850\t425\t1276\t638\t319\t958\t479\t1438\t719\t2158\t1079\t3238\t1619\t4858\t2429\t7288\t3644\t1822\t911\t2734\t1367\t4102\t2051\t6154\t3077\t9232\t4616\t2308\t1154\t577\t1732\t866\t433\t1300\t650\t325\t976\t488\t244\t122\t61\t184\t92\t46\t23\t70\t35\t106\t53\t160\t80\t40\t20\t10\t5\t16\t8\t4\t2\t1\t"
     ]
    }
   ],
   "source": [
    "broj = 27\n",
    "while broj > 1:\n",
    "    if broj % 2: broj = broj*3 + 1\n",
    "    else: broj //= 2\n",
    "    print(broj, end='\\t')"
   ]
  },
  {
   "cell_type": "markdown",
   "metadata": {},
   "source": [
    "## Zadaci za vježbu"
   ]
  },
  {
   "cell_type": "markdown",
   "metadata": {},
   "source": [
    "1. Napišite funkciju koja prima $n$, a vraća listu neparnih brojeva od $1$ do $n$.\n",
    "2. Napišite funkciju koja rješava kvadratnu jednadžbu.\n",
    "3. Napišite funkciju `trapezint(f, n, a, b)` koja numerički računa integral funkcije $f$ na intervalu $[a,b]$, koristeći trapeznu formulu $$\\int_a^b f(x)\\,dx\\approx\\frac{h}{2}\\sum_{i=1}^n{\\bigl(f(x_{i-1})+f(x_i)\\bigr)}.$$\n",
    "4. Napišite funkciju za numeričko deriviranje oblika `diff(f, x, h=1e-6)`."
   ]
  }
 ],
 "metadata": {
  "kernelspec": {
   "display_name": "Python 3",
   "language": "python",
   "name": "python3"
  },
  "language_info": {
   "codemirror_mode": {
    "name": "ipython",
    "version": 3
   },
   "file_extension": ".py",
   "mimetype": "text/x-python",
   "name": "python",
   "nbconvert_exporter": "python",
   "pygments_lexer": "ipython3",
   "version": "3.7.7"
  },
  "toc": {
   "base_numbering": 1,
   "nav_menu": {},
   "number_sections": true,
   "sideBar": true,
   "skip_h1_title": false,
   "title_cell": "Table of Contents",
   "title_sidebar": "Contents",
   "toc_cell": false,
   "toc_position": {},
   "toc_section_display": true,
   "toc_window_display": false
  }
 },
 "nbformat": 4,
 "nbformat_minor": 2
}
