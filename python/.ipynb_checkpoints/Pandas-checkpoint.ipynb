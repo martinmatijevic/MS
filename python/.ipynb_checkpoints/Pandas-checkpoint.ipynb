{
 "cells": [
  {
   "cell_type": "markdown",
   "metadata": {},
   "source": [
    "# Predavanje 3\n",
    "## Pandas"
   ]
  },
  {
   "cell_type": "markdown",
   "metadata": {},
   "source": [
    "Numpy omogućava brz i lagan rad s doista homogenim skupinama podataka pravokutnog oblika u proizvoljnom broju dimenzija, ali često nam u stvarnom životu treba nešto malo drugačije. Obično radimo s *tablicama* (isključivo dvodimenzionalnim) podataka, čiji *stupci* jesu homogeni (u jednom stupcu su svi podaci istog tipa), ali međusobno nisu (dva stupca u istoj tablici mogu sadržavati podatke različitih tipova).\n",
    "\n",
    "Također, tablica može imati nekakvo zaglavlje koje možemo shvatiti kao da stupci imaju *imena* pomoću kojih ih možemo dohvaćati iz tablice --- a obično ima i nekakvu metodu dohvaćanja podataka iz pojedinog retka, što možemo shvatiti kao da ima još jedan \"stupac\" zvan *indeks*, koji je zajednički svim stupcima u istoj tablici i time ih povezuje.\n",
    "\n",
    "`pandas` u tu svrhu uvodi dvije klase:\n",
    "* `Series` predstavlja imenovani i indeksirani stupac, odnosno neki spremnik podataka istog tipa koje možemo dohvatiti pomoću ključeva iz indeksa.\n",
    "* `DataFrame` je skupina `Series`a, koje imaju različita imena i isti (zajednički) indeks."
   ]
  },
  {
   "cell_type": "code",
   "execution_count": 1,
   "metadata": {},
   "outputs": [
    {
     "name": "stderr",
     "output_type": "stream",
     "text": [
      "C:\\Users\\Martin\\anaconda3\\lib\\site-packages\\ipykernel_launcher.py:2: FutureWarning: The pandas.datetime class is deprecated and will be removed from pandas in a future version. Import from datetime module instead.\n",
      "  \n",
      "C:\\Users\\Martin\\anaconda3\\lib\\site-packages\\ipykernel_launcher.py:3: FutureWarning: The pandas.datetime class is deprecated and will be removed from pandas in a future version. Import from datetime module instead.\n",
      "  This is separate from the ipykernel package so we can avoid doing imports until\n"
     ]
    },
    {
     "data": {
      "text/html": [
       "<div>\n",
       "<style scoped>\n",
       "    .dataframe tbody tr th:only-of-type {\n",
       "        vertical-align: middle;\n",
       "    }\n",
       "\n",
       "    .dataframe tbody tr th {\n",
       "        vertical-align: top;\n",
       "    }\n",
       "\n",
       "    .dataframe thead th {\n",
       "        text-align: right;\n",
       "    }\n",
       "</style>\n",
       "<table border=\"1\" class=\"dataframe\">\n",
       "  <thead>\n",
       "    <tr style=\"text-align: right;\">\n",
       "      <th></th>\n",
       "      <th>a</th>\n",
       "      <th>b</th>\n",
       "      <th>c</th>\n",
       "      <th>d</th>\n",
       "      <th>e</th>\n",
       "      <th>f</th>\n",
       "      <th>g</th>\n",
       "    </tr>\n",
       "  </thead>\n",
       "  <tbody>\n",
       "    <tr>\n",
       "      <th>jedan</th>\n",
       "      <td>1</td>\n",
       "      <td>9</td>\n",
       "      <td>2.6</td>\n",
       "      <td>riječ</td>\n",
       "      <td>2.000000+3.000000j</td>\n",
       "      <td>2020-03-22</td>\n",
       "      <td>True</td>\n",
       "    </tr>\n",
       "    <tr>\n",
       "      <th>dva</th>\n",
       "      <td>3</td>\n",
       "      <td>5</td>\n",
       "      <td>4.7</td>\n",
       "      <td>nešto</td>\n",
       "      <td>0.000000+1.000000j</td>\n",
       "      <td>2020-03-20</td>\n",
       "      <td>False</td>\n",
       "    </tr>\n",
       "  </tbody>\n",
       "</table>\n",
       "</div>"
      ],
      "text/plain": [
       "       a  b    c      d                   e          f      g\n",
       "jedan  1  9  2.6  riječ  2.000000+3.000000j 2020-03-22   True\n",
       "dva    3  5  4.7  nešto  0.000000+1.000000j 2020-03-20  False"
      ]
     },
     "execution_count": 1,
     "metadata": {},
     "output_type": "execute_result"
    }
   ],
   "source": [
    "import pandas as pd\n",
    "df = pd.DataFrame([[1, 9, 2.6, 'riječ', 2+3j, pd.datetime(2020, 3, 22), True ], \n",
    "                   [3, 5, 4.7, 'nešto',   1j, pd.datetime(2020, 3, 20), False]],\n",
    "            columns=['a', 'b', 'c', 'd', 'e', 'f', 'g'], index=['jedan', 'dva'])\n",
    "df"
   ]
  },
  {
   "cell_type": "code",
   "execution_count": 2,
   "metadata": {},
   "outputs": [
    {
     "name": "stdout",
     "output_type": "stream",
     "text": [
      "<class 'pandas.core.frame.DataFrame'>\n",
      "Index: 2 entries, jedan to dva\n",
      "Data columns (total 7 columns):\n",
      " #   Column  Non-Null Count  Dtype         \n",
      "---  ------  --------------  -----         \n",
      " 0   a       2 non-null      int64         \n",
      " 1   b       2 non-null      int64         \n",
      " 2   c       2 non-null      float64       \n",
      " 3   d       2 non-null      object        \n",
      " 4   e       2 non-null      complex128    \n",
      " 5   f       2 non-null      datetime64[ns]\n",
      " 6   g       2 non-null      bool          \n",
      "dtypes: bool(1), complex128(1), datetime64[ns](1), float64(1), int64(2), object(1)\n",
      "memory usage: 130.0+ bytes\n"
     ]
    }
   ],
   "source": [
    "df.info()"
   ]
  },
  {
   "cell_type": "markdown",
   "metadata": {},
   "source": [
    "### Dohvaćanje podataka"
   ]
  },
  {
   "cell_type": "markdown",
   "metadata": {},
   "source": [
    "Na https://www.hnb.hr/temeljne-funkcije/monetarna-politika/tecajna-lista/tecajna-lista kliknuti Pretraživanje, i odabrati:\n",
    "* Mjesečni prosjeci\n",
    "* Sve godine\n",
    "* Svi mjeseci\n",
    "* Sve (valute)\n",
    "* Svi tečajevi\n",
    "* JSON\n",
    "\n",
    "te kliknuti \"Preuzimanje\". Datoteku raspakirati u tekući direktorij kao `ProsjeciMjesecni_2011-2020.json`."
   ]
  },
  {
   "cell_type": "markdown",
   "metadata": {},
   "source": [
    "Naravno, rijetko ćemo konstruirati `DataFrame` direktno u bilježnici kao što smo učinili gore. Puno češće (kao ovdje) podaci dolaze iz nekog vanjskog izvora. Pogledajmo koje funkcije `pandas` nudi za učitavanje podataka."
   ]
  },
  {
   "cell_type": "code",
   "execution_count": 3,
   "metadata": {},
   "outputs": [
    {
     "data": {
      "text/plain": [
       "{'read_clipboard',\n",
       " 'read_csv',\n",
       " 'read_excel',\n",
       " 'read_feather',\n",
       " 'read_fwf',\n",
       " 'read_gbq',\n",
       " 'read_hdf',\n",
       " 'read_html',\n",
       " 'read_json',\n",
       " 'read_orc',\n",
       " 'read_parquet',\n",
       " 'read_pickle',\n",
       " 'read_sas',\n",
       " 'read_spss',\n",
       " 'read_sql',\n",
       " 'read_sql_query',\n",
       " 'read_sql_table',\n",
       " 'read_stata',\n",
       " 'read_table'}"
      ]
     },
     "execution_count": 3,
     "metadata": {},
     "output_type": "execute_result"
    }
   ],
   "source": [
    "{metoda for metoda in dir(pd) if metoda.startswith('read_')}"
   ]
  },
  {
   "cell_type": "code",
   "execution_count": 4,
   "metadata": {},
   "outputs": [
    {
     "ename": "ValueError",
     "evalue": "Expected object or value",
     "output_type": "error",
     "traceback": [
      "\u001b[1;31m---------------------------------------------------------------------------\u001b[0m",
      "\u001b[1;31mValueError\u001b[0m                                Traceback (most recent call last)",
      "\u001b[1;32m<ipython-input-4-becbae762fae>\u001b[0m in \u001b[0;36m<module>\u001b[1;34m\u001b[0m\n\u001b[1;32m----> 1\u001b[1;33m \u001b[0mtečaj\u001b[0m \u001b[1;33m=\u001b[0m \u001b[0mpd\u001b[0m\u001b[1;33m.\u001b[0m\u001b[0mread_json\u001b[0m\u001b[1;33m(\u001b[0m\u001b[1;34m'ProsjeciMjesecni_2011-2020.json'\u001b[0m\u001b[1;33m,\u001b[0m \u001b[0mencoding\u001b[0m\u001b[1;33m=\u001b[0m\u001b[1;34m'utf-8'\u001b[0m\u001b[1;33m)\u001b[0m\u001b[1;33m\u001b[0m\u001b[1;33m\u001b[0m\u001b[0m\n\u001b[0m\u001b[0;32m      2\u001b[0m \u001b[0mtečaj\u001b[0m\u001b[1;33m.\u001b[0m\u001b[0minfo\u001b[0m\u001b[1;33m(\u001b[0m\u001b[1;33m)\u001b[0m\u001b[1;33m\u001b[0m\u001b[1;33m\u001b[0m\u001b[0m\n",
      "\u001b[1;32m~\\anaconda3\\lib\\site-packages\\pandas\\util\\_decorators.py\u001b[0m in \u001b[0;36mwrapper\u001b[1;34m(*args, **kwargs)\u001b[0m\n\u001b[0;32m    212\u001b[0m                 \u001b[1;32melse\u001b[0m\u001b[1;33m:\u001b[0m\u001b[1;33m\u001b[0m\u001b[1;33m\u001b[0m\u001b[0m\n\u001b[0;32m    213\u001b[0m                     \u001b[0mkwargs\u001b[0m\u001b[1;33m[\u001b[0m\u001b[0mnew_arg_name\u001b[0m\u001b[1;33m]\u001b[0m \u001b[1;33m=\u001b[0m \u001b[0mnew_arg_value\u001b[0m\u001b[1;33m\u001b[0m\u001b[1;33m\u001b[0m\u001b[0m\n\u001b[1;32m--> 214\u001b[1;33m             \u001b[1;32mreturn\u001b[0m \u001b[0mfunc\u001b[0m\u001b[1;33m(\u001b[0m\u001b[1;33m*\u001b[0m\u001b[0margs\u001b[0m\u001b[1;33m,\u001b[0m \u001b[1;33m**\u001b[0m\u001b[0mkwargs\u001b[0m\u001b[1;33m)\u001b[0m\u001b[1;33m\u001b[0m\u001b[1;33m\u001b[0m\u001b[0m\n\u001b[0m\u001b[0;32m    215\u001b[0m \u001b[1;33m\u001b[0m\u001b[0m\n\u001b[0;32m    216\u001b[0m         \u001b[1;32mreturn\u001b[0m \u001b[0mcast\u001b[0m\u001b[1;33m(\u001b[0m\u001b[0mF\u001b[0m\u001b[1;33m,\u001b[0m \u001b[0mwrapper\u001b[0m\u001b[1;33m)\u001b[0m\u001b[1;33m\u001b[0m\u001b[1;33m\u001b[0m\u001b[0m\n",
      "\u001b[1;32m~\\anaconda3\\lib\\site-packages\\pandas\\io\\json\\_json.py\u001b[0m in \u001b[0;36mread_json\u001b[1;34m(path_or_buf, orient, typ, dtype, convert_axes, convert_dates, keep_default_dates, numpy, precise_float, date_unit, encoding, lines, chunksize, compression)\u001b[0m\n\u001b[0;32m    606\u001b[0m         \u001b[1;32mreturn\u001b[0m \u001b[0mjson_reader\u001b[0m\u001b[1;33m\u001b[0m\u001b[1;33m\u001b[0m\u001b[0m\n\u001b[0;32m    607\u001b[0m \u001b[1;33m\u001b[0m\u001b[0m\n\u001b[1;32m--> 608\u001b[1;33m     \u001b[0mresult\u001b[0m \u001b[1;33m=\u001b[0m \u001b[0mjson_reader\u001b[0m\u001b[1;33m.\u001b[0m\u001b[0mread\u001b[0m\u001b[1;33m(\u001b[0m\u001b[1;33m)\u001b[0m\u001b[1;33m\u001b[0m\u001b[1;33m\u001b[0m\u001b[0m\n\u001b[0m\u001b[0;32m    609\u001b[0m     \u001b[1;32mif\u001b[0m \u001b[0mshould_close\u001b[0m\u001b[1;33m:\u001b[0m\u001b[1;33m\u001b[0m\u001b[1;33m\u001b[0m\u001b[0m\n\u001b[0;32m    610\u001b[0m         \u001b[0mfilepath_or_buffer\u001b[0m\u001b[1;33m.\u001b[0m\u001b[0mclose\u001b[0m\u001b[1;33m(\u001b[0m\u001b[1;33m)\u001b[0m\u001b[1;33m\u001b[0m\u001b[1;33m\u001b[0m\u001b[0m\n",
      "\u001b[1;32m~\\anaconda3\\lib\\site-packages\\pandas\\io\\json\\_json.py\u001b[0m in \u001b[0;36mread\u001b[1;34m(self)\u001b[0m\n\u001b[0;32m    729\u001b[0m             \u001b[0mobj\u001b[0m \u001b[1;33m=\u001b[0m \u001b[0mself\u001b[0m\u001b[1;33m.\u001b[0m\u001b[0m_get_object_parser\u001b[0m\u001b[1;33m(\u001b[0m\u001b[0mself\u001b[0m\u001b[1;33m.\u001b[0m\u001b[0m_combine_lines\u001b[0m\u001b[1;33m(\u001b[0m\u001b[0mdata\u001b[0m\u001b[1;33m.\u001b[0m\u001b[0msplit\u001b[0m\u001b[1;33m(\u001b[0m\u001b[1;34m\"\\n\"\u001b[0m\u001b[1;33m)\u001b[0m\u001b[1;33m)\u001b[0m\u001b[1;33m)\u001b[0m\u001b[1;33m\u001b[0m\u001b[1;33m\u001b[0m\u001b[0m\n\u001b[0;32m    730\u001b[0m         \u001b[1;32melse\u001b[0m\u001b[1;33m:\u001b[0m\u001b[1;33m\u001b[0m\u001b[1;33m\u001b[0m\u001b[0m\n\u001b[1;32m--> 731\u001b[1;33m             \u001b[0mobj\u001b[0m \u001b[1;33m=\u001b[0m \u001b[0mself\u001b[0m\u001b[1;33m.\u001b[0m\u001b[0m_get_object_parser\u001b[0m\u001b[1;33m(\u001b[0m\u001b[0mself\u001b[0m\u001b[1;33m.\u001b[0m\u001b[0mdata\u001b[0m\u001b[1;33m)\u001b[0m\u001b[1;33m\u001b[0m\u001b[1;33m\u001b[0m\u001b[0m\n\u001b[0m\u001b[0;32m    732\u001b[0m         \u001b[0mself\u001b[0m\u001b[1;33m.\u001b[0m\u001b[0mclose\u001b[0m\u001b[1;33m(\u001b[0m\u001b[1;33m)\u001b[0m\u001b[1;33m\u001b[0m\u001b[1;33m\u001b[0m\u001b[0m\n\u001b[0;32m    733\u001b[0m         \u001b[1;32mreturn\u001b[0m \u001b[0mobj\u001b[0m\u001b[1;33m\u001b[0m\u001b[1;33m\u001b[0m\u001b[0m\n",
      "\u001b[1;32m~\\anaconda3\\lib\\site-packages\\pandas\\io\\json\\_json.py\u001b[0m in \u001b[0;36m_get_object_parser\u001b[1;34m(self, json)\u001b[0m\n\u001b[0;32m    751\u001b[0m         \u001b[0mobj\u001b[0m \u001b[1;33m=\u001b[0m \u001b[1;32mNone\u001b[0m\u001b[1;33m\u001b[0m\u001b[1;33m\u001b[0m\u001b[0m\n\u001b[0;32m    752\u001b[0m         \u001b[1;32mif\u001b[0m \u001b[0mtyp\u001b[0m \u001b[1;33m==\u001b[0m \u001b[1;34m\"frame\"\u001b[0m\u001b[1;33m:\u001b[0m\u001b[1;33m\u001b[0m\u001b[1;33m\u001b[0m\u001b[0m\n\u001b[1;32m--> 753\u001b[1;33m             \u001b[0mobj\u001b[0m \u001b[1;33m=\u001b[0m \u001b[0mFrameParser\u001b[0m\u001b[1;33m(\u001b[0m\u001b[0mjson\u001b[0m\u001b[1;33m,\u001b[0m \u001b[1;33m**\u001b[0m\u001b[0mkwargs\u001b[0m\u001b[1;33m)\u001b[0m\u001b[1;33m.\u001b[0m\u001b[0mparse\u001b[0m\u001b[1;33m(\u001b[0m\u001b[1;33m)\u001b[0m\u001b[1;33m\u001b[0m\u001b[1;33m\u001b[0m\u001b[0m\n\u001b[0m\u001b[0;32m    754\u001b[0m \u001b[1;33m\u001b[0m\u001b[0m\n\u001b[0;32m    755\u001b[0m         \u001b[1;32mif\u001b[0m \u001b[0mtyp\u001b[0m \u001b[1;33m==\u001b[0m \u001b[1;34m\"series\"\u001b[0m \u001b[1;32mor\u001b[0m \u001b[0mobj\u001b[0m \u001b[1;32mis\u001b[0m \u001b[1;32mNone\u001b[0m\u001b[1;33m:\u001b[0m\u001b[1;33m\u001b[0m\u001b[1;33m\u001b[0m\u001b[0m\n",
      "\u001b[1;32m~\\anaconda3\\lib\\site-packages\\pandas\\io\\json\\_json.py\u001b[0m in \u001b[0;36mparse\u001b[1;34m(self)\u001b[0m\n\u001b[0;32m    855\u001b[0m \u001b[1;33m\u001b[0m\u001b[0m\n\u001b[0;32m    856\u001b[0m         \u001b[1;32melse\u001b[0m\u001b[1;33m:\u001b[0m\u001b[1;33m\u001b[0m\u001b[1;33m\u001b[0m\u001b[0m\n\u001b[1;32m--> 857\u001b[1;33m             \u001b[0mself\u001b[0m\u001b[1;33m.\u001b[0m\u001b[0m_parse_no_numpy\u001b[0m\u001b[1;33m(\u001b[0m\u001b[1;33m)\u001b[0m\u001b[1;33m\u001b[0m\u001b[1;33m\u001b[0m\u001b[0m\n\u001b[0m\u001b[0;32m    858\u001b[0m \u001b[1;33m\u001b[0m\u001b[0m\n\u001b[0;32m    859\u001b[0m         \u001b[1;32mif\u001b[0m \u001b[0mself\u001b[0m\u001b[1;33m.\u001b[0m\u001b[0mobj\u001b[0m \u001b[1;32mis\u001b[0m \u001b[1;32mNone\u001b[0m\u001b[1;33m:\u001b[0m\u001b[1;33m\u001b[0m\u001b[1;33m\u001b[0m\u001b[0m\n",
      "\u001b[1;32m~\\anaconda3\\lib\\site-packages\\pandas\\io\\json\\_json.py\u001b[0m in \u001b[0;36m_parse_no_numpy\u001b[1;34m(self)\u001b[0m\n\u001b[0;32m   1087\u001b[0m         \u001b[1;32mif\u001b[0m \u001b[0morient\u001b[0m \u001b[1;33m==\u001b[0m \u001b[1;34m\"columns\"\u001b[0m\u001b[1;33m:\u001b[0m\u001b[1;33m\u001b[0m\u001b[1;33m\u001b[0m\u001b[0m\n\u001b[0;32m   1088\u001b[0m             self.obj = DataFrame(\n\u001b[1;32m-> 1089\u001b[1;33m                 \u001b[0mloads\u001b[0m\u001b[1;33m(\u001b[0m\u001b[0mjson\u001b[0m\u001b[1;33m,\u001b[0m \u001b[0mprecise_float\u001b[0m\u001b[1;33m=\u001b[0m\u001b[0mself\u001b[0m\u001b[1;33m.\u001b[0m\u001b[0mprecise_float\u001b[0m\u001b[1;33m)\u001b[0m\u001b[1;33m,\u001b[0m \u001b[0mdtype\u001b[0m\u001b[1;33m=\u001b[0m\u001b[1;32mNone\u001b[0m\u001b[1;33m\u001b[0m\u001b[1;33m\u001b[0m\u001b[0m\n\u001b[0m\u001b[0;32m   1090\u001b[0m             )\n\u001b[0;32m   1091\u001b[0m         \u001b[1;32melif\u001b[0m \u001b[0morient\u001b[0m \u001b[1;33m==\u001b[0m \u001b[1;34m\"split\"\u001b[0m\u001b[1;33m:\u001b[0m\u001b[1;33m\u001b[0m\u001b[1;33m\u001b[0m\u001b[0m\n",
      "\u001b[1;31mValueError\u001b[0m: Expected object or value"
     ]
    }
   ],
   "source": [
    "tečaj = pd.read_json('ProsjeciMjesecni_2011-2020.json', encoding='utf-8')\n",
    "tečaj.info()"
   ]
  },
  {
   "cell_type": "code",
   "execution_count": null,
   "metadata": {},
   "outputs": [],
   "source": [
    "tečaj.head()"
   ]
  },
  {
   "cell_type": "markdown",
   "metadata": {},
   "source": [
    "Vidimo listu stupaca. Mnoge od njih mogli bismo ljepše prikazati. Za početak pogledajmo stupac 'Mjesec'.\n",
    "\n",
    "Primijetimo da se `DataFrame` ponaša kao obični prostor imena, koji sadrži stupce i dohvaća ih po imenima."
   ]
  },
  {
   "cell_type": "markdown",
   "metadata": {},
   "source": [
    "### Sređivanje datumâ"
   ]
  },
  {
   "cell_type": "code",
   "execution_count": null,
   "metadata": {},
   "outputs": [],
   "source": [
    "tečaj['Mjesec']"
   ]
  },
  {
   "cell_type": "markdown",
   "metadata": {},
   "source": [
    "Dobili smo `Series`: vidimo da ima ime, `dtype` (kao Numpyjev vektor), a indeksiran je indeksom čitavog `DataFrame`a. U nedostatku pametnije ideje, Pandas retke indeksira s `range(broj_redaka)`, odnosno prirodnim brojevima počevši od 0."
   ]
  },
  {
   "cell_type": "code",
   "execution_count": null,
   "metadata": {},
   "outputs": [],
   "source": [
    "hr_mjeseci = set(tečaj['Mjesec'])\n",
    "hr_mjeseci"
   ]
  },
  {
   "cell_type": "markdown",
   "metadata": {},
   "source": [
    "Dakle, imamo hrvatske nazive mjeseci. Ako bismo željeli to pretvoriti u datume, trebat će nam broj mjeseca. Python [zna](https://docs.python.org/3/library/calendar.html#calendar.month_name) hrvatske nazive za mjesece, samo trebamo prethodno [locale](https://en.wikipedia.org/wiki/Locale_(computer_software%29) podesiti na hrvatski. Nažalost, to se razlikuje ovisno o operacijskom sustavu. Nakon toga izgradimo rječnik koji preslikava nazive mjeseci u njihove redne brojeve."
   ]
  },
  {
   "cell_type": "code",
   "execution_count": null,
   "metadata": {},
   "outputs": [],
   "source": [
    "import platform\n",
    "import calendar\n",
    "OS = platform.system()\n",
    "print(OS)\n",
    "if OS == 'Windows': hrvatski, ulazni, izlazni = 'Croatian_Croatia', 'latin1', 'cp1250'\n",
    "elif OS == 'Linux': hrvatski, ulazni, izlazni = 'hr_HR.UTF8', 'utf-8', 'utf-8'\n",
    "\n",
    "with calendar.different_locale(hrvatski):\n",
    "    imena_mj = [ime_mjeseca.encode(ulazni).decode(izlazni).title()[:2]\n",
    "                    for ime_mjeseca in calendar.month_name]\n",
    "imena_mj"
   ]
  },
  {
   "cell_type": "markdown",
   "metadata": {},
   "source": [
    "Ako gornja ćelija prijavi poruku o grešci, samo prekopirajte izlaz donje ćelije (rječnik) u ulaz nakon `mjesec_broj = `. Tako ćete hardkodirati hrvatske nazive mjeseci za kasniju upotrebu."
   ]
  },
  {
   "cell_type": "code",
   "execution_count": null,
   "metadata": {},
   "outputs": [],
   "source": [
    "mjesec_broj = {hr_mjesec: imena_mj.index(hr_mjesec[:2]) for hr_mjesec in hr_mjeseci}\n",
    "mjesec_broj"
   ]
  },
  {
   "cell_type": "markdown",
   "metadata": {},
   "source": [
    "Sada možemo zamijeniti sve vrijednosti u stupcu `Mjesec` koristeći rječnik `mjesec_broj`. Parametar `inplace` služi tome da se zamjena obavi na licu mjesta, unutar samog dataframea `tečaj` (umjesto vraćanja novog dataframea)."
   ]
  },
  {
   "cell_type": "code",
   "execution_count": null,
   "metadata": {},
   "outputs": [],
   "source": [
    "tečaj.replace({'Mjesec': mjesec_broj}, inplace=True)\n",
    "tečaj.head(3)"
   ]
  },
  {
   "cell_type": "markdown",
   "metadata": {},
   "source": [
    "Sada napokon možemo stvoriti stupac 'Datum' (za dan u mjesecu fiksiramo `1`), te obrisati zasebne stupce za godinu i mjesec koji nam više ne trebaju."
   ]
  },
  {
   "cell_type": "code",
   "execution_count": null,
   "metadata": {
    "scrolled": true
   },
   "outputs": [],
   "source": [
    "tečaj['Datum'] = pd.to_datetime(dict(year=tečaj['Godina'], month=tečaj['Mjesec'], day=1))\n",
    "del tečaj['Godina'], tečaj['Mjesec']\n",
    "tečaj.head(3)"
   ]
  },
  {
   "cell_type": "markdown",
   "metadata": {},
   "source": [
    "Umjesto beskorisnih rednih brojeva, stavimo datum kao indeks kojim možemo dohvaćati podatke."
   ]
  },
  {
   "cell_type": "code",
   "execution_count": null,
   "metadata": {},
   "outputs": [],
   "source": [
    "tečaj.set_index('Datum', inplace=True)\n",
    "tečaj.head(3)"
   ]
  },
  {
   "cell_type": "markdown",
   "metadata": {},
   "source": [
    "### Države, valute i šifre"
   ]
  },
  {
   "cell_type": "markdown",
   "metadata": {},
   "source": [
    "Sada se bacimo na stupce koji se odnose na valutu. Pretpostavljamo da postoji bijekcija (trijekcija?:) između sljedeća 3 stupca:"
   ]
  },
  {
   "cell_type": "code",
   "execution_count": null,
   "metadata": {},
   "outputs": [],
   "source": [
    "tečaj[['Država', 'Valuta', 'Šifra valute']].drop_duplicates()"
   ]
  },
  {
   "cell_type": "markdown",
   "metadata": {},
   "source": [
    "Čini se da je doista tako (u pojedinim stupcima nema duplikata --- što ovdje možemo ustanoviti golim okom, ali kod kompliciranijih podataka, dobro je koristiti metodu `.duplicated`), jedino što [XDR](https://hr.wikipedia.org/wiki/Posebna_prava_vu%C4%8Denja) nema napisanu državu. Kako euro ima EMU, čini se logičnim XDRu staviti MMF. Šifra valute nam svakako više ne treba, jer je u bijekciji s valutom, a nema neku pametnu semantiku ionako."
   ]
  },
  {
   "cell_type": "markdown",
   "metadata": {},
   "source": [
    "`df.loc` je također prostor imena, ali po koordinatama \"redak, stupac\" (slično kao za `numpy.array`). Možemo koristiti razne trikove koje znamo iz Numpyja, kao što su maske (odmah dolje) i broadcastane operacije (niže dolje, kad budemo doista radili nešto s tečajevima kao realnim brojevima)."
   ]
  },
  {
   "cell_type": "code",
   "execution_count": null,
   "metadata": {},
   "outputs": [],
   "source": [
    "tečaj.loc[tečaj['Valuta'] == 'XDR', 'Država'] = 'MMF'\n",
    "del tečaj['Šifra valute']\n",
    "tečaj[['Država', 'Valuta']].drop_duplicates()"
   ]
  },
  {
   "cell_type": "markdown",
   "metadata": {},
   "source": [
    "Državu zasad ostavimo, ljepše izgleda od troslovne skraćenice valute za kasniju vizualizaciju."
   ]
  },
  {
   "cell_type": "markdown",
   "metadata": {},
   "source": [
    "### Tečajevi kao brojevi"
   ]
  },
  {
   "cell_type": "markdown",
   "metadata": {},
   "source": [
    "Nego, pogledajmo tri stupca sa samim tečajevima. \n",
    "* Prvo, maknimo podstring ` za devize` s kraja njihovih naziva. \n",
    "* Drugo, pretvorimo ih u brojeve --- samo prethodno moramo decimalni zarez zamijeniti decimalnom točkom (to također `locale` može, ali je komplicirano).\n",
    "* I treće, pretvorimo ove retke što imaju `100` u stupcu `Jedinica`, u retke sa 100 puta manjim tečajevima."
   ]
  },
  {
   "cell_type": "code",
   "execution_count": null,
   "metadata": {},
   "outputs": [],
   "source": [
    "def makni_za_devize(ime_stupca):\n",
    "    višak = ' za devize'\n",
    "    if ime_stupca.endswith(višak):\n",
    "        rez = -len(višak)\n",
    "        return ime_stupca[:rez]\n",
    "    else: return ime_stupca\n",
    "tečaj.rename(columns=makni_za_devize, inplace=True)\n",
    "\n",
    "for vrsta in 'Kupovni', 'Prodajni', 'Srednji':\n",
    "    tečaj[vrsta] = pd.to_numeric(tečaj[vrsta].str.replace(',', '.'))\n",
    "    tečaj[vrsta] /= tečaj['Jedinica']\n",
    "del tečaj['Jedinica']\n",
    "\n",
    "tečaj.head()"
   ]
  },
  {
   "cell_type": "markdown",
   "metadata": {},
   "source": [
    "### Srednji tečaj je dovoljan"
   ]
  },
  {
   "cell_type": "code",
   "execution_count": null,
   "metadata": {},
   "outputs": [],
   "source": [
    "%matplotlib inline\n",
    "tečaj[tečaj['Valuta'] == 'EUR'].plot()"
   ]
  },
  {
   "cell_type": "markdown",
   "metadata": {},
   "source": [
    "Iz grafa zaključujemo da su kupovni, srednji i prodajni tečajevi vrlo slični, te nam vjerojatno ne trebaju sva tri podatka (iz bilo kojeg možemo zaključiti ostala dva). Kako XDR nema kupovni i prodajni tečaj, želimo srednji tečaj proglasiti osnovnim, a kupovni i prodajni računati iz njega."
   ]
  },
  {
   "cell_type": "code",
   "execution_count": null,
   "metadata": {},
   "outputs": [],
   "source": [
    "tečaj[tečaj['Valuta'] == 'XDR'].head()"
   ]
  },
  {
   "cell_type": "markdown",
   "metadata": {},
   "source": [
    "Prva, relativno očita, hipoteza je da \"srednji\" tečaj doista znači sredinu, konkretno aritmetičku sredinu."
   ]
  },
  {
   "cell_type": "code",
   "execution_count": null,
   "metadata": {},
   "outputs": [],
   "source": [
    "(tečaj[['Kupovni', 'Prodajni']].mean(axis=1) - tečaj['Srednji']).abs().max()"
   ]
  },
  {
   "cell_type": "markdown",
   "metadata": {},
   "source": [
    "Odstupanje od $5\\cdot10^{-7}$ je očito samo posljedica zaokruživanja (jer su tečajevi zaokruženi na 6 decimala).\n",
    "\n",
    "Ipak, to nije dovoljno da rekonstruiramo i kupovni i prodajni tečaj iz srednjeg --- moramo ustanoviti kolika je razlika. Apsolutna razlika vjerojatno nema smisla, između ostalog jer su neki tečajevi bili dijeljeni sa 100. Pogledajmo relativnu razliku, odnosno omjer."
   ]
  },
  {
   "cell_type": "code",
   "execution_count": null,
   "metadata": {
    "scrolled": true
   },
   "outputs": [],
   "source": [
    "pd.DataFrame({vrsta: tečaj[vrsta] / tečaj['Srednji']\n",
    "              for vrsta in ['Kupovni', 'Prodajni']}).describe()"
   ]
  },
  {
   "cell_type": "markdown",
   "metadata": {},
   "source": [
    "std (standardna devijacija) od $<5\\cdot10^{-7}$ pokazuje da su stupci zapravo konstantni. Vidimo da je razlika 0.3% u svakom smjeru: kupovni je 0.3% manji, a prodajni 0.3% veći od srednjeg. Iz toga slijedi da ih lako možemo rekonstruirati, te ih ne moramo pamtiti kao zasebne stupce u tablici."
   ]
  },
  {
   "cell_type": "code",
   "execution_count": null,
   "metadata": {},
   "outputs": [],
   "source": [
    "(tečaj['Srednji']*1.003 - tečaj['Prodajni']).describe()"
   ]
  },
  {
   "cell_type": "code",
   "execution_count": null,
   "metadata": {},
   "outputs": [],
   "source": [
    "del tečaj['Prodajni'], tečaj['Kupovni']\n",
    "tečaj.head()"
   ]
  },
  {
   "cell_type": "markdown",
   "metadata": {},
   "source": [
    "### Grafovi"
   ]
  },
  {
   "cell_type": "markdown",
   "metadata": {},
   "source": [
    "Pogledajmo primjer grafičkog prikaza: kretanje tečaja švicarskog franka kroz praćeno razdoblje. (Jasno se vidi ogromni skok početkom 2015. godine.)"
   ]
  },
  {
   "cell_type": "code",
   "execution_count": null,
   "metadata": {},
   "outputs": [],
   "source": [
    "tečaj.loc[tečaj['Valuta'] == 'CHF', 'Srednji'].plot()"
   ]
  },
  {
   "cell_type": "markdown",
   "metadata": {},
   "source": [
    "Možemo napraviti i grafove za svaku pojedinu valutu. `df.groupby(stupac)` daje parove `(vrijednost, podokvir)`, gdje `podokvir` ima ostale stupce iz `df` (različite od `stupac`), i one retke u kojima `stupac` ima vrijednost `vrijednost`."
   ]
  },
  {
   "cell_type": "code",
   "execution_count": null,
   "metadata": {},
   "outputs": [],
   "source": [
    "for država, podokvir in tečaj.groupby('Država'):\n",
    "    podokvir.plot(title=država, legend=None)"
   ]
  },
  {
   "cell_type": "markdown",
   "metadata": {},
   "source": [
    "### Odnos dviju stranih valuta"
   ]
  },
  {
   "cell_type": "markdown",
   "metadata": {},
   "source": [
    "Da bismo pratili relativni tečaj dviju valuta od kojih nijedna nije kuna, potrebno je različite valute dobiti kao stupce (tada je njihov kvocijent relativni tečaj). Jednostavan način da se to učini je staviti valutu u indeks (maknut ćemo državu da nam ne smeta), i onda pozvati metodu `unstack`. Nažalost, neki retci su iz nekog razloga duplicirani (indeks ne inzistira na jedinstvenosti ključeva uvijek, samo kod nekih operacija -- a `unstack` je jedna od njih."
   ]
  },
  {
   "cell_type": "code",
   "execution_count": null,
   "metadata": {
    "scrolled": false
   },
   "outputs": [],
   "source": [
    "tečaj.set_index([tečaj.index, 'Valuta'], inplace=True)\n",
    "del tečaj['Država']\n",
    "tečaj = tečaj.loc[~tečaj.index.duplicated(), 'Srednji'].unstack('Valuta')\n",
    "tečaj.head()"
   ]
  },
  {
   "cell_type": "markdown",
   "metadata": {},
   "source": [
    "Sada možemo grafički prikazati recimo kretanje tečaja €/\\$."
   ]
  },
  {
   "cell_type": "code",
   "execution_count": null,
   "metadata": {},
   "outputs": [],
   "source": [
    "tečaj.columns"
   ]
  },
  {
   "cell_type": "code",
   "execution_count": null,
   "metadata": {},
   "outputs": [],
   "source": [
    "(tečaj['CHF'] / tečaj['USD']).plot()"
   ]
  },
  {
   "cell_type": "markdown",
   "metadata": {},
   "source": [
    "## Domaća zadaća"
   ]
  },
  {
   "cell_type": "markdown",
   "metadata": {},
   "source": [
    "Proučite malo podatke iz https://nyu.data-bootcamp.com/. Inspirirajte se za 1. zadaću.\n",
    "\n",
    "Također, na njihovom Githubu (https://github.com/nyusterndatabootcamp/notebooks) ima dosta korisnih stvari."
   ]
  },
  {
   "cell_type": "code",
   "execution_count": null,
   "metadata": {},
   "outputs": [],
   "source": []
  }
 ],
 "metadata": {
  "kernelspec": {
   "display_name": "Python 3",
   "language": "python",
   "name": "python3"
  },
  "language_info": {
   "codemirror_mode": {
    "name": "ipython",
    "version": 3
   },
   "file_extension": ".py",
   "mimetype": "text/x-python",
   "name": "python",
   "nbconvert_exporter": "python",
   "pygments_lexer": "ipython3",
   "version": "3.7.6"
  }
 },
 "nbformat": 4,
 "nbformat_minor": 2
}
