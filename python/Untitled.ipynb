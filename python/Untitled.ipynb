{
 "cells": [
  {
   "cell_type": "code",
   "execution_count": 1,
   "metadata": {
    "ExecuteTime": {
     "end_time": "2020-04-20T17:09:33.657865Z",
     "start_time": "2020-04-20T17:09:33.211065Z"
    }
   },
   "outputs": [],
   "source": [
    "import sympy as sp"
   ]
  },
  {
   "cell_type": "markdown",
   "metadata": {},
   "source": [
    "# (Re)prezentacija simboličkih izraza"
   ]
  },
  {
   "cell_type": "markdown",
   "metadata": {},
   "source": [
    "konverzija u LaTeX, DOT (Graphviz), pprint, ili transformacije izraza koje se automatski izvode pri njihovom pretvaranju u simboličku reprezentaciju"
   ]
  },
  {
   "cell_type": "code",
   "execution_count": 2,
   "metadata": {
    "ExecuteTime": {
     "end_time": "2020-04-20T17:09:33.717067Z",
     "start_time": "2020-04-20T17:09:33.658865Z"
    }
   },
   "outputs": [
    {
     "data": {
      "text/plain": [
       "'5^{x + y} + \\\\frac{1}{9}'"
      ]
     },
     "execution_count": 2,
     "metadata": {},
     "output_type": "execute_result"
    }
   ],
   "source": [
    "sp.latex(sp.sympify('3**(-2)+5**(x+y)')) "
   ]
  },
  {
   "cell_type": "markdown",
   "metadata": {},
   "source": [
    "# Linearna algebra"
   ]
  },
  {
   "cell_type": "markdown",
   "metadata": {},
   "source": [
    "(simbolički) matrični/vektorski račun"
   ]
  },
  {
   "cell_type": "code",
   "execution_count": 3,
   "metadata": {
    "ExecuteTime": {
     "end_time": "2020-04-20T17:09:33.726060Z",
     "start_time": "2020-04-20T17:09:33.718059Z"
    }
   },
   "outputs": [
    {
     "data": {
      "text/latex": [
       "$\\displaystyle \\left[\\begin{matrix}4\\\\2\\\\6\\end{matrix}\\right]$"
      ],
      "text/plain": [
       "Matrix([\n",
       "[4],\n",
       "[2],\n",
       "[6]])"
      ]
     },
     "execution_count": 3,
     "metadata": {},
     "output_type": "execute_result"
    }
   ],
   "source": [
    "A = sp.Matrix([ [3,2, -1], [4, 3, 1], [2, 3, 2] ])\n",
    "x = sp.Matrix([[4],[2],[6]])\n",
    "b = A*x\n",
    "A.LUsolve(b)"
   ]
  },
  {
   "cell_type": "markdown",
   "metadata": {},
   "source": [
    "# Diferencijalni i integralni račun"
   ]
  },
  {
   "cell_type": "markdown",
   "metadata": {},
   "source": [
    "neki težak integral, (parcijalna) diferencijalna jednadžba (možda s početnim uvjetom), implicitno zadane funkcije, limesi koji se ne mogu riješiti L'Hôpitalom"
   ]
  },
  {
   "cell_type": "code",
   "execution_count": 4,
   "metadata": {
    "ExecuteTime": {
     "end_time": "2020-04-20T17:09:34.101052Z",
     "start_time": "2020-04-20T17:09:33.728062Z"
    }
   },
   "outputs": [
    {
     "data": {
      "text/latex": [
       "$\\displaystyle - \\frac{2}{\\log{\\left(3 \\right)}} + \\frac{\\pi}{4} + \\frac{2 \\cdot 3^{\\frac{\\pi}{2}}}{\\log{\\left(3 \\right)}}$"
      ],
      "text/plain": [
       "-2/log(3) + pi/4 + 2*3**(pi/2)/log(3)"
      ]
     },
     "execution_count": 4,
     "metadata": {},
     "output_type": "execute_result"
    }
   ],
   "source": [
    "from sympy.abc import x\n",
    "sp.Integral(sp.sqrt(3**x)-sp.cos(x)**2+2*sp.sin(2*x)**4, (x, 0, sp.pi)).doit()"
   ]
  },
  {
   "cell_type": "markdown",
   "metadata": {},
   "source": [
    "# Geometrija"
   ]
  },
  {
   "cell_type": "markdown",
   "metadata": {},
   "source": [
    "https://docs.sympy.org/latest/modules/geometry/index.html"
   ]
  },
  {
   "cell_type": "code",
   "execution_count": 5,
   "metadata": {
    "ExecuteTime": {
     "end_time": "2020-04-20T17:09:34.130059Z",
     "start_time": "2020-04-20T17:09:34.102052Z"
    }
   },
   "outputs": [
    {
     "data": {
      "text/plain": [
       "(Point2D(2 - 3*sqrt(3), 2), Point2D(2 + 3*sqrt(3), 2))"
      ]
     },
     "execution_count": 5,
     "metadata": {},
     "output_type": "execute_result"
    }
   ],
   "source": [
    "e1 = sp.Ellipse(sp.Point(2, 2), 6, 3)\n",
    "e1.foci"
   ]
  },
  {
   "cell_type": "markdown",
   "metadata": {},
   "source": [
    "# Logika i zaključivanje"
   ]
  },
  {
   "cell_type": "markdown",
   "metadata": {},
   "source": [
    "ask / assumptions / refine, upiti o svojstvima matematičkih objekata"
   ]
  },
  {
   "cell_type": "code",
   "execution_count": 6,
   "metadata": {
    "ExecuteTime": {
     "end_time": "2020-04-20T17:09:34.152072Z",
     "start_time": "2020-04-20T17:09:34.131058Z"
    }
   },
   "outputs": [
    {
     "name": "stdout",
     "output_type": "stream",
     "text": [
      "True\n"
     ]
    }
   ],
   "source": [
    "from sympy.abc import x\n",
    "fact = [sp.Q.prime(x)]\n",
    "with sp.assuming(*fact):\n",
    "    print(sp.ask(sp.Q.rational(2 / x)))"
   ]
  },
  {
   "cell_type": "markdown",
   "metadata": {},
   "source": [
    "# Algebarske manipulacije"
   ]
  },
  {
   "cell_type": "markdown",
   "metadata": {},
   "source": [
    "neki impresivni .simplify ili .factor, možda expand_func"
   ]
  },
  {
   "cell_type": "code",
   "execution_count": 7,
   "metadata": {
    "ExecuteTime": {
     "end_time": "2020-04-20T17:09:34.169067Z",
     "start_time": "2020-04-20T17:09:34.153073Z"
    }
   },
   "outputs": [
    {
     "data": {
      "text/latex": [
       "$\\displaystyle - 21 x - 9$"
      ],
      "text/plain": [
       "-21*x - 9"
      ]
     },
     "execution_count": 7,
     "metadata": {},
     "output_type": "execute_result"
    }
   ],
   "source": [
    "from sympy.abc import x\n",
    "((3*x+1)*(2*x-1)+(x+2)*(x-3)-(x-3)*(x+1)+(x+2)*(x-1)-(x+3)*(7*x+1)).expand()"
   ]
  },
  {
   "cell_type": "code",
   "execution_count": null,
   "metadata": {},
   "outputs": [],
   "source": []
  }
 ],
 "metadata": {
  "kernelspec": {
   "display_name": "Python 3",
   "language": "python",
   "name": "python3"
  },
  "language_info": {
   "codemirror_mode": {
    "name": "ipython",
    "version": 3
   },
   "file_extension": ".py",
   "mimetype": "text/x-python",
   "name": "python",
   "nbconvert_exporter": "python",
   "pygments_lexer": "ipython3",
   "version": "3.7.7"
  },
  "toc": {
   "base_numbering": 1,
   "nav_menu": {},
   "number_sections": true,
   "sideBar": true,
   "skip_h1_title": false,
   "title_cell": "Table of Contents",
   "title_sidebar": "Contents",
   "toc_cell": false,
   "toc_position": {},
   "toc_section_display": true,
   "toc_window_display": false
  }
 },
 "nbformat": 4,
 "nbformat_minor": 4
}
