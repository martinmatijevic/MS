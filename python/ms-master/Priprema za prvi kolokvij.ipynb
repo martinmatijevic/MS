{
 "cells": [
  {
   "cell_type": "markdown",
   "metadata": {},
   "source": [
    "# Probni prvi kolokvij\n",
    "\n",
    "## Nakić 1"
   ]
  },
  {
   "cell_type": "markdown",
   "metadata": {},
   "source": [
    "Pomoću for petlji napišite ekvivalent donjeg koda\n",
    "```py\n",
    "q = [r**2 for r in [10**i for i in range(5)]]\n",
    "```"
   ]
  },
  {
   "cell_type": "code",
   "execution_count": 1,
   "metadata": {},
   "outputs": [],
   "source": [
    "unutarnja = [10**i for i in range(5)]\n",
    "q = [r**2 for r in unutarnja]"
   ]
  },
  {
   "cell_type": "code",
   "execution_count": 1,
   "metadata": {},
   "outputs": [],
   "source": [
    "unutarnja = []\n",
    "for i in range(5):\n",
    "    unutarnja.append(10**i)\n",
    "q = []\n",
    "for r in unutarnja:\n",
    "    q.append(r**2)"
   ]
  },
  {
   "cell_type": "code",
   "execution_count": 2,
   "metadata": {},
   "outputs": [
    {
     "data": {
      "text/plain": [
       "[1, 100, 10000, 1000000, 100000000]"
      ]
     },
     "execution_count": 2,
     "metadata": {},
     "output_type": "execute_result"
    }
   ],
   "source": [
    "q"
   ]
  },
  {
   "cell_type": "code",
   "execution_count": 3,
   "metadata": {},
   "outputs": [],
   "source": [
    "q = []\n",
    "for i in range(5):\n",
    "    r = 10**i\n",
    "    q.append(r**2)"
   ]
  },
  {
   "cell_type": "code",
   "execution_count": 5,
   "metadata": {},
   "outputs": [],
   "source": [
    "q = []\n",
    "for i in range(0, 10, 2): q.append(10**i)"
   ]
  },
  {
   "cell_type": "code",
   "execution_count": 6,
   "metadata": {},
   "outputs": [
    {
     "data": {
      "text/plain": [
       "[1, 100, 10000, 1000000, 100000000]"
      ]
     },
     "execution_count": 6,
     "metadata": {},
     "output_type": "execute_result"
    }
   ],
   "source": [
    "q"
   ]
  },
  {
   "cell_type": "code",
   "execution_count": 5,
   "metadata": {},
   "outputs": [],
   "source": [
    "skup = {broj + 5 for broj in range(5, 99, 7) if broj % 3 == 1}"
   ]
  },
  {
   "cell_type": "code",
   "execution_count": 6,
   "metadata": {},
   "outputs": [
    {
     "data": {
      "text/plain": [
       "{24, 45, 66, 87}"
      ]
     },
     "execution_count": 6,
     "metadata": {},
     "output_type": "execute_result"
    }
   ],
   "source": [
    "skup"
   ]
  },
  {
   "cell_type": "code",
   "execution_count": 7,
   "metadata": {},
   "outputs": [],
   "source": [
    "skup = set()\n",
    "for broj in range(5, 99, 7):\n",
    "    if broj % 3 == 1:\n",
    "        skup.add(broj + 5)"
   ]
  },
  {
   "cell_type": "code",
   "execution_count": 8,
   "metadata": {},
   "outputs": [
    {
     "data": {
      "text/plain": [
       "{24, 45, 66, 87}"
      ]
     },
     "execution_count": 8,
     "metadata": {},
     "output_type": "execute_result"
    }
   ],
   "source": [
    "skup"
   ]
  },
  {
   "cell_type": "code",
   "execution_count": 9,
   "metadata": {},
   "outputs": [],
   "source": [
    "rječnik = {ime: len(ime) for ime in 'Borna Ivka Mare Silvana'.split()}"
   ]
  },
  {
   "cell_type": "code",
   "execution_count": 10,
   "metadata": {},
   "outputs": [
    {
     "data": {
      "text/plain": [
       "{'Borna': 5, 'Ivka': 4, 'Mare': 4, 'Silvana': 7}"
      ]
     },
     "execution_count": 10,
     "metadata": {},
     "output_type": "execute_result"
    }
   ],
   "source": [
    "rječnik"
   ]
  },
  {
   "cell_type": "code",
   "execution_count": 11,
   "metadata": {},
   "outputs": [],
   "source": [
    "rječnik = {}\n",
    "for ime in 'Borna Ivka Mare Silvana'.split():\n",
    "    rječnik[ime] = len(ime)"
   ]
  },
  {
   "cell_type": "code",
   "execution_count": 12,
   "metadata": {},
   "outputs": [
    {
     "data": {
      "text/plain": [
       "{'Borna': 5, 'Ivka': 4, 'Mare': 4, 'Silvana': 7}"
      ]
     },
     "execution_count": 12,
     "metadata": {},
     "output_type": "execute_result"
    }
   ],
   "source": [
    "rječnik"
   ]
  },
  {
   "cell_type": "code",
   "execution_count": 13,
   "metadata": {},
   "outputs": [],
   "source": [
    "velika = [i + j for i in range(10) for j in range(i) if j % 3 != i % 4]"
   ]
  },
  {
   "cell_type": "code",
   "execution_count": 15,
   "metadata": {},
   "outputs": [
    {
     "name": "stdout",
     "output_type": "stream",
     "text": [
      "[1, 2, 3, 3, 4, 5, 5, 6, 5, 7, 8, 6, 7, 9, 10, 7, 8, 9, 10, 11, 12, 13, 9, 10, 12, 13, 15, 9, 11, 12, 14, 15, 17]\n"
     ]
    }
   ],
   "source": [
    "print(velika)"
   ]
  },
  {
   "cell_type": "code",
   "execution_count": 16,
   "metadata": {},
   "outputs": [],
   "source": [
    "velika = []\n",
    "for i in range(10):\n",
    "    for j in range(i):\n",
    "        if j % 3 != i % 4:\n",
    "            velika.append(i + j)"
   ]
  },
  {
   "cell_type": "code",
   "execution_count": 18,
   "metadata": {},
   "outputs": [
    {
     "name": "stdout",
     "output_type": "stream",
     "text": [
      "[1, 2, 3, 3, 4, 5, 5, 6, 5, 7, 8, 6, 7, 9, 10, 7, 8, 9, 10, 11, 12, 13, 9, 10, 12, 13, 15, 9, 11, 12, 14, 15, 17]\n"
     ]
    }
   ],
   "source": [
    "print(velika)"
   ]
  },
  {
   "cell_type": "markdown",
   "metadata": {},
   "source": [
    "## Nakić 2"
   ]
  },
  {
   "cell_type": "markdown",
   "metadata": {},
   "source": [
    "Napišite funkciju koja za ulaz prima broj $N$. Funkcija treba kreirati slučajan `numpy` niz duljine $N$ s uniformnom distribucijom, zatim treba naći broj $M$ brojeva u nizu koji leže između $0.5$ i $0.6$, te treba vratiti broj $\\frac{M}{N}$. Učinite funkciju interaktivnom."
   ]
  },
  {
   "cell_type": "code",
   "execution_count": 13,
   "metadata": {},
   "outputs": [],
   "source": [
    "import numpy as np"
   ]
  },
  {
   "cell_type": "code",
   "execution_count": 23,
   "metadata": {},
   "outputs": [],
   "source": [
    "import numpy as np\n",
    "def proporcija(N):\n",
    "    niz = np.random.uniform(size=N)\n",
    "    M = ((niz > .5) & (niz < .6)).sum()\n",
    "    return M / N"
   ]
  },
  {
   "cell_type": "code",
   "execution_count": 25,
   "metadata": {},
   "outputs": [
    {
     "data": {
      "application/vnd.jupyter.widget-view+json": {
       "model_id": "d8c4a94326d743228c00c7ba296c5440",
       "version_major": 2,
       "version_minor": 0
      },
      "text/html": [
       "<p>Failed to display Jupyter Widget of type <code>interactive</code>.</p>\n",
       "<p>\n",
       "  If you're reading this message in the Jupyter Notebook or JupyterLab Notebook, it may mean\n",
       "  that the widgets JavaScript is still loading. If this message persists, it\n",
       "  likely means that the widgets JavaScript library is either not installed or\n",
       "  not enabled. See the <a href=\"https://ipywidgets.readthedocs.io/en/stable/user_install.html\">Jupyter\n",
       "  Widgets Documentation</a> for setup instructions.\n",
       "</p>\n",
       "<p>\n",
       "  If you're reading this message in another frontend (for example, a static\n",
       "  rendering on GitHub or <a href=\"https://nbviewer.jupyter.org/\">NBViewer</a>),\n",
       "  it may mean that your frontend doesn't currently support widgets.\n",
       "</p>\n"
      ],
      "text/plain": [
       "interactive(children=(IntSlider(value=10, description='N', min=1), Output()), _dom_classes=('widget-interact',))"
      ]
     },
     "metadata": {},
     "output_type": "display_data"
    },
    {
     "data": {
      "text/plain": [
       "<function __main__.proporcija>"
      ]
     },
     "execution_count": 25,
     "metadata": {},
     "output_type": "execute_result"
    }
   ],
   "source": [
    "import ipywidgets\n",
    "slajder = ipywidgets.IntSlider(min=1, max=100, step=1, value=10)\n",
    "ipywidgets.interact(proporcija, N=slajder)"
   ]
  },
  {
   "cell_type": "markdown",
   "metadata": {},
   "source": [
    "## Nakić 3"
   ]
  },
  {
   "cell_type": "markdown",
   "metadata": {},
   "source": [
    "Riješite sljedeću ODJ koristeći Runge-Kutta metodu četvrtog stupnja\n",
    "na segmentu $[0,4]$:"
   ]
  },
  {
   "cell_type": "code",
   "execution_count": 51,
   "metadata": {},
   "outputs": [
    {
     "data": {
      "image/png": "[encoded data removed]",
      "text/latex": [
       "$$\\left ( \\frac{d}{d x} y{\\left (x \\right )} = \\frac{1}{2 \\left(y{\\left (x \\right )} - 1\\right)}, \\quad y{\\left (0 \\right )} = \\sqrt{\\varepsilon} + 1\\right )$$"
      ],
      "text/plain": [
       "⎛d               1                 ____________    ⎞\n",
       "⎜──(y(x)) = ────────────, y(0) = ╲╱ varepsilon  + 1⎟\n",
       "⎝dx         2⋅(y(x) - 1)                           ⎠"
      ]
     },
     "execution_count": 51,
     "metadata": {},
     "output_type": "execute_result"
    }
   ],
   "source": [
    "import sympy as sp\n",
    "sp.init_printing()\n",
    "y = sp.Function('y')\n",
    "x = sp.Symbol('x')\n",
    "epsilon = sp.Symbol('varepsilon')\n",
    "\n",
    "(sp.Eq(sp.Derivative(y(x),x),1/sp.factor(2*(y(x)-1))),\n",
    " sp.Eq(y(0), 1 + sp.sqrt(epsilon)))"
   ]
  },
  {
   "cell_type": "markdown",
   "metadata": {},
   "source": [
    "Ovdje je $ε=10^{−3}$."
   ]
  },
  {
   "cell_type": "code",
   "execution_count": 28,
   "metadata": {},
   "outputs": [],
   "source": [
    "from scipy.integrate import ode"
   ]
  },
  {
   "cell_type": "code",
   "execution_count": 29,
   "metadata": {},
   "outputs": [],
   "source": [
    "def desna_strana(x, y):\n",
    "    return 1 / (2*(y-1))"
   ]
  },
  {
   "cell_type": "code",
   "execution_count": 30,
   "metadata": {},
   "outputs": [
    {
     "data": {
      "text/plain": [
       "array([3.00024858])"
      ]
     },
     "execution_count": 30,
     "metadata": {},
     "output_type": "execute_result"
    }
   ],
   "source": [
    "epsilon = 10**-3\n",
    "jednadžba = ode(desna_strana)\n",
    "jednadžba.set_integrator('dopri5')\n",
    "jednadžba.set_initial_value(np.sqrt(epsilon) + 1)\n",
    "jednadžba.integrate(4)"
   ]
  },
  {
   "cell_type": "markdown",
   "metadata": {},
   "source": [
    "### Pokušaj provjere"
   ]
  },
  {
   "cell_type": "code",
   "execution_count": 31,
   "metadata": {},
   "outputs": [],
   "source": [
    "import sympy as sp\n",
    "sp.init_printing()"
   ]
  },
  {
   "cell_type": "code",
   "execution_count": 38,
   "metadata": {},
   "outputs": [
    {
     "data": {
      "image/png": "[encoded data removed]",
      "text/latex": [
       "$$\\frac{d}{d x} y{\\left (x \\right )} = \\frac{1}{2 \\left(y{\\left (x \\right )} - 1\\right)}$$"
      ],
      "text/plain": [
       "d               1      \n",
       "──(y(x)) = ────────────\n",
       "dx         2⋅(y(x) - 1)"
      ]
     },
     "execution_count": 38,
     "metadata": {},
     "output_type": "execute_result"
    }
   ],
   "source": [
    "y = sp.Function('y')\n",
    "x = sp.Symbol('x')\n",
    "epsilon = sp.Symbol('varepsilon')\n",
    "\n",
    "jednadžba = sp.Eq(sp.Derivative(y(x),x),1/sp.factor(2*(y(x)-1)))\n",
    "jednadžba"
   ]
  },
  {
   "cell_type": "code",
   "execution_count": 45,
   "metadata": {},
   "outputs": [
    {
     "data": {
      "image/png": "[encoded data removed]",
      "text/latex": [
       "$$\\left [ y{\\left (x \\right )} = - \\sqrt{C_{1} + x} + 1, \\quad y{\\left (x \\right )} = \\sqrt{C_{1} + x} + 1\\right ]$$"
      ],
      "text/plain": [
       "⎡           ________               ________    ⎤\n",
       "⎣y(x) = - ╲╱ C₁ + x  + 1, y(x) = ╲╱ C₁ + x  + 1⎦"
      ]
     },
     "execution_count": 45,
     "metadata": {},
     "output_type": "execute_result"
    }
   ],
   "source": [
    "sva_rješenja = sp.dsolve(jednadžba)\n",
    "sva_rješenja"
   ]
  },
  {
   "cell_type": "code",
   "execution_count": 46,
   "metadata": {},
   "outputs": [
    {
     "data": {
      "image/png": "[encoded data removed]",
      "text/latex": [
       "$$y{\\left (x \\right )} = \\sqrt{C_{1} + x} + 1$$"
      ],
      "text/plain": [
       "         ________    \n",
       "y(x) = ╲╱ C₁ + x  + 1"
      ]
     },
     "execution_count": 46,
     "metadata": {},
     "output_type": "execute_result"
    }
   ],
   "source": [
    "opće_rj = sva_rješenja[1]\n",
    "opće_rj"
   ]
  },
  {
   "cell_type": "code",
   "execution_count": 47,
   "metadata": {},
   "outputs": [
    {
     "data": {
      "image/png": "[encoded data removed]",
      "text/latex": [
       "$$\\sqrt{\\varepsilon} + 1 = \\sqrt{C_{1}} + 1$$"
      ],
      "text/plain": [
       "  ____________         ____    \n",
       "╲╱ varepsilon  + 1 = ╲╱ C₁  + 1"
      ]
     },
     "execution_count": 47,
     "metadata": {},
     "output_type": "execute_result"
    }
   ],
   "source": [
    "početni = opće_rj.subs({x: 0, y(x): 1 + sp.sqrt(epsilon)})\n",
    "početni"
   ]
  },
  {
   "cell_type": "code",
   "execution_count": 48,
   "metadata": {},
   "outputs": [
    {
     "data": {
      "image/png": "[encoded data removed]",
      "text/latex": [
       "$$y{\\left (x \\right )} = \\sqrt{\\varepsilon + x} + 1$$"
      ],
      "text/plain": [
       "         ________________    \n",
       "y(x) = ╲╱ varepsilon + x  + 1"
      ]
     },
     "execution_count": 48,
     "metadata": {},
     "output_type": "execute_result"
    }
   ],
   "source": [
    "partikularno = opće_rj.subs(sp.solve(početni)[0])\n",
    "partikularno"
   ]
  },
  {
   "cell_type": "code",
   "execution_count": 39,
   "metadata": {},
   "outputs": [
    {
     "data": {
      "text/plain": [
       "Decimal('0.001000000000000000020816681711721685132943093776702880859375')"
      ]
     },
     "execution_count": 39,
     "metadata": {},
     "output_type": "execute_result"
    }
   ],
   "source": [
    "import decimal\n",
    "decimal.Decimal(10**-3)"
   ]
  },
  {
   "cell_type": "code",
   "execution_count": 40,
   "metadata": {},
   "outputs": [
    {
     "data": {
      "text/plain": [
       "'0x1.0624dd2f1a9fcp-10'"
      ]
     },
     "execution_count": 40,
     "metadata": {},
     "output_type": "execute_result"
    }
   ],
   "source": [
    "(10**-3).hex()"
   ]
  },
  {
   "cell_type": "code",
   "execution_count": 41,
   "metadata": {},
   "outputs": [
    {
     "data": {
      "image/png": "[encoded data removed]",
      "text/latex": [
       "$$0.001$$"
      ],
      "text/plain": [
       "0.001"
      ]
     },
     "execution_count": 41,
     "metadata": {},
     "output_type": "execute_result"
    }
   ],
   "source": [
    "10**-3"
   ]
  },
  {
   "cell_type": "code",
   "execution_count": 43,
   "metadata": {},
   "outputs": [
    {
     "data": {
      "text/plain": [
       "'short'"
      ]
     },
     "execution_count": 43,
     "metadata": {},
     "output_type": "execute_result"
    }
   ],
   "source": [
    "import sys\n",
    "sys.float_repr_style"
   ]
  },
  {
   "cell_type": "code",
   "execution_count": 50,
   "metadata": {},
   "outputs": [
    {
     "data": {
      "image/png": "[encoded data removed]",
      "text/latex": [
       "$$y{\\left (4 \\right )} = 3.0002499843769528198776145001049815577976516561481474503907$$"
      ],
      "text/plain": [
       "y(4) = 3.0002499843769528198776145001049815577976516561481474503907"
      ]
     },
     "execution_count": 50,
     "metadata": {},
     "output_type": "execute_result"
    }
   ],
   "source": [
    "partikularno.subs({epsilon: sp.S(10)**-3, x: 4}).n(59)"
   ]
  },
  {
   "cell_type": "markdown",
   "metadata": {},
   "source": [
    "## Nakić 4"
   ]
  },
  {
   "cell_type": "markdown",
   "metadata": {},
   "source": [
    "Nacrtajte funkciju $v(x)$\n",
    "za $μ=1$, $μ=0.01$ te $μ=0.001$\n",
    "na segmentu $[0,1]$ koristeći $10000$ točaka."
   ]
  },
  {
   "cell_type": "code",
   "execution_count": 58,
   "metadata": {},
   "outputs": [
    {
     "data": {
      "image/png": "[encoded data removed]",
      "text/latex": [
       "$$v{\\left (x \\right )} = \\frac{- e^{\\frac{x}{\\mu}} + 1}{- e^{\\frac{1}{\\mu}} + 1}$$"
      ],
      "text/plain": [
       "          x    \n",
       "          ─    \n",
       "          μ    \n",
       "       - ℯ  + 1\n",
       "v(x) = ────────\n",
       "          1    \n",
       "          ─    \n",
       "          μ    \n",
       "       - ℯ  + 1"
      ]
     },
     "execution_count": 58,
     "metadata": {},
     "output_type": "execute_result"
    }
   ],
   "source": [
    "v = sp.Function('v')\n",
    "mu = sp.Symbol('mu')\n",
    "\n",
    "definicija = sp.Eq(v(x), (1-sp.E**(x/mu))/(1-sp.E**(1/mu)))\n",
    "definicija"
   ]
  },
  {
   "cell_type": "code",
   "execution_count": 53,
   "metadata": {},
   "outputs": [],
   "source": [
    "domena = np.linspace(0, 1, 10_000)"
   ]
  },
  {
   "cell_type": "code",
   "execution_count": 54,
   "metadata": {},
   "outputs": [],
   "source": [
    "import matplotlib.pyplot as plt\n",
    "%matplotlib inline"
   ]
  },
  {
   "cell_type": "code",
   "execution_count": 57,
   "metadata": {
    "scrolled": false
   },
   "outputs": [
    {
     "data": {
      "text/plain": [
       "<matplotlib.legend.Legend at 0x7fb2d9de8400>"
      ]
     },
     "execution_count": 57,
     "metadata": {},
     "output_type": "execute_result"
    },
    {
     "data": {
      "image/png": "[encoded data removed]",
      "text/plain": [
       "<matplotlib.figure.Figure at 0x7fb2d9de82b0>"
      ]
     },
     "metadata": {},
     "output_type": "display_data"
    }
   ],
   "source": [
    "# plt.plot([0, 1, 1], [0, 0, 1], label='$\\mu=0.001$')\n",
    "for mi in 0.01, 1, 0.1, 0.005:\n",
    "    slika = (1 - np.e ** (domena / mi)) / (1 - np.e ** (1 / mi))\n",
    "    plt.plot(domena, slika, label=f'$\\mu={mi}$')\n",
    "plt.legend()"
   ]
  },
  {
   "cell_type": "code",
   "execution_count": 77,
   "metadata": {},
   "outputs": [
    {
     "data": {
      "text/plain": [
       "<matplotlib.legend.Legend at 0x7fb2d99c4b00>"
      ]
     },
     "execution_count": 77,
     "metadata": {},
     "output_type": "execute_result"
    },
    {
     "data": {
      "image/png": "[encoded data removed]",
      "text/plain": [
       "<matplotlib.figure.Figure at 0x7fb2d9b439e8>"
      ]
     },
     "metadata": {},
     "output_type": "display_data"
    }
   ],
   "source": [
    "plt.plot([0, 1, 1], [0, 0, 1], label='$\\mu=0.001$')\n",
    "for mi in 0.01, 1:\n",
    "    slika = (1 - np.e ** (domena / mi)) / (1 - np.e ** (1 / mi))\n",
    "    plt.plot(domena, slika, label=f'$\\mu={mi}$')\n",
    "plt.legend()"
   ]
  },
  {
   "cell_type": "code",
   "execution_count": 76,
   "metadata": {},
   "outputs": [
    {
     "data": {
      "image/png": "[encoded data removed]",
      "text/latex": [
       "$$\\lim_{t \\to \\infty}\\left(\\frac{- e^{t \\left(- y + 1\\right)} + 1}{- e^{t} + 1}\\right)$$"
      ],
      "text/plain": [
       "    ⎛   t⋅(-y + 1)    ⎞\n",
       "    ⎜- ℯ           + 1⎟\n",
       "lim ⎜─────────────────⎟\n",
       "t─→∞⎜        t        ⎟\n",
       "    ⎝     - ℯ  + 1    ⎠"
      ]
     },
     "execution_count": 76,
     "metadata": {},
     "output_type": "execute_result"
    }
   ],
   "source": [
    "mi = sp.Symbol('mu')\n",
    "t = sp.Symbol('t')\n",
    "y = sp.Symbol('y', positive=True)\n",
    "sp.Limit(definicija.rhs, mi, 0, '+')\n",
    "sp.Limit(definicija.rhs.subs({1/mi: t, x: 1-y}), t, sp.oo)"
   ]
  },
  {
   "cell_type": "markdown",
   "metadata": {},
   "source": [
    "## Nakić 5"
   ]
  },
  {
   "cell_type": "markdown",
   "metadata": {},
   "source": [
    "Pomoću `sympy`ja, izraz `log(x**y*a**b)` pojednostavite do izraza `b*log(a) + y*log(x)`."
   ]
  },
  {
   "cell_type": "code",
   "execution_count": 113,
   "metadata": {},
   "outputs": [],
   "source": [
    "import sympy as sp\n",
    "sp.init_printing()"
   ]
  },
  {
   "cell_type": "code",
   "execution_count": 78,
   "metadata": {},
   "outputs": [
    {
     "data": {
      "image/png": "[encoded data removed]",
      "text/latex": [
       "$$\\log{\\left (a^{b} x^{y} \\right )}$$"
      ],
      "text/plain": [
       "   ⎛ b  y⎞\n",
       "log⎝a ⋅x ⎠"
      ]
     },
     "execution_count": 78,
     "metadata": {},
     "output_type": "execute_result"
    }
   ],
   "source": [
    "x, a = sp.symbols('x a', positive=True)\n",
    "y, b = sp.symbols('y b', real=True)\n",
    "izraz = sp.log(x**y * a**b)\n",
    "izraz"
   ]
  },
  {
   "cell_type": "code",
   "execution_count": 79,
   "metadata": {},
   "outputs": [
    {
     "data": {
      "image/png": "[encoded data removed]",
      "text/latex": [
       "$$b \\log{\\left (a \\right )} + y \\log{\\left (x \\right )}$$"
      ],
      "text/plain": [
       "b⋅log(a) + y⋅log(x)"
      ]
     },
     "execution_count": 79,
     "metadata": {},
     "output_type": "execute_result"
    }
   ],
   "source": [
    "sp.expand_log(izraz)"
   ]
  },
  {
   "cell_type": "code",
   "execution_count": 82,
   "metadata": {},
   "outputs": [
    {
     "data": {
      "image/png": "[encoded data removed]",
      "text/latex": [
       "$$b \\log{\\left (a \\right )} + y \\log{\\left (x \\right )}$$"
      ],
      "text/plain": [
       "b⋅log(a) + y⋅log(x)"
      ]
     },
     "execution_count": 82,
     "metadata": {},
     "output_type": "execute_result"
    }
   ],
   "source": [
    "x, y, a, b = sp.symbols('x y a b')\n",
    "sp.expand_log(sp.log(x**y * a**b), force=True)"
   ]
  },
  {
   "cell_type": "markdown",
   "metadata": {},
   "source": [
    "## Čačić 1"
   ]
  },
  {
   "cell_type": "markdown",
   "metadata": {},
   "source": [
    "Što ispisuje sljedeći kod i zašto?"
   ]
  },
  {
   "cell_type": "code",
   "execution_count": 129,
   "metadata": {},
   "outputs": [
    {
     "name": "stdout",
     "output_type": "stream",
     "text": [
      "5\n",
      "[5, 3]\n"
     ]
    }
   ],
   "source": [
    "a = b = 5\n",
    "a += 3\n",
    "print(b)\n",
    "\n",
    "a = b = [5]\n",
    "a += [3]\n",
    "print(b)"
   ]
  },
  {
   "cell_type": "code",
   "execution_count": 91,
   "metadata": {},
   "outputs": [
    {
     "data": {
      "image/png": "[encoded data removed]",
      "text/latex": [
       "$$\\left [ 2\\right ]$$"
      ],
      "text/plain": [
       "[2]"
      ]
     },
     "execution_count": 91,
     "metadata": {},
     "output_type": "execute_result"
    }
   ],
   "source": [
    "mojalista = [2]\n",
    "list.__add__(mojalista, [3])\n",
    "mojalista"
   ]
  },
  {
   "cell_type": "markdown",
   "metadata": {},
   "source": [
    "## Čačić 2"
   ]
  },
  {
   "cell_type": "markdown",
   "metadata": {},
   "source": [
    "Simulirajte bacanje pristranog novčića (vjerojatnost glave je 55%) 1000 puta. Kolika je vjerojatnost da u tih 1000 bacanja broj glava bude veći od broja pisama? Rezultat odredite numerički iz simulacije tako da ponovite pokus (svih 1000 bacanja) 100 000 puta."
   ]
  },
  {
   "cell_type": "code",
   "execution_count": 4,
   "metadata": {},
   "outputs": [],
   "source": [
    "import numpy as np"
   ]
  },
  {
   "cell_type": "code",
   "execution_count": 96,
   "metadata": {},
   "outputs": [],
   "source": [
    "broj_bacanja = 1000\n",
    "broj_pokusa = 100_000\n",
    "vjerojatnost_glave = .55\n",
    "\n",
    "pokusi = np.random.uniform(size=(broj_bacanja, broj_pokusa))\n",
    "glave = pokusi < vjerojatnost_glave"
   ]
  },
  {
   "cell_type": "code",
   "execution_count": 97,
   "metadata": {},
   "outputs": [
    {
     "data": {
      "image/png": "[encoded data removed]",
      "text/latex": [
       "$$0.99901$$"
      ],
      "text/plain": [
       "0.99901"
      ]
     },
     "execution_count": 97,
     "metadata": {},
     "output_type": "execute_result"
    }
   ],
   "source": [
    "broj_glava = glave.sum(axis=0)\n",
    "broj_pisama = broj_bacanja - broj_glava\n",
    "(broj_glava > broj_pisama).mean()"
   ]
  },
  {
   "cell_type": "markdown",
   "metadata": {},
   "source": [
    "Domaća zadaća: dodajte interaktivnost. :-)\n",
    "Alternativno: nacrtajte graf ovisnosti o pristranosti novčića."
   ]
  },
  {
   "cell_type": "markdown",
   "metadata": {},
   "source": [
    "## Čačić 3"
   ]
  },
  {
   "cell_type": "markdown",
   "metadata": {},
   "source": [
    "Zadan je sljedeći DataFrame (u datoteci `pdzad.csv`):"
   ]
  },
  {
   "cell_type": "code",
   "execution_count": 2,
   "metadata": {},
   "outputs": [
    {
     "name": "stdout",
     "output_type": "stream",
     "text": [
      "Writing pdzad.csv\n"
     ]
    }
   ],
   "source": [
    "%%file pdzad.csv\n",
    "2016-07-17\t450\t628.578622\tgirl\tred\n",
    "2014-02-17\t418\t226.950670\tboy\tred\n",
    "2016-03-03\t418\t208.042709\tgirl\tred\n",
    "2014-04-28\t26\t915.238500\tboy\tblue\n",
    "2014-09-07\t182\t744.946901\tboy\tgreen\n",
    "2014-07-21\t345\t542.665316\tgirl\tblue\n",
    "2014-01-21\t807\t396.394572\tboy\tyellow\n",
    "2016-01-23\t36\t792.745992\tboy\tblue\n",
    "2015-07-07\t44\t616.078044\tgirl\tbluedatum\n",
    "2014-08-18\t390\t527.061301\tboy\tyellow\n",
    "2014-04-02\t456\t4.716575\tgirl\tgreen\n",
    "2015-12-20\t584\t577.939367\tboy\tblue\n",
    "2015-03-18\t718\t919.344036\tgirl\tyellow\n",
    "2015-04-26\t792\t623.799887\tboy\tred\n",
    "2015-08-23\t938\t927.630485\tboy\tyellow\n",
    "2015-09-27\t14\t40.380074\tgirl\tblue\n",
    "2014-07-15\t26\t451.519075\tgirl\tblue\n",
    "2016-05-15\t116\t969.555910\tboy\tred\n",
    "2015-04-15\t209\t827.094101\tboy\tyellow\n",
    "2014-03-03\t202\t811.039542\tboy\tred\n",
    "2015-01-07\t254\t512.529009\tgirl\tblue\n",
    "2015-09-01\t2\t703.001673\tgirl\tyellow\n",
    "2016-04-26\t667\t187.608667\tboy\tred\n",
    "2016-01-23\t312\t884.018403\tgirl\tblue\n",
    "2014-10-11\t792\t585.769718\tgirl\tpurple\n",
    "2014-03-30\t507\t373.570850\tgirl\tyellow\n",
    "2015-03-27\t78\t635.718898\tgirl\tpurple\n",
    "2014-12-27\t100\t41.486492\tgirl\tpurple\n",
    "2016-04-17\t683\t138.001860\tgirl\tred\n",
    "2016-03-08\t300\t925.708079\tboy\tgreen\n",
    "2016-01-16\t925\t971.141551\tboy\tred\n",
    "2016-06-23\t317\t223.288738\tboy\tgreen\n",
    "2016-01-26\t783\t819.096804\tboy\tblue\n",
    "2015-01-28\t71\t309.760628\tboy\tblue\n",
    "2016-03-27\t325\t444.532115\tboy\tpurple\n",
    "2015-07-10\t552\t517.586297\tboy\tred\n",
    "2014-05-19\t740\t988.004758\tboy\tyellow\n",
    "2014-06-07\t463\t61.233638\tboy\tgreen\n",
    "2016-06-02\t518\t256.335606\tboy\tyellow\n",
    "2014-03-14\t528\t114.734319\tgirl\tred\n",
    "2015-06-08\t207\t731.211508\tboy\tyellow\n",
    "2015-10-09\t211\t715.706315\tboy\tred\n",
    "2014-07-08\t672\t302.847557\tboy\tyellow\n",
    "2014-05-06\t375\t957.917383\tgirl\tyellow\n",
    "2016-06-09\t530\t205.990431\tgirl\tpurple\n",
    "2016-09-06\t294\t682.120222\tgirl\tblue\n",
    "2015-09-15\t166\t190.032588\tboy\tred\n",
    "2015-01-12\t591\t978.913511\tboy\tblue\n",
    "2015-10-21\t571\t259.954915\tgirl\tgreen\n",
    "2015-09-29\t75\t414.686734\tboy\tpurple"
   ]
  },
  {
   "cell_type": "markdown",
   "metadata": {},
   "source": [
    "Za najkasniji (datumi su u prvom stupcu) redak koji u predzadnjem stupcu ima `girl` a u zadnjem `yellow`, nađite umnožak drugog i trećeg stupca."
   ]
  },
  {
   "cell_type": "code",
   "execution_count": 100,
   "metadata": {},
   "outputs": [],
   "source": [
    "import pandas as pd"
   ]
  },
  {
   "cell_type": "code",
   "execution_count": 98,
   "metadata": {},
   "outputs": [
    {
     "data": {
      "text/plain": [
       "['datum', 'prvi', 'drugi', 'spol', 'boja']"
      ]
     },
     "execution_count": 98,
     "metadata": {},
     "output_type": "execute_result"
    }
   ],
   "source": [
    "'datum prvi drugi spol boja'.split()"
   ]
  },
  {
   "cell_type": "code",
   "execution_count": 102,
   "metadata": {},
   "outputs": [],
   "source": [
    "header = 'datum prvi drugi spol boja'.split()\n",
    "df = pd.read_csv('pdzad.csv', delimiter='\\t', names=header,\n",
    "                 index_col=0, parse_dates=True)"
   ]
  },
  {
   "cell_type": "code",
   "execution_count": 104,
   "metadata": {},
   "outputs": [
    {
     "name": "stdout",
     "output_type": "stream",
     "text": [
      "<class 'pandas.core.frame.DataFrame'>\n",
      "DatetimeIndex: 50 entries, 2016-07-17 to 2015-09-29\n",
      "Data columns (total 4 columns):\n",
      "prvi     50 non-null int64\n",
      "drugi    50 non-null float64\n",
      "spol     50 non-null object\n",
      "boja     50 non-null object\n",
      "dtypes: float64(1), int64(1), object(2)\n",
      "memory usage: 2.0+ KB\n"
     ]
    }
   ],
   "source": [
    "df.info()"
   ]
  },
  {
   "cell_type": "code",
   "execution_count": 105,
   "metadata": {},
   "outputs": [
    {
     "data": {
      "text/html": [
       "<div>\n",
       "<style scoped>\n",
       "    .dataframe tbody tr th:only-of-type {\n",
       "        vertical-align: middle;\n",
       "    }\n",
       "\n",
       "    .dataframe tbody tr th {\n",
       "        vertical-align: top;\n",
       "    }\n",
       "\n",
       "    .dataframe thead th {\n",
       "        text-align: right;\n",
       "    }\n",
       "</style>\n",
       "<table border=\"1\" class=\"dataframe\">\n",
       "  <thead>\n",
       "    <tr style=\"text-align: right;\">\n",
       "      <th></th>\n",
       "      <th>prvi</th>\n",
       "      <th>drugi</th>\n",
       "      <th>spol</th>\n",
       "      <th>boja</th>\n",
       "    </tr>\n",
       "    <tr>\n",
       "      <th>datum</th>\n",
       "      <th></th>\n",
       "      <th></th>\n",
       "      <th></th>\n",
       "      <th></th>\n",
       "    </tr>\n",
       "  </thead>\n",
       "  <tbody>\n",
       "    <tr>\n",
       "      <th>2015-03-18</th>\n",
       "      <td>718</td>\n",
       "      <td>919.344036</td>\n",
       "      <td>girl</td>\n",
       "      <td>yellow</td>\n",
       "    </tr>\n",
       "    <tr>\n",
       "      <th>2015-09-01</th>\n",
       "      <td>2</td>\n",
       "      <td>703.001673</td>\n",
       "      <td>girl</td>\n",
       "      <td>yellow</td>\n",
       "    </tr>\n",
       "    <tr>\n",
       "      <th>2014-03-30</th>\n",
       "      <td>507</td>\n",
       "      <td>373.570850</td>\n",
       "      <td>girl</td>\n",
       "      <td>yellow</td>\n",
       "    </tr>\n",
       "    <tr>\n",
       "      <th>2014-05-06</th>\n",
       "      <td>375</td>\n",
       "      <td>957.917383</td>\n",
       "      <td>girl</td>\n",
       "      <td>yellow</td>\n",
       "    </tr>\n",
       "  </tbody>\n",
       "</table>\n",
       "</div>"
      ],
      "text/plain": [
       "            prvi       drugi  spol    boja\n",
       "datum                                     \n",
       "2015-03-18   718  919.344036  girl  yellow\n",
       "2015-09-01     2  703.001673  girl  yellow\n",
       "2014-03-30   507  373.570850  girl  yellow\n",
       "2014-05-06   375  957.917383  girl  yellow"
      ]
     },
     "execution_count": 105,
     "metadata": {},
     "output_type": "execute_result"
    }
   ],
   "source": [
    "subdf = df[(df['spol'] == 'girl') & (df['boja'] == 'yellow')]\n",
    "subdf"
   ]
  },
  {
   "cell_type": "code",
   "execution_count": 111,
   "metadata": {},
   "outputs": [
    {
     "data": {
      "text/plain": [
       "prvi           2\n",
       "drugi    703.002\n",
       "spol        girl\n",
       "boja      yellow\n",
       "Name: 2015-09-01 00:00:00, dtype: object"
      ]
     },
     "execution_count": 111,
     "metadata": {},
     "output_type": "execute_result"
    }
   ],
   "source": [
    "subdf.loc[subdf.index.max()]"
   ]
  },
  {
   "cell_type": "code",
   "execution_count": 112,
   "metadata": {},
   "outputs": [
    {
     "data": {
      "image/png": "[encoded data removed]",
      "text/latex": [
       "$$1406.0033460000002$$"
      ],
      "text/plain": [
       "1406.0033460000002"
      ]
     },
     "execution_count": 112,
     "metadata": {},
     "output_type": "execute_result"
    }
   ],
   "source": [
    "traženi = subdf.loc[subdf.index.max()]\n",
    "traženi['prvi'] * traženi['drugi']"
   ]
  },
  {
   "cell_type": "markdown",
   "metadata": {},
   "source": [
    "## Čačić 4"
   ]
  },
  {
   "cell_type": "markdown",
   "metadata": {},
   "source": [
    "Nacrtajte u polarnom koordinatnom sustavu grafove $r=\\frac{\\left|\\sin\\vartheta\\right|}{\\vartheta}$ i $r=\\ln(1+\\vartheta)$."
   ]
  },
  {
   "cell_type": "code",
   "execution_count": 127,
   "metadata": {},
   "outputs": [],
   "source": [
    "theta = np.linspace(0, 2*np.pi)[1:]\n",
    "r1 = np.abs(np.sin(theta)) / theta\n",
    "r2 = np.log(1 + theta)"
   ]
  },
  {
   "cell_type": "code",
   "execution_count": 128,
   "metadata": {},
   "outputs": [],
   "source": [
    "import matplotlib.pyplot as plt\n",
    "%matplotlib inline"
   ]
  },
  {
   "cell_type": "code",
   "execution_count": 129,
   "metadata": {},
   "outputs": [
    {
     "data": {
      "text/plain": [
       "[<matplotlib.lines.Line2D at 0x7fb2d42c6908>]"
      ]
     },
     "execution_count": 129,
     "metadata": {},
     "output_type": "execute_result"
    },
    {
     "data": {
      "image/png": "[encoded data removed]",
      "text/plain": [
       "<matplotlib.figure.Figure at 0x7fb2d3aee2e8>"
      ]
     },
     "metadata": {},
     "output_type": "display_data"
    }
   ],
   "source": [
    "plt.polar(theta, r1)\n",
    "plt.polar(theta, r2)"
   ]
  },
  {
   "cell_type": "markdown",
   "metadata": {},
   "source": [
    "## Čačić 5"
   ]
  },
  {
   "cell_type": "markdown",
   "metadata": {},
   "source": [
    "\n",
    "Napišite funkciju koja prima simboličku funkciju, integrira je simbolički po varijabli `x` (ako može), dobiveni rezultat derivira simbolički i uspoređuje s originalnim ulazom. Na kraju treba ispisati jednadžbe koje proizlaze iz integriranja odnosno deriviranja."
   ]
  },
  {
   "cell_type": "code",
   "execution_count": 142,
   "metadata": {},
   "outputs": [],
   "source": [
    "import sympy as sp\n",
    "sp.init_printing()\n",
    "x = sp.Symbol('x')\n",
    "from IPython.display import display\n",
    "\n",
    "def provjeri_integral(fja):\n",
    "    integral = sp.Integral(fja, x)\n",
    "    intfja = integral.doit()\n",
    "    prva = sp.Eq(integral, intfja, evaluate=False)\n",
    "    \n",
    "    derivacija = sp.Derivative(intfja, x)\n",
    "    derfja = derivacija.doit()\n",
    "    druga = sp.Eq(derivacija, derfja, evaluate=False)\n",
    "    \n",
    "    if derfja == fja:\n",
    "        print('Sintaksno su jednake')\n",
    "    else:\n",
    "        print('Nisu sintaksno jednake')\n",
    "\n",
    "    display(prva)\n",
    "    display(druga)"
   ]
  },
  {
   "cell_type": "code",
   "execution_count": 143,
   "metadata": {
    "scrolled": true
   },
   "outputs": [
    {
     "name": "stdout",
     "output_type": "stream",
     "text": [
      "Nisu sintaksno jednake\n"
     ]
    },
    {
     "data": {
      "image/png": "[encoded data removed]",
      "text/latex": [
       "$$\\int x \\left(x + 1\\right)\\, dx = \\frac{x^{3}}{3} + \\frac{x^{2}}{2}$$"
      ],
      "text/plain": [
       "                  3    2\n",
       "⌠                x    x \n",
       "⎮ x⋅(x + 1) dx = ── + ──\n",
       "⌡                3    2 "
      ]
     },
     "metadata": {},
     "output_type": "display_data"
    },
    {
     "data": {
      "image/png": "[encoded data removed]",
      "text/latex": [
       "$$\\frac{d}{d x}\\left(\\frac{x^{3}}{3} + \\frac{x^{2}}{2}\\right) = x^{2} + x$$"
      ],
      "text/plain": [
       "  ⎛ 3    2⎞         \n",
       "d ⎜x    x ⎟    2    \n",
       "──⎜── + ──⎟ = x  + x\n",
       "dx⎝3    2 ⎠         "
      ]
     },
     "metadata": {},
     "output_type": "display_data"
    }
   ],
   "source": [
    "provjeri_integral(x*(x+1))"
   ]
  },
  {
   "cell_type": "code",
   "execution_count": 144,
   "metadata": {},
   "outputs": [
    {
     "name": "stdout",
     "output_type": "stream",
     "text": [
      "Sintaksno su jednake\n"
     ]
    },
    {
     "data": {
      "image/png": "[encoded data removed]",
      "text/latex": [
       "$$\\int \\sin{\\left (x \\right )}\\, dx = - \\cos{\\left (x \\right )}$$"
      ],
      "text/plain": [
       "⌠                    \n",
       "⎮ sin(x) dx = -cos(x)\n",
       "⌡                    "
      ]
     },
     "metadata": {},
     "output_type": "display_data"
    },
    {
     "data": {
      "image/png": "[encoded data removed]",
      "text/latex": [
       "$$\\frac{d}{d x}\\left(- \\cos{\\left (x \\right )}\\right) = \\sin{\\left (x \\right )}$$"
      ],
      "text/plain": [
       "d                   \n",
       "──(-cos(x)) = sin(x)\n",
       "dx                  "
      ]
     },
     "metadata": {},
     "output_type": "display_data"
    }
   ],
   "source": [
    "provjeri_integral(sp.sin(x))"
   ]
  },
  {
   "cell_type": "code",
   "execution_count": 145,
   "metadata": {},
   "outputs": [
    {
     "name": "stdout",
     "output_type": "stream",
     "text": [
      "Sintaksno su jednake\n"
     ]
    },
    {
     "data": {
      "image/png": "[encoded data removed]",
      "text/latex": [
       "$$\\int \\sqrt{\\sin{\\left (x \\right )}}\\, dx = \\int \\sqrt{\\sin{\\left (x \\right )}}\\, dx$$"
      ],
      "text/plain": [
       "⌠                 ⌠              \n",
       "⎮   ________      ⎮   ________   \n",
       "⎮ ╲╱ sin(x)  dx = ⎮ ╲╱ sin(x)  dx\n",
       "⌡                 ⌡              "
      ]
     },
     "metadata": {},
     "output_type": "display_data"
    },
    {
     "data": {
      "image/png": "[encoded data removed]",
      "text/latex": [
       "$$\\frac{d}{d x} \\int \\sqrt{\\sin{\\left (x \\right )}}\\, dx = \\sqrt{\\sin{\\left (x \\right )}}$$"
      ],
      "text/plain": [
       "  ⎛⌠              ⎞             \n",
       "d ⎜⎮   ________   ⎟     ________\n",
       "──⎜⎮ ╲╱ sin(x)  dx⎟ = ╲╱ sin(x) \n",
       "dx⎝⌡              ⎠             "
      ]
     },
     "metadata": {},
     "output_type": "display_data"
    }
   ],
   "source": [
    "provjeri_integral(sp.sqrt(sp.sin(x)))"
   ]
  },
  {
   "cell_type": "markdown",
   "metadata": {},
   "source": [
    "Domaća zadaća: pokušajte centrirati te dvije jednadžbe.\n",
    "Ustanovite programski zna li sympy integrirati vašu funkciju."
   ]
  },
  {
   "cell_type": "code",
   "execution_count": null,
   "metadata": {},
   "outputs": [],
   "source": []
  }
 ],
 "metadata": {
  "kernelspec": {
   "display_name": "Python 3",
   "language": "python",
   "name": "python3"
  },
  "language_info": {
   "codemirror_mode": {
    "name": "ipython",
    "version": 3
   },
   "file_extension": ".py",
   "mimetype": "text/x-python",
   "name": "python",
   "nbconvert_exporter": "python",
   "pygments_lexer": "ipython3",
   "version": "3.6.4"
  }
 },
 "nbformat": 4,
 "nbformat_minor": 2
}
