{
 "cells": [
  {
   "cell_type": "markdown",
   "metadata": {},
   "source": [
    "# Predavanje 5"
   ]
  },
  {
   "cell_type": "markdown",
   "metadata": {},
   "source": [
    "## Sympy"
   ]
  },
  {
   "cell_type": "code",
   "execution_count": 104,
   "metadata": {},
   "outputs": [],
   "source": [
    "import sympy as sp\n",
    "sp.init_printing()"
   ]
  },
  {
   "cell_type": "markdown",
   "metadata": {},
   "source": [
    "### Računanje s brojevima"
   ]
  },
  {
   "cell_type": "code",
   "execution_count": 105,
   "metadata": {},
   "outputs": [
    {
     "data": {
      "image/png": "[encoded data removed]",
      "text/latex": [
       "$$2 \\sqrt{2}$$"
      ],
      "text/plain": [
       "2⋅√2"
      ]
     },
     "execution_count": 105,
     "metadata": {},
     "output_type": "execute_result"
    }
   ],
   "source": [
    "x = sp.sqrt(8)\n",
    "x"
   ]
  },
  {
   "cell_type": "code",
   "execution_count": 3,
   "metadata": {},
   "outputs": [
    {
     "data": {
      "text/plain": [
       "'Mul(Integer(2), Pow(Integer(2), Rational(1, 2)))'"
      ]
     },
     "execution_count": 3,
     "metadata": {},
     "output_type": "execute_result"
    }
   ],
   "source": [
    "sp.srepr(x)"
   ]
  },
  {
   "cell_type": "code",
   "execution_count": 106,
   "metadata": {},
   "outputs": [
    {
     "name": "stdout",
     "output_type": "stream",
     "text": [
      "2*sqrt(2)\n"
     ]
    }
   ],
   "source": [
    "print(x)"
   ]
  },
  {
   "cell_type": "code",
   "execution_count": 107,
   "metadata": {},
   "outputs": [
    {
     "data": {
      "text/plain": [
       "(sympy.core.mul.Mul, (2, sqrt(2)))"
      ]
     },
     "execution_count": 107,
     "metadata": {},
     "output_type": "execute_result"
    }
   ],
   "source": [
    "x.func, x.args"
   ]
  },
  {
   "cell_type": "code",
   "execution_count": 122,
   "metadata": {},
   "outputs": [
    {
     "data": {
      "text/plain": [
       "sympy.core.numbers.Integer"
      ]
     },
     "execution_count": 122,
     "metadata": {},
     "output_type": "execute_result"
    }
   ],
   "source": [
    "x.args[1].args[0].func"
   ]
  },
  {
   "cell_type": "code",
   "execution_count": 123,
   "metadata": {},
   "outputs": [
    {
     "data": {
      "text/plain": [
       "'Add(Mul(Integer(-1), Pow(Integer(3), Rational(1, 2))), Pow(Integer(2), Rational(1, 2)))'"
      ]
     },
     "execution_count": 123,
     "metadata": {},
     "output_type": "execute_result"
    }
   ],
   "source": [
    "sp.srepr(sp.sqrt(2) - sp.sqrt(3))"
   ]
  },
  {
   "cell_type": "code",
   "execution_count": 124,
   "metadata": {},
   "outputs": [
    {
     "data": {
      "text/plain": [
       "True"
      ]
     },
     "execution_count": 124,
     "metadata": {},
     "output_type": "execute_result"
    }
   ],
   "source": [
    "- sp.sqrt(3) + sp.sqrt(2) == sp.sqrt(2) - sp.sqrt(3)"
   ]
  },
  {
   "cell_type": "code",
   "execution_count": 6,
   "metadata": {},
   "outputs": [
    {
     "data": {
      "image/png": "[encoded data removed]",
      "text/latex": [
       "$$2.8284271247461900976033774484193961571393437507539$$"
      ],
      "text/plain": [
       "2.8284271247461900976033774484193961571393437507539"
      ]
     },
     "execution_count": 6,
     "metadata": {},
     "output_type": "execute_result"
    }
   ],
   "source": [
    "x.n(50)"
   ]
  },
  {
   "cell_type": "code",
   "execution_count": 7,
   "metadata": {},
   "outputs": [
    {
     "data": {
      "image/png": "[encoded data removed]",
      "text/latex": [
       "$$8$$"
      ],
      "text/plain": [
       "8"
      ]
     },
     "execution_count": 7,
     "metadata": {},
     "output_type": "execute_result"
    }
   ],
   "source": [
    "x**2"
   ]
  },
  {
   "cell_type": "markdown",
   "metadata": {},
   "source": [
    "### Simboli"
   ]
  },
  {
   "cell_type": "code",
   "execution_count": 125,
   "metadata": {},
   "outputs": [],
   "source": [
    "x = sp.Symbol('x')"
   ]
  },
  {
   "cell_type": "code",
   "execution_count": 126,
   "metadata": {},
   "outputs": [],
   "source": [
    "x, y = sp.symbols('x, y')"
   ]
  },
  {
   "cell_type": "code",
   "execution_count": 127,
   "metadata": {},
   "outputs": [],
   "source": [
    "izraz = x + 2*y"
   ]
  },
  {
   "cell_type": "code",
   "execution_count": 128,
   "metadata": {},
   "outputs": [
    {
     "data": {
      "text/plain": [
       "\"Add(Symbol('x'), Mul(Integer(2), Symbol('y')))\""
      ]
     },
     "execution_count": 128,
     "metadata": {},
     "output_type": "execute_result"
    }
   ],
   "source": [
    "sp.srepr(izraz)"
   ]
  },
  {
   "cell_type": "code",
   "execution_count": 130,
   "metadata": {},
   "outputs": [
    {
     "data": {
      "image/png": "[encoded data removed]",
      "text/latex": [
       "$$\\left ( 2, \\quad y\\right )$$"
      ],
      "text/plain": [
       "(2, y)"
      ]
     },
     "execution_count": 130,
     "metadata": {},
     "output_type": "execute_result"
    }
   ],
   "source": [
    "izraz.args[1].args"
   ]
  },
  {
   "cell_type": "code",
   "execution_count": 131,
   "metadata": {},
   "outputs": [
    {
     "data": {
      "image/png": "[encoded data removed]",
      "text/latex": [
       "$$2 y - 6 + e$$"
      ],
      "text/plain": [
       "2⋅y - 6 + ℯ"
      ]
     },
     "execution_count": 131,
     "metadata": {},
     "output_type": "execute_result"
    }
   ],
   "source": [
    "izraz.subs({x: sp.E, y: y-3})"
   ]
  },
  {
   "cell_type": "code",
   "execution_count": 132,
   "metadata": {},
   "outputs": [
    {
     "data": {
      "text/plain": [
       "\"Add(Mul(Integer(2), Symbol('y')), Integer(-6), E)\""
      ]
     },
     "execution_count": 132,
     "metadata": {},
     "output_type": "execute_result"
    }
   ],
   "source": [
    "sp.srepr(izraz.subs({x: sp.E, y: y-3}))"
   ]
  },
  {
   "cell_type": "code",
   "execution_count": 133,
   "metadata": {},
   "outputs": [
    {
     "data": {
      "image/png": "[encoded data removed]",
      "text/latex": [
       "$$11.28318530717958647692528676655900576839433879875$$"
      ],
      "text/plain": [
       "11.283185307179586476925286766559005768394338798750"
      ]
     },
     "execution_count": 133,
     "metadata": {},
     "output_type": "execute_result"
    }
   ],
   "source": [
    "izraz.n(50, subs={x:5, y:sp.pi})"
   ]
  },
  {
   "cell_type": "markdown",
   "metadata": {},
   "source": [
    "### Analiza"
   ]
  },
  {
   "cell_type": "code",
   "execution_count": 136,
   "metadata": {},
   "outputs": [
    {
     "data": {
      "image/png": "[encoded data removed]",
      "text/latex": [
       "$$\\frac{\\partial^{4}}{\\partial y^{2}\\partial x\\partial y} \\left(e^{y} \\sin{\\left (x + y \\right )}\\right)$$"
      ],
      "text/plain": [
       "     4                  \n",
       "    ∂    ⎛ y           ⎞\n",
       "─────────⎝ℯ ⋅sin(x + y)⎠\n",
       "        2               \n",
       "∂y ∂x ∂y                "
      ]
     },
     "execution_count": 136,
     "metadata": {},
     "output_type": "execute_result"
    }
   ],
   "source": [
    "sp.Derivative(sp.sin(x+y) * sp.E**y, y, 2, x, y)"
   ]
  },
  {
   "cell_type": "code",
   "execution_count": 137,
   "metadata": {
    "scrolled": true
   },
   "outputs": [
    {
     "data": {
      "image/png": "[encoded data removed]",
      "text/latex": [
       "$$\\frac{\\partial^{4}}{\\partial x\\partial y^{3}} \\left(e^{y} \\sin{\\left (x + y \\right )}\\right)$$"
      ],
      "text/plain": [
       "   4                 \n",
       "  ∂   ⎛ y           ⎞\n",
       "──────⎝ℯ ⋅sin(x + y)⎠\n",
       "  3                  \n",
       "∂y  ∂x               "
      ]
     },
     "execution_count": 137,
     "metadata": {},
     "output_type": "execute_result"
    }
   ],
   "source": [
    "der = sp.Derivative(sp.sin(x+y) * sp.E**y, x, y, 3)\n",
    "der"
   ]
  },
  {
   "cell_type": "code",
   "execution_count": 138,
   "metadata": {},
   "outputs": [
    {
     "data": {
      "image/png": "[encoded data removed]",
      "text/latex": [
       "$$- 2 \\left(\\sin{\\left (x + y \\right )} + \\cos{\\left (x + y \\right )}\\right) e^{y}$$"
      ],
      "text/plain": [
       "                              y\n",
       "-2⋅(sin(x + y) + cos(x + y))⋅ℯ "
      ]
     },
     "execution_count": 138,
     "metadata": {},
     "output_type": "execute_result"
    }
   ],
   "source": [
    "der = der.doit()\n",
    "der"
   ]
  },
  {
   "cell_type": "code",
   "execution_count": 139,
   "metadata": {},
   "outputs": [
    {
     "data": {
      "image/png": "[encoded data removed]",
      "text/latex": [
       "$$\\iiiint \\left(- 2 \\left(\\sin{\\left (x + y \\right )} + \\cos{\\left (x + y \\right )}\\right) e^{y}\\right)\\, dy\\, dy\\, dy\\, dx$$"
      ],
      "text/plain": [
       "⌠ ⌠ ⌠ ⌠                                            \n",
       "⎮ ⎮ ⎮ ⎮                               y            \n",
       "⎮ ⎮ ⎮ ⎮ -2⋅(sin(x + y) + cos(x + y))⋅ℯ  dy dy dy dx\n",
       "⌡ ⌡ ⌡ ⌡                                            "
      ]
     },
     "execution_count": 139,
     "metadata": {},
     "output_type": "execute_result"
    }
   ],
   "source": [
    "intg = sp.Integral(der, y, y, y, x)\n",
    "intg"
   ]
  },
  {
   "cell_type": "code",
   "execution_count": 140,
   "metadata": {},
   "outputs": [
    {
     "name": "stdout",
     "output_type": "stream",
     "text": [
      "CPU times: user 1.1 s, sys: 0 ns, total: 1.1 s\n",
      "Wall time: 1.1 s\n"
     ]
    },
    {
     "data": {
      "image/png": "[encoded data removed]",
      "text/latex": [
       "$$e^{y} \\sin{\\left (x + y \\right )}$$"
      ],
      "text/plain": [
       " y           \n",
       "ℯ ⋅sin(x + y)"
      ]
     },
     "execution_count": 140,
     "metadata": {},
     "output_type": "execute_result"
    }
   ],
   "source": [
    "%time intg.doit()"
   ]
  },
  {
   "cell_type": "code",
   "execution_count": 17,
   "metadata": {},
   "outputs": [
    {
     "data": {
      "image/png": "[encoded data removed]",
      "text/latex": [
       "$$\\frac{\\sqrt{2} \\sqrt{\\pi}}{4}$$"
      ],
      "text/plain": [
       "√2⋅√π\n",
       "─────\n",
       "  4  "
      ]
     },
     "execution_count": 17,
     "metadata": {},
     "output_type": "execute_result"
    }
   ],
   "source": [
    "sp.Integral(sp.sin(x**2), (x, 0, sp.oo)).doit()"
   ]
  },
  {
   "cell_type": "code",
   "execution_count": 18,
   "metadata": {},
   "outputs": [
    {
     "data": {
      "image/png": "[encoded data removed]",
      "text/latex": [
       "$$\\lim_{x \\to 0^-}\\left(\\frac{1}{x^{2}} \\left(\\cos{\\left (x \\right )} - 1\\right)\\right)$$"
      ],
      "text/plain": [
       "     ⎛cos(x) - 1⎞\n",
       " lim ⎜──────────⎟\n",
       "x─→0⁻⎜     2    ⎟\n",
       "     ⎝    x     ⎠"
      ]
     },
     "execution_count": 18,
     "metadata": {},
     "output_type": "execute_result"
    }
   ],
   "source": [
    "lim = sp.Limit((sp.cos(x) - 1) / x**2, x, 0, '-')\n",
    "lim"
   ]
  },
  {
   "cell_type": "code",
   "execution_count": 19,
   "metadata": {},
   "outputs": [
    {
     "data": {
      "image/png": "[encoded data removed]",
      "text/latex": [
       "$$- \\frac{1}{2}$$"
      ],
      "text/plain": [
       "-1/2"
      ]
     },
     "execution_count": 19,
     "metadata": {},
     "output_type": "execute_result"
    }
   ],
   "source": [
    "lim.doit()"
   ]
  },
  {
   "cell_type": "code",
   "execution_count": 20,
   "metadata": {},
   "outputs": [
    {
     "data": {
      "image/png": "[encoded data removed]",
      "text/latex": [
       "$$\\infty$$"
      ],
      "text/plain": [
       "∞"
      ]
     },
     "execution_count": 20,
     "metadata": {},
     "output_type": "execute_result"
    }
   ],
   "source": [
    "sp.Limit(3**x / 2**x, x, sp.oo).doit()"
   ]
  },
  {
   "cell_type": "code",
   "execution_count": 21,
   "metadata": {},
   "outputs": [
    {
     "data": {
      "image/png": "[encoded data removed]",
      "text/latex": [
       "$$\\sum_{x=4}^{\\infty} \\frac{1}{x^{2}}$$"
      ],
      "text/plain": [
       "  ∞     \n",
       " ____   \n",
       " ╲      \n",
       "  ╲   1 \n",
       "   ╲  ──\n",
       "   ╱   2\n",
       "  ╱   x \n",
       " ╱      \n",
       " ‾‾‾‾   \n",
       "x = 4   "
      ]
     },
     "execution_count": 21,
     "metadata": {},
     "output_type": "execute_result"
    }
   ],
   "source": [
    "red = sp.Sum(x**-2, (x, 4, sp.oo))\n",
    "red"
   ]
  },
  {
   "cell_type": "code",
   "execution_count": 146,
   "metadata": {},
   "outputs": [
    {
     "data": {
      "image/png": "[encoded data removed]",
      "text/latex": [
       "$$\\sum_{x=4}^{10} \\frac{1}{x^{2}} = \\frac{239609}{1270080}$$"
      ],
      "text/plain": [
       "  10              \n",
       " ____             \n",
       " ╲                \n",
       "  ╲   1           \n",
       "   ╲  ──    239609\n",
       "   ╱   2 = ───────\n",
       "  ╱   x    1270080\n",
       " ╱                \n",
       " ‾‾‾‾             \n",
       "x = 4             "
      ]
     },
     "execution_count": 146,
     "metadata": {},
     "output_type": "execute_result"
    }
   ],
   "source": [
    "konačna_suma = sp.Sum(x**-2, (x, 4, 10))\n",
    "sp.Eq(konačna_suma, konačna_suma.doit())"
   ]
  },
  {
   "cell_type": "code",
   "execution_count": 155,
   "metadata": {},
   "outputs": [
    {
     "data": {
      "image/png": "[encoded data removed]",
      "text/latex": [
       "$$1 + 1 = 2$$"
      ],
      "text/plain": [
       "1 + 1 = 2"
      ]
     },
     "execution_count": 155,
     "metadata": {},
     "output_type": "execute_result"
    }
   ],
   "source": [
    "čvor = sp.Add(1, 1, evaluate=False)\n",
    "sp.Eq(čvor, čvor.doit(), evaluate=False)"
   ]
  },
  {
   "cell_type": "code",
   "execution_count": 147,
   "metadata": {},
   "outputs": [
    {
     "data": {
      "image/png": "[encoded data removed]",
      "text/latex": [
       "$$- \\frac{49}{36} + \\frac{\\pi^{2}}{6}$$"
      ],
      "text/plain": [
       "        2\n",
       "  49   π \n",
       "- ── + ──\n",
       "  36   6 "
      ]
     },
     "execution_count": 147,
     "metadata": {},
     "output_type": "execute_result"
    }
   ],
   "source": [
    "red.doit()"
   ]
  },
  {
   "cell_type": "code",
   "execution_count": 23,
   "metadata": {},
   "outputs": [
    {
     "data": {
      "image/png": "[encoded data removed]",
      "text/latex": [
       "$$\\frac{x}{2} \\sqrt{x^{2} - 1} - \\frac{1}{2} \\operatorname{acosh}{\\left (x \\right )}$$"
      ],
      "text/plain": [
       "     ________           \n",
       "    ╱  2                \n",
       "x⋅╲╱  x  - 1    acosh(x)\n",
       "───────────── - ────────\n",
       "      2            2    "
      ]
     },
     "execution_count": 23,
     "metadata": {},
     "output_type": "execute_result"
    }
   ],
   "source": [
    "sp.Integral(sp.sqrt(x**2 - 1)).doit()"
   ]
  },
  {
   "cell_type": "markdown",
   "metadata": {},
   "source": [
    "### Rješavanje jednadžbi"
   ]
  },
  {
   "cell_type": "code",
   "execution_count": 24,
   "metadata": {},
   "outputs": [
    {
     "data": {
      "image/png": "[encoded data removed]",
      "text/latex": [
       "$$x^{3} + 8 = 0$$"
      ],
      "text/plain": [
       " 3        \n",
       "x  + 8 = 0"
      ]
     },
     "execution_count": 24,
     "metadata": {},
     "output_type": "execute_result"
    }
   ],
   "source": [
    "jednadžba = sp.Eq(x**3 + 8)\n",
    "jednadžba"
   ]
  },
  {
   "cell_type": "code",
   "execution_count": 25,
   "metadata": {},
   "outputs": [
    {
     "data": {
      "image/png": "[encoded data removed]",
      "text/latex": [
       "$$\\left [ -2, \\quad 1 - \\sqrt{3} i, \\quad 1 + \\sqrt{3} i\\right ]$$"
      ],
      "text/plain": [
       "[-2, 1 - √3⋅ⅈ, 1 + √3⋅ⅈ]"
      ]
     },
     "execution_count": 25,
     "metadata": {},
     "output_type": "execute_result"
    }
   ],
   "source": [
    "sp.solve(jednadžba)"
   ]
  },
  {
   "cell_type": "code",
   "execution_count": 162,
   "metadata": {},
   "outputs": [
    {
     "data": {
      "image/png": "[encoded data removed]",
      "text/latex": [
       "$$\\left [ - \\frac{1}{2} - \\frac{\\sqrt{3} i}{2}, \\quad - \\frac{1}{2} + \\frac{\\sqrt{3} i}{2}\\right ]$$"
      ],
      "text/plain": [
       "⎡  1   √3⋅ⅈ    1   √3⋅ⅈ⎤\n",
       "⎢- ─ - ────, - ─ + ────⎥\n",
       "⎣  2    2      2    2  ⎦"
      ]
     },
     "execution_count": 162,
     "metadata": {},
     "output_type": "execute_result"
    }
   ],
   "source": [
    "sp.solve(sp.Eq(x**2 + x + 1, 0), x)"
   ]
  },
  {
   "cell_type": "code",
   "execution_count": 165,
   "metadata": {},
   "outputs": [
    {
     "data": {
      "image/png": "[encoded data removed]",
      "text/latex": [
       "$$\\left [ \\left \\{ x : \\frac{1}{2} + \\frac{\\sqrt{19}}{2}, \\quad y : - \\frac{1}{2} + \\frac{\\sqrt{19}}{2}\\right \\}, \\quad \\left \\{ x : - \\frac{\\sqrt{19}}{2} + \\frac{1}{2}, \\quad y : - \\frac{\\sqrt{19}}{2} - \\frac{1}{2}\\right \\}\\right ]$$"
      ],
      "text/plain": [
       "⎡⎧   1   √19       1   √19⎫  ⎧     √19   1       √19   1⎫⎤\n",
       "⎢⎨x: ─ + ───, y: - ─ + ───⎬, ⎨x: - ─── + ─, y: - ─── - ─⎬⎥\n",
       "⎣⎩   2    2        2    2 ⎭  ⎩      2    2        2    2⎭⎦"
      ]
     },
     "execution_count": 165,
     "metadata": {},
     "output_type": "execute_result"
    }
   ],
   "source": [
    "sp.solve([sp.Eq(x**2 + y**2, 10), sp.Eq(x - y, 1)], [x, y], dict=True)"
   ]
  },
  {
   "cell_type": "code",
   "execution_count": 166,
   "metadata": {},
   "outputs": [],
   "source": [
    "y, t = sp.Function('y'), sp.Symbol('t')"
   ]
  },
  {
   "cell_type": "code",
   "execution_count": 167,
   "metadata": {},
   "outputs": [
    {
     "data": {
      "image/png": "[encoded data removed]",
      "text/latex": [
       "$$- y{\\left (t \\right )} + \\frac{d^{2}}{d t^{2}}  y{\\left (t \\right )} = e^{t}$$"
      ],
      "text/plain": [
       "          2           \n",
       "         d           t\n",
       "-y(t) + ───(y(t)) = ℯ \n",
       "          2           \n",
       "        dt            "
      ]
     },
     "execution_count": 167,
     "metadata": {},
     "output_type": "execute_result"
    }
   ],
   "source": [
    "difj = sp.Eq(sp.Derivative(y(t), t, 2) - y(t), sp.E ** t)\n",
    "difj"
   ]
  },
  {
   "cell_type": "code",
   "execution_count": 29,
   "metadata": {},
   "outputs": [
    {
     "data": {
      "text/plain": [
       "('nth_linear_constant_coeff_undetermined_coefficients',\n",
       " 'nth_linear_constant_coeff_variation_of_parameters',\n",
       " 'nth_linear_constant_coeff_variation_of_parameters_Integral')"
      ]
     },
     "execution_count": 29,
     "metadata": {},
     "output_type": "execute_result"
    }
   ],
   "source": [
    "sp.classify_ode(difj, y(t))"
   ]
  },
  {
   "cell_type": "code",
   "execution_count": 168,
   "metadata": {},
   "outputs": [
    {
     "data": {
      "image/png": "[encoded data removed]",
      "text/latex": [
       "$$y{\\left (t \\right )} = C_{2} e^{- t} + \\left(C_{1} + \\frac{t}{2}\\right) e^{t}$$"
      ],
      "text/plain": [
       "           -t   ⎛     t⎞  t\n",
       "y(t) = C₂⋅ℯ   + ⎜C₁ + ─⎟⋅ℯ \n",
       "                ⎝     2⎠   "
      ]
     },
     "execution_count": 168,
     "metadata": {},
     "output_type": "execute_result"
    }
   ],
   "source": [
    "sp.dsolve(difj, y(t))"
   ]
  },
  {
   "cell_type": "markdown",
   "metadata": {},
   "source": [
    "### Linearna algebra"
   ]
  },
  {
   "cell_type": "code",
   "execution_count": 170,
   "metadata": {},
   "outputs": [
    {
     "data": {
      "image/png": "[encoded data removed]",
      "text/latex": [
       "$$\\frac{1}{3}$$"
      ],
      "text/plain": [
       "1/3"
      ]
     },
     "execution_count": 170,
     "metadata": {},
     "output_type": "execute_result"
    }
   ],
   "source": [
    "sp.Determinant(sp.Matrix([[1,2,3], [4,5,6], [1,3,4]])**-1).doit()"
   ]
  },
  {
   "cell_type": "code",
   "execution_count": 171,
   "metadata": {},
   "outputs": [],
   "source": [
    "M = sp.Matrix([[1, 2, 3], [2, 2, 2], [1, 2, 3]])"
   ]
  },
  {
   "cell_type": "code",
   "execution_count": 33,
   "metadata": {},
   "outputs": [
    {
     "data": {
      "image/png": "[encoded data removed]",
      "text/latex": [
       "$$\\left \\{ 0 : 2, \\quad 6 : 1\\right \\}$$"
      ],
      "text/plain": [
       "{0: 2, 6: 1}"
      ]
     },
     "execution_count": 33,
     "metadata": {},
     "output_type": "execute_result"
    }
   ],
   "source": [
    "M.eigenvals()"
   ]
  },
  {
   "cell_type": "code",
   "execution_count": 172,
   "metadata": {},
   "outputs": [
    {
     "data": {
      "image/png": "[encoded data removed]",
      "text/latex": [
       "$$\\left [ \\left ( 0, \\quad 2, \\quad \\left [ \\left[\\begin{matrix}1\\\\-2\\\\1\\end{matrix}\\right]\\right ]\\right ), \\quad \\left ( 6, \\quad 1, \\quad \\left [ \\left[\\begin{matrix}1\\\\1\\\\1\\end{matrix}\\right]\\right ]\\right )\\right ]$$"
      ],
      "text/plain": [
       "⎡⎛      ⎡⎡1 ⎤⎤⎞  ⎛      ⎡⎡1⎤⎤⎞⎤\n",
       "⎢⎜      ⎢⎢  ⎥⎥⎟  ⎜      ⎢⎢ ⎥⎥⎟⎥\n",
       "⎢⎜0, 2, ⎢⎢-2⎥⎥⎟, ⎜6, 1, ⎢⎢1⎥⎥⎟⎥\n",
       "⎢⎜      ⎢⎢  ⎥⎥⎟  ⎜      ⎢⎢ ⎥⎥⎟⎥\n",
       "⎣⎝      ⎣⎣1 ⎦⎦⎠  ⎝      ⎣⎣1⎦⎦⎠⎦"
      ]
     },
     "execution_count": 172,
     "metadata": {},
     "output_type": "execute_result"
    }
   ],
   "source": [
    "M.eigenvects()"
   ]
  },
  {
   "cell_type": "markdown",
   "metadata": {},
   "source": [
    "### Razne manipulacije s izrazima"
   ]
  },
  {
   "cell_type": "code",
   "execution_count": 174,
   "metadata": {},
   "outputs": [
    {
     "name": "stdout",
     "output_type": "stream",
     "text": [
      "\\iiiint \\left(- 2 \\left(\\sin{\\left (x + y \\right )} + \\cos{\\left (x + y \\right )}\\right) e^{y}\\right)\\, dy\\, dy\\, dy\\, dx\n"
     ]
    }
   ],
   "source": [
    "print(sp.latex(intg))"
   ]
  },
  {
   "cell_type": "code",
   "execution_count": 35,
   "metadata": {},
   "outputs": [
    {
     "data": {
      "image/png": "[encoded data removed]",
      "text/latex": [
       "$$\\left [ \\sin{\\left (x + \\frac{\\pi}{2} \\right )}, \\quad \\frac{- \\tan^{2}{\\left (\\frac{x}{2} \\right )} + 1}{\\tan^{2}{\\left (\\frac{x}{2} \\right )} + 1}, \\quad \\frac{1}{\\csc{\\left (- x + \\frac{\\pi}{2} \\right )}}, \\quad \\frac{e^{i x}}{2} + \\frac{1}{2} e^{- i x}, \\quad \\cos{\\left (x \\right )}\\right ]$$"
      ],
      "text/plain": [
       "⎡                 2⎛x⎞                                       ⎤\n",
       "⎢            - tan ⎜─⎟ + 1                ⅈ⋅x    -ⅈ⋅x        ⎥\n",
       "⎢   ⎛    π⎞        ⎝2⎠           1       ℯ      ℯ            ⎥\n",
       "⎢sin⎜x + ─⎟, ─────────────, ───────────, ──── + ─────, cos(x)⎥\n",
       "⎢   ⎝    2⎠      2⎛x⎞          ⎛     π⎞   2       2          ⎥\n",
       "⎢             tan ⎜─⎟ + 1   csc⎜-x + ─⎟                      ⎥\n",
       "⎣                 ⎝2⎠          ⎝     2⎠                      ⎦"
      ]
     },
     "execution_count": 35,
     "metadata": {},
     "output_type": "execute_result"
    }
   ],
   "source": [
    "[sp.cos(x).rewrite(funkcija) for funkcija in (sp.sin, sp.tan, sp.csc, sp.exp, sp.acos)]"
   ]
  },
  {
   "cell_type": "code",
   "execution_count": 36,
   "metadata": {},
   "outputs": [
    {
     "name": "stdout",
     "output_type": "stream",
     "text": [
      "True\n"
     ]
    }
   ],
   "source": [
    "with sp.assuming(sp.Q.real(x), sp.Q.nonzero(x)):\n",
    "    print(sp.ask(sp.Q.positive(x ** 2)))"
   ]
  },
  {
   "cell_type": "code",
   "execution_count": 177,
   "metadata": {},
   "outputs": [
    {
     "name": "stdout",
     "output_type": "stream",
     "text": [
      "False\n"
     ]
    }
   ],
   "source": [
    "with sp.assuming(sp.Q.integer(x)):\n",
    "    print(sp.ask(sp.Q.prime(4 * x)))"
   ]
  },
  {
   "cell_type": "code",
   "execution_count": 37,
   "metadata": {},
   "outputs": [
    {
     "data": {
      "text/plain": [
       "True"
      ]
     },
     "execution_count": 37,
     "metadata": {},
     "output_type": "execute_result"
    }
   ],
   "source": [
    "(x**2 + 2*x + 1).equals((x+1)**2)"
   ]
  },
  {
   "cell_type": "code",
   "execution_count": 178,
   "metadata": {},
   "outputs": [
    {
     "data": {
      "image/png": "[encoded data removed]",
      "text/latex": [
       "$$x + 0.333333333333333$$"
      ],
      "text/plain": [
       "x + 0.333333333333333"
      ]
     },
     "execution_count": 178,
     "metadata": {},
     "output_type": "execute_result"
    }
   ],
   "source": [
    "x + 1 / 3"
   ]
  },
  {
   "cell_type": "code",
   "execution_count": 38,
   "metadata": {},
   "outputs": [
    {
     "data": {
      "image/png": "[encoded data removed]",
      "text/latex": [
       "$$x + \\frac{1}{3}$$"
      ],
      "text/plain": [
       "x + 1/3"
      ]
     },
     "execution_count": 38,
     "metadata": {},
     "output_type": "execute_result"
    }
   ],
   "source": [
    "x + sp.S(1) / 3"
   ]
  },
  {
   "cell_type": "code",
   "execution_count": 39,
   "metadata": {},
   "outputs": [
    {
     "data": {
      "image/png": "[encoded data removed]",
      "text/latex": [
       "$$x^{x^{x^{x}}}$$"
      ],
      "text/plain": [
       " ⎛ ⎛ x⎞⎞\n",
       " ⎜ ⎝x ⎠⎟\n",
       " ⎝x    ⎠\n",
       "x       "
      ]
     },
     "execution_count": 39,
     "metadata": {},
     "output_type": "execute_result"
    }
   ],
   "source": [
    "izraz = 0\n",
    "for ponavljanje in range(5):\n",
    "    izraz = x ** izraz\n",
    "izraz"
   ]
  },
  {
   "cell_type": "code",
   "execution_count": 40,
   "metadata": {},
   "outputs": [
    {
     "data": {
      "image/png": "[encoded data removed]",
      "text/latex": [
       "$$\\left(\\left(x^{x}\\right)^{x^{x}}\\right)^{\\left(x^{x}\\right)^{x^{x}}}$$"
      ],
      "text/plain": [
       "          ⎛    ⎛ x⎞⎞\n",
       "          ⎜    ⎝x ⎠⎟\n",
       "          ⎜⎛ x⎞    ⎟\n",
       "          ⎝⎝x ⎠    ⎠\n",
       "⎛    ⎛ x⎞⎞          \n",
       "⎜    ⎝x ⎠⎟          \n",
       "⎜⎛ x⎞    ⎟          \n",
       "⎝⎝x ⎠    ⎠          "
      ]
     },
     "execution_count": 40,
     "metadata": {},
     "output_type": "execute_result"
    }
   ],
   "source": [
    "izraz = x\n",
    "for ponavljanje in range(3):\n",
    "    izraz = izraz.subs(x, x**x)\n",
    "izraz"
   ]
  },
  {
   "cell_type": "code",
   "execution_count": 179,
   "metadata": {},
   "outputs": [],
   "source": [
    "izraz = sp.sin(2*x) + sp.cos(2*x)"
   ]
  },
  {
   "cell_type": "code",
   "execution_count": 180,
   "metadata": {},
   "outputs": [
    {
     "data": {
      "image/png": "[encoded data removed]",
      "text/latex": [
       "$$2 \\sin{\\left (x \\right )} \\cos{\\left (x \\right )} + 2 \\cos^{2}{\\left (x \\right )} - 1$$"
      ],
      "text/plain": [
       "                       2       \n",
       "2⋅sin(x)⋅cos(x) + 2⋅cos (x) - 1"
      ]
     },
     "execution_count": 180,
     "metadata": {},
     "output_type": "execute_result"
    }
   ],
   "source": [
    "izraz.expand(trig=True)"
   ]
  },
  {
   "cell_type": "code",
   "execution_count": 181,
   "metadata": {},
   "outputs": [],
   "source": [
    "def parcijalna_zamjena(izraz, podizraz, transformacija):\n",
    "    return izraz.subs(podizraz, transformacija(podizraz))"
   ]
  },
  {
   "cell_type": "code",
   "execution_count": 182,
   "metadata": {},
   "outputs": [
    {
     "data": {
      "image/png": "[encoded data removed]",
      "text/latex": [
       "$$2 \\sin{\\left (x \\right )} \\cos{\\left (x \\right )} + \\cos{\\left (2 x \\right )}$$"
      ],
      "text/plain": [
       "2⋅sin(x)⋅cos(x) + cos(2⋅x)"
      ]
     },
     "execution_count": 182,
     "metadata": {},
     "output_type": "execute_result"
    }
   ],
   "source": [
    "parcijalna_zamjena(izraz, sp.sin(2*x), sp.expand_trig)"
   ]
  },
  {
   "cell_type": "code",
   "execution_count": 183,
   "metadata": {},
   "outputs": [
    {
     "data": {
      "image/png": "[encoded data removed]",
      "text/latex": [
       "$$\\left \\{ 1 : 1, \\quad x^{2} : y^{2}, \\quad x^{4} : y^{4}\\right \\}$$"
      ],
      "text/plain": [
       "⎧       2   2   4   4⎫\n",
       "⎨1: 1, x : y , x : y ⎬\n",
       "⎩                    ⎭"
      ]
     },
     "execution_count": 183,
     "metadata": {},
     "output_type": "execute_result"
    }
   ],
   "source": [
    "x, y = sp.symbols('x, y')\n",
    "polinom = x**4 - 4*x**3 + 4*x**2 - 2*x + 3\n",
    "zamjene = {x**i : y**i for i in range(5) if not i % 2}\n",
    "zamjene"
   ]
  },
  {
   "cell_type": "code",
   "execution_count": 184,
   "metadata": {},
   "outputs": [
    {
     "data": {
      "image/png": "[encoded data removed]",
      "text/latex": [
       "$$- 4 x^{3} - 2 x + y^{4} + 4 y^{2} + 3$$"
      ],
      "text/plain": [
       "     3          4      2    \n",
       "- 4⋅x  - 2⋅x + y  + 4⋅y  + 3"
      ]
     },
     "execution_count": 184,
     "metadata": {},
     "output_type": "execute_result"
    }
   ],
   "source": [
    "polinom.subs(zamjene)"
   ]
  },
  {
   "cell_type": "code",
   "execution_count": 185,
   "metadata": {},
   "outputs": [
    {
     "data": {
      "image/png": "[encoded data removed]",
      "text/latex": [
       "$$\\alpha + x^{2} + y^{3} - \\frac{1}{3} + \\pi$$"
      ],
      "text/plain": [
       "     2    3   1    \n",
       "α + x  + y  - ─ + π\n",
       "              3    "
      ]
     },
     "execution_count": 185,
     "metadata": {},
     "output_type": "execute_result"
    }
   ],
   "source": [
    "sp.S('x^2+y^3-1/3+pi+alpha')"
   ]
  },
  {
   "cell_type": "code",
   "execution_count": 48,
   "metadata": {},
   "outputs": [],
   "source": [
    "from sympy.printing.dot import dotprint"
   ]
  },
  {
   "cell_type": "code",
   "execution_count": 188,
   "metadata": {},
   "outputs": [
    {
     "name": "stdout",
     "output_type": "stream",
     "text": [
      "digraph{\n",
      "\n",
      "# Graph style\n",
      "\"ordering\"=\"out\"\n",
      "\"rankdir\"=\"TD\"\n",
      "\n",
      "#########\n",
      "# Nodes #\n",
      "#########\n",
      "\n",
      "\"Mul(Rational(-1, 2), Pow(Symbol(a), NegativeOne()), Add(Symbol(b), Pow(Add(Pow(Symbol(b), Integer(2)), Mul(Integer(-4), Symbol(a), Symbol(c))), Half())))_()\" [\"color\"=\"black\", \"label\"=\"Mul\", \"shape\"=\"ellipse\"];\n",
      "\"Rational(-1, 2)_(0,)\" [\"color\"=\"black\", \"label\"=\"-1/2\", \"shape\"=\"ellipse\"];\n",
      "\"Pow(Symbol(a), NegativeOne())_(1,)\" [\"color\"=\"black\", \"label\"=\"Pow\", \"shape\"=\"ellipse\"];\n",
      "\"Symbol(a)_(1, 0)\" [\"color\"=\"black\", \"label\"=\"a\", \"shape\"=\"ellipse\"];\n",
      "\"NegativeOne()_(1, 1)\" [\"color\"=\"black\", \"label\"=\"-1\", \"shape\"=\"ellipse\"];\n",
      "\"Add(Symbol(b), Pow(Add(Pow(Symbol(b), Integer(2)), Mul(Integer(-4), Symbol(a), Symbol(c))), Half()))_(2,)\" [\"color\"=\"black\", \"label\"=\"Add\", \"shape\"=\"ellipse\"];\n",
      "\"Symbol(b)_(2, 0)\" [\"color\"=\"black\", \"label\"=\"b\", \"shape\"=\"ellipse\"];\n",
      "\"Pow(Add(Pow(Symbol(b), Integer(2)), Mul(Integer(-4), Symbol(a), Symbol(c))), Half())_(2, 1)\" [\"color\"=\"black\", \"label\"=\"Pow\", \"shape\"=\"ellipse\"];\n",
      "\"Add(Pow(Symbol(b), Integer(2)), Mul(Integer(-4), Symbol(a), Symbol(c)))_(2, 1, 0)\" [\"color\"=\"black\", \"label\"=\"Add\", \"shape\"=\"ellipse\"];\n",
      "\"Pow(Symbol(b), Integer(2))_(2, 1, 0, 0)\" [\"color\"=\"black\", \"label\"=\"Pow\", \"shape\"=\"ellipse\"];\n",
      "\"Symbol(b)_(2, 1, 0, 0, 0)\" [\"color\"=\"black\", \"label\"=\"b\", \"shape\"=\"ellipse\"];\n",
      "\"Integer(2)_(2, 1, 0, 0, 1)\" [\"color\"=\"black\", \"label\"=\"2\", \"shape\"=\"ellipse\"];\n",
      "\"Mul(Integer(-4), Symbol(a), Symbol(c))_(2, 1, 0, 1)\" [\"color\"=\"black\", \"label\"=\"Mul\", \"shape\"=\"ellipse\"];\n",
      "\"Integer(-4)_(2, 1, 0, 1, 0)\" [\"color\"=\"black\", \"label\"=\"-4\", \"shape\"=\"ellipse\"];\n",
      "\"Symbol(a)_(2, 1, 0, 1, 1)\" [\"color\"=\"black\", \"label\"=\"a\", \"shape\"=\"ellipse\"];\n",
      "\"Symbol(c)_(2, 1, 0, 1, 2)\" [\"color\"=\"black\", \"label\"=\"c\", \"shape\"=\"ellipse\"];\n",
      "\"Half()_(2, 1, 1)\" [\"color\"=\"black\", \"label\"=\"1/2\", \"shape\"=\"ellipse\"];\n",
      "\n",
      "#########\n",
      "# Edges #\n",
      "#########\n",
      "\n",
      "\"Mul(Rational(-1, 2), Pow(Symbol(a), NegativeOne()), Add(Symbol(b), Pow(Add(Pow(Symbol(b), Integer(2)), Mul(Integer(-4), Symbol(a), Symbol(c))), Half())))_()\" -> \"Rational(-1, 2)_(0,)\";\n",
      "\"Mul(Rational(-1, 2), Pow(Symbol(a), NegativeOne()), Add(Symbol(b), Pow(Add(Pow(Symbol(b), Integer(2)), Mul(Integer(-4), Symbol(a), Symbol(c))), Half())))_()\" -> \"Pow(Symbol(a), NegativeOne())_(1,)\";\n",
      "\"Mul(Rational(-1, 2), Pow(Symbol(a), NegativeOne()), Add(Symbol(b), Pow(Add(Pow(Symbol(b), Integer(2)), Mul(Integer(-4), Symbol(a), Symbol(c))), Half())))_()\" -> \"Add(Symbol(b), Pow(Add(Pow(Symbol(b), Integer(2)), Mul(Integer(-4), Symbol(a), Symbol(c))), Half()))_(2,)\";\n",
      "\"Pow(Symbol(a), NegativeOne())_(1,)\" -> \"Symbol(a)_(1, 0)\";\n",
      "\"Pow(Symbol(a), NegativeOne())_(1,)\" -> \"NegativeOne()_(1, 1)\";\n",
      "\"Add(Symbol(b), Pow(Add(Pow(Symbol(b), Integer(2)), Mul(Integer(-4), Symbol(a), Symbol(c))), Half()))_(2,)\" -> \"Symbol(b)_(2, 0)\";\n",
      "\"Add(Symbol(b), Pow(Add(Pow(Symbol(b), Integer(2)), Mul(Integer(-4), Symbol(a), Symbol(c))), Half()))_(2,)\" -> \"Pow(Add(Pow(Symbol(b), Integer(2)), Mul(Integer(-4), Symbol(a), Symbol(c))), Half())_(2, 1)\";\n",
      "\"Pow(Add(Pow(Symbol(b), Integer(2)), Mul(Integer(-4), Symbol(a), Symbol(c))), Half())_(2, 1)\" -> \"Add(Pow(Symbol(b), Integer(2)), Mul(Integer(-4), Symbol(a), Symbol(c)))_(2, 1, 0)\";\n",
      "\"Pow(Add(Pow(Symbol(b), Integer(2)), Mul(Integer(-4), Symbol(a), Symbol(c))), Half())_(2, 1)\" -> \"Half()_(2, 1, 1)\";\n",
      "\"Add(Pow(Symbol(b), Integer(2)), Mul(Integer(-4), Symbol(a), Symbol(c)))_(2, 1, 0)\" -> \"Pow(Symbol(b), Integer(2))_(2, 1, 0, 0)\";\n",
      "\"Add(Pow(Symbol(b), Integer(2)), Mul(Integer(-4), Symbol(a), Symbol(c)))_(2, 1, 0)\" -> \"Mul(Integer(-4), Symbol(a), Symbol(c))_(2, 1, 0, 1)\";\n",
      "\"Pow(Symbol(b), Integer(2))_(2, 1, 0, 0)\" -> \"Symbol(b)_(2, 1, 0, 0, 0)\";\n",
      "\"Pow(Symbol(b), Integer(2))_(2, 1, 0, 0)\" -> \"Integer(2)_(2, 1, 0, 0, 1)\";\n",
      "\"Mul(Integer(-4), Symbol(a), Symbol(c))_(2, 1, 0, 1)\" -> \"Integer(-4)_(2, 1, 0, 1, 0)\";\n",
      "\"Mul(Integer(-4), Symbol(a), Symbol(c))_(2, 1, 0, 1)\" -> \"Symbol(a)_(2, 1, 0, 1, 1)\";\n",
      "\"Mul(Integer(-4), Symbol(a), Symbol(c))_(2, 1, 0, 1)\" -> \"Symbol(c)_(2, 1, 0, 1, 2)\";\n",
      "}\n"
     ]
    }
   ],
   "source": [
    "from sympy.abc import a, b, c, x\n",
    "print(dotprint(sp.solve(a * x**2 + b * x + c, x)[~0]))"
   ]
  },
  {
   "cell_type": "code",
   "execution_count": 50,
   "metadata": {},
   "outputs": [],
   "source": [
    "from IPython.display import SVG"
   ]
  },
  {
   "cell_type": "code",
   "execution_count": 189,
   "metadata": {},
   "outputs": [
    {
     "data": {
      "image/svg+xml": [
       "<svg height=\"404pt\" viewBox=\"0.00 0.00 406.00 404.00\" width=\"406pt\" xmlns=\"http://www.w3.org/2000/svg\" xmlns:xlink=\"http://www.w3.org/1999/xlink\">\n",
       "<g class=\"graph\" id=\"graph1\" transform=\"scale(1 1) rotate(0) translate(4 400)\">\n",
       "<title>_anonymous_0</title>\n",
       "<polygon fill=\"white\" points=\"-4,5 -4,-400 403,-400 403,5 -4,5\" stroke=\"white\"/>\n",
       "<!-- Mul(Rational(&#45;1, 2), Pow(Symbol(a), NegativeOne()), Add(Symbol(b), Pow(Add(Pow(Symbol(b), Integer(2)), Mul(Integer(&#45;4), Symbol(a), Symbol(c))), Half())))_() -->\n",
       "<g class=\"node\" id=\"node1\"><title>Mul(Rational(-1, 2), Pow(Symbol(a), NegativeOne()), Add(Symbol(b), Pow(Add(Pow(Symbol(b), Integer(2)), Mul(Integer(-4), Symbol(a), Symbol(c))), Half())))_()</title>\n",
       "<ellipse cx=\"100\" cy=\"-378\" fill=\"none\" rx=\"27.1994\" ry=\"18\" stroke=\"black\"/>\n",
       "<text font-family=\"Times,serif\" font-size=\"14.00\" text-anchor=\"middle\" x=\"100\" y=\"-373.8\">Mul</text>\n",
       "</g>\n",
       "<!-- Rational(&#45;1, 2)_(0,) -->\n",
       "<g class=\"node\" id=\"node2\"><title>Rational(-1, 2)_(0,)</title>\n",
       "<ellipse cx=\"27\" cy=\"-306\" fill=\"none\" rx=\"27\" ry=\"18\" stroke=\"black\"/>\n",
       "<text font-family=\"Times,serif\" font-size=\"14.00\" text-anchor=\"middle\" x=\"27\" y=\"-301.8\">-1/2</text>\n",
       "</g>\n",
       "<!-- Mul(Rational(&#45;1, 2), Pow(Symbol(a), NegativeOne()), Add(Symbol(b), Pow(Add(Pow(Symbol(b), Integer(2)), Mul(Integer(&#45;4), Symbol(a), Symbol(c))), Half())))_()&#45;&gt;Rational(&#45;1, 2)_(0,) -->\n",
       "<g class=\"edge\" id=\"edge2\"><title>Mul(Rational(-1, 2), Pow(Symbol(a), NegativeOne()), Add(Symbol(b), Pow(Add(Pow(Symbol(b), Integer(2)), Mul(Integer(-4), Symbol(a), Symbol(c))), Half())))_()-&gt;Rational(-1, 2)_(0,)</title>\n",
       "<path d=\"M85.2274,-362.834C74.838,-352.872 60.7559,-339.369 49.043,-328.137\" fill=\"none\" stroke=\"black\"/>\n",
       "<polygon fill=\"black\" points=\"51.391,-325.539 41.7507,-321.144 46.5461,-330.592 51.391,-325.539\" stroke=\"black\"/>\n",
       "</g>\n",
       "<!-- Pow(Symbol(a), NegativeOne())_(1,) -->\n",
       "<g class=\"node\" id=\"node3\"><title>Pow(Symbol(a), NegativeOne())_(1,)</title>\n",
       "<ellipse cx=\"100\" cy=\"-306\" fill=\"none\" rx=\"28.3077\" ry=\"18\" stroke=\"black\"/>\n",
       "<text font-family=\"Times,serif\" font-size=\"14.00\" text-anchor=\"middle\" x=\"100\" y=\"-301.8\">Pow</text>\n",
       "</g>\n",
       "<!-- Mul(Rational(&#45;1, 2), Pow(Symbol(a), NegativeOne()), Add(Symbol(b), Pow(Add(Pow(Symbol(b), Integer(2)), Mul(Integer(&#45;4), Symbol(a), Symbol(c))), Half())))_()&#45;&gt;Pow(Symbol(a), NegativeOne())_(1,) -->\n",
       "<g class=\"edge\" id=\"edge4\"><title>Mul(Rational(-1, 2), Pow(Symbol(a), NegativeOne()), Add(Symbol(b), Pow(Add(Pow(Symbol(b), Integer(2)), Mul(Integer(-4), Symbol(a), Symbol(c))), Half())))_()-&gt;Pow(Symbol(a), NegativeOne())_(1,)</title>\n",
       "<path d=\"M100,-359.697C100,-351.983 100,-342.712 100,-334.112\" fill=\"none\" stroke=\"black\"/>\n",
       "<polygon fill=\"black\" points=\"103.5,-334.104 100,-324.104 96.5001,-334.104 103.5,-334.104\" stroke=\"black\"/>\n",
       "</g>\n",
       "<!-- Add(Symbol(b), Pow(Add(Pow(Symbol(b), Integer(2)), Mul(Integer(&#45;4), Symbol(a), Symbol(c))), Half()))_(2,) -->\n",
       "<g class=\"node\" id=\"node6\"><title>Add(Symbol(b), Pow(Add(Pow(Symbol(b), Integer(2)), Mul(Integer(-4), Symbol(a), Symbol(c))), Half()))_(2,)</title>\n",
       "<ellipse cx=\"174\" cy=\"-306\" fill=\"none\" rx=\"27.4962\" ry=\"18\" stroke=\"black\"/>\n",
       "<text font-family=\"Times,serif\" font-size=\"14.00\" text-anchor=\"middle\" x=\"174\" y=\"-301.8\">Add</text>\n",
       "</g>\n",
       "<!-- Mul(Rational(&#45;1, 2), Pow(Symbol(a), NegativeOne()), Add(Symbol(b), Pow(Add(Pow(Symbol(b), Integer(2)), Mul(Integer(&#45;4), Symbol(a), Symbol(c))), Half())))_()&#45;&gt;Add(Symbol(b), Pow(Add(Pow(Symbol(b), Integer(2)), Mul(Integer(&#45;4), Symbol(a), Symbol(c))), Half()))_(2,) -->\n",
       "<g class=\"edge\" id=\"edge6\"><title>Mul(Rational(-1, 2), Pow(Symbol(a), NegativeOne()), Add(Symbol(b), Pow(Add(Pow(Symbol(b), Integer(2)), Mul(Integer(-4), Symbol(a), Symbol(c))), Half())))_()-&gt;Add(Symbol(b), Pow(Add(Pow(Symbol(b), Integer(2)), Mul(Integer(-4), Symbol(a), Symbol(c))), Half()))_(2,)</title>\n",
       "<path d=\"M114.975,-362.834C125.507,-352.872 139.782,-339.369 151.655,-328.137\" fill=\"none\" stroke=\"black\"/>\n",
       "<polygon fill=\"black\" points=\"154.188,-330.559 159.047,-321.144 149.377,-325.474 154.188,-330.559\" stroke=\"black\"/>\n",
       "</g>\n",
       "<!-- Symbol(a)_(1, 0) -->\n",
       "<g class=\"node\" id=\"node4\"><title>Symbol(a)_(1, 0)</title>\n",
       "<ellipse cx=\"28\" cy=\"-234\" fill=\"none\" rx=\"27\" ry=\"18\" stroke=\"black\"/>\n",
       "<text font-family=\"Times,serif\" font-size=\"14.00\" text-anchor=\"middle\" x=\"28\" y=\"-229.8\">a</text>\n",
       "</g>\n",
       "<!-- Pow(Symbol(a), NegativeOne())_(1,)&#45;&gt;Symbol(a)_(1, 0) -->\n",
       "<g class=\"edge\" id=\"edge8\"><title>Pow(Symbol(a), NegativeOne())_(1,)-&gt;Symbol(a)_(1, 0)</title>\n",
       "<path d=\"M85.0816,-290.496C75.0415,-280.735 61.6237,-267.69 50.3199,-256.7\" fill=\"none\" stroke=\"black\"/>\n",
       "<polygon fill=\"black\" points=\"52.5091,-253.947 42.8993,-249.485 47.6295,-258.966 52.5091,-253.947\" stroke=\"black\"/>\n",
       "</g>\n",
       "<!-- NegativeOne()_(1, 1) -->\n",
       "<g class=\"node\" id=\"node5\"><title>NegativeOne()_(1, 1)</title>\n",
       "<ellipse cx=\"100\" cy=\"-234\" fill=\"none\" rx=\"27\" ry=\"18\" stroke=\"black\"/>\n",
       "<text font-family=\"Times,serif\" font-size=\"14.00\" text-anchor=\"middle\" x=\"100\" y=\"-229.8\">-1</text>\n",
       "</g>\n",
       "<!-- Pow(Symbol(a), NegativeOne())_(1,)&#45;&gt;NegativeOne()_(1, 1) -->\n",
       "<g class=\"edge\" id=\"edge10\"><title>Pow(Symbol(a), NegativeOne())_(1,)-&gt;NegativeOne()_(1, 1)</title>\n",
       "<path d=\"M100,-287.697C100,-279.983 100,-270.712 100,-262.112\" fill=\"none\" stroke=\"black\"/>\n",
       "<polygon fill=\"black\" points=\"103.5,-262.104 100,-252.104 96.5001,-262.104 103.5,-262.104\" stroke=\"black\"/>\n",
       "</g>\n",
       "<!-- Symbol(b)_(2, 0) -->\n",
       "<g class=\"node\" id=\"node7\"><title>Symbol(b)_(2, 0)</title>\n",
       "<ellipse cx=\"173\" cy=\"-234\" fill=\"none\" rx=\"27\" ry=\"18\" stroke=\"black\"/>\n",
       "<text font-family=\"Times,serif\" font-size=\"14.00\" text-anchor=\"middle\" x=\"173\" y=\"-229.8\">b</text>\n",
       "</g>\n",
       "<!-- Add(Symbol(b), Pow(Add(Pow(Symbol(b), Integer(2)), Mul(Integer(&#45;4), Symbol(a), Symbol(c))), Half()))_(2,)&#45;&gt;Symbol(b)_(2, 0) -->\n",
       "<g class=\"edge\" id=\"edge12\"><title>Add(Symbol(b), Pow(Add(Pow(Symbol(b), Integer(2)), Mul(Integer(-4), Symbol(a), Symbol(c))), Half()))_(2,)-&gt;Symbol(b)_(2, 0)</title>\n",
       "<path d=\"M173.753,-287.697C173.643,-279.983 173.51,-270.712 173.387,-262.112\" fill=\"none\" stroke=\"black\"/>\n",
       "<polygon fill=\"black\" points=\"176.887,-262.053 173.244,-252.104 169.888,-262.153 176.887,-262.053\" stroke=\"black\"/>\n",
       "</g>\n",
       "<!-- Pow(Add(Pow(Symbol(b), Integer(2)), Mul(Integer(&#45;4), Symbol(a), Symbol(c))), Half())_(2, 1) -->\n",
       "<g class=\"node\" id=\"node8\"><title>Pow(Add(Pow(Symbol(b), Integer(2)), Mul(Integer(-4), Symbol(a), Symbol(c))), Half())_(2, 1)</title>\n",
       "<ellipse cx=\"246\" cy=\"-234\" fill=\"none\" rx=\"28.3077\" ry=\"18\" stroke=\"black\"/>\n",
       "<text font-family=\"Times,serif\" font-size=\"14.00\" text-anchor=\"middle\" x=\"246\" y=\"-229.8\">Pow</text>\n",
       "</g>\n",
       "<!-- Add(Symbol(b), Pow(Add(Pow(Symbol(b), Integer(2)), Mul(Integer(&#45;4), Symbol(a), Symbol(c))), Half()))_(2,)&#45;&gt;Pow(Add(Pow(Symbol(b), Integer(2)), Mul(Integer(&#45;4), Symbol(a), Symbol(c))), Half())_(2, 1) -->\n",
       "<g class=\"edge\" id=\"edge14\"><title>Add(Symbol(b), Pow(Add(Pow(Symbol(b), Integer(2)), Mul(Integer(-4), Symbol(a), Symbol(c))), Half()))_(2,)-&gt;Pow(Add(Pow(Symbol(b), Integer(2)), Mul(Integer(-4), Symbol(a), Symbol(c))), Half())_(2, 1)</title>\n",
       "<path d=\"M188.918,-290.496C198.958,-280.735 212.376,-267.69 223.68,-256.7\" fill=\"none\" stroke=\"black\"/>\n",
       "<polygon fill=\"black\" points=\"226.37,-258.966 231.101,-249.485 221.491,-253.947 226.37,-258.966\" stroke=\"black\"/>\n",
       "</g>\n",
       "<!-- Add(Pow(Symbol(b), Integer(2)), Mul(Integer(&#45;4), Symbol(a), Symbol(c)))_(2, 1, 0) -->\n",
       "<g class=\"node\" id=\"node9\"><title>Add(Pow(Symbol(b), Integer(2)), Mul(Integer(-4), Symbol(a), Symbol(c)))_(2, 1, 0)</title>\n",
       "<ellipse cx=\"209\" cy=\"-162\" fill=\"none\" rx=\"27.4962\" ry=\"18\" stroke=\"black\"/>\n",
       "<text font-family=\"Times,serif\" font-size=\"14.00\" text-anchor=\"middle\" x=\"209\" y=\"-157.8\">Add</text>\n",
       "</g>\n",
       "<!-- Pow(Add(Pow(Symbol(b), Integer(2)), Mul(Integer(&#45;4), Symbol(a), Symbol(c))), Half())_(2, 1)&#45;&gt;Add(Pow(Symbol(b), Integer(2)), Mul(Integer(&#45;4), Symbol(a), Symbol(c)))_(2, 1, 0) -->\n",
       "<g class=\"edge\" id=\"edge16\"><title>Pow(Add(Pow(Symbol(b), Integer(2)), Mul(Integer(-4), Symbol(a), Symbol(c))), Half())_(2, 1)-&gt;Add(Pow(Symbol(b), Integer(2)), Mul(Integer(-4), Symbol(a), Symbol(c)))_(2, 1, 0)</title>\n",
       "<path d=\"M237.418,-216.765C232.935,-208.283 227.349,-197.714 222.319,-188.197\" fill=\"none\" stroke=\"black\"/>\n",
       "<polygon fill=\"black\" points=\"225.302,-186.353 217.535,-179.147 219.114,-189.624 225.302,-186.353\" stroke=\"black\"/>\n",
       "</g>\n",
       "<!-- Half()_(2, 1, 1) -->\n",
       "<g class=\"node\" id=\"node17\"><title>Half()_(2, 1, 1)</title>\n",
       "<ellipse cx=\"282\" cy=\"-162\" fill=\"none\" rx=\"27\" ry=\"18\" stroke=\"black\"/>\n",
       "<text font-family=\"Times,serif\" font-size=\"14.00\" text-anchor=\"middle\" x=\"282\" y=\"-157.8\">1/2</text>\n",
       "</g>\n",
       "<!-- Pow(Add(Pow(Symbol(b), Integer(2)), Mul(Integer(&#45;4), Symbol(a), Symbol(c))), Half())_(2, 1)&#45;&gt;Half()_(2, 1, 1) -->\n",
       "<g class=\"edge\" id=\"edge18\"><title>Pow(Add(Pow(Symbol(b), Integer(2)), Mul(Integer(-4), Symbol(a), Symbol(c))), Half())_(2, 1)-&gt;Half()_(2, 1, 1)</title>\n",
       "<path d=\"M254.35,-216.765C258.712,-208.283 264.147,-197.714 269.041,-188.197\" fill=\"none\" stroke=\"black\"/>\n",
       "<polygon fill=\"black\" points=\"272.235,-189.641 273.696,-179.147 266.01,-186.439 272.235,-189.641\" stroke=\"black\"/>\n",
       "</g>\n",
       "<!-- Pow(Symbol(b), Integer(2))_(2, 1, 0, 0) -->\n",
       "<g class=\"node\" id=\"node10\"><title>Pow(Symbol(b), Integer(2))_(2, 1, 0, 0)</title>\n",
       "<ellipse cx=\"155\" cy=\"-90\" fill=\"none\" rx=\"28.3077\" ry=\"18\" stroke=\"black\"/>\n",
       "<text font-family=\"Times,serif\" font-size=\"14.00\" text-anchor=\"middle\" x=\"155\" y=\"-85.8\">Pow</text>\n",
       "</g>\n",
       "<!-- Add(Pow(Symbol(b), Integer(2)), Mul(Integer(&#45;4), Symbol(a), Symbol(c)))_(2, 1, 0)&#45;&gt;Pow(Symbol(b), Integer(2))_(2, 1, 0, 0) -->\n",
       "<g class=\"edge\" id=\"edge20\"><title>Add(Pow(Symbol(b), Integer(2)), Mul(Integer(-4), Symbol(a), Symbol(c)))_(2, 1, 0)-&gt;Pow(Symbol(b), Integer(2))_(2, 1, 0, 0)</title>\n",
       "<path d=\"M197.016,-145.465C190.024,-136.402 181.064,-124.786 173.215,-114.612\" fill=\"none\" stroke=\"black\"/>\n",
       "<polygon fill=\"black\" points=\"175.83,-112.272 166.951,-106.492 170.288,-116.548 175.83,-112.272\" stroke=\"black\"/>\n",
       "</g>\n",
       "<!-- Mul(Integer(&#45;4), Symbol(a), Symbol(c))_(2, 1, 0, 1) -->\n",
       "<g class=\"node\" id=\"node13\"><title>Mul(Integer(-4), Symbol(a), Symbol(c))_(2, 1, 0, 1)</title>\n",
       "<ellipse cx=\"263\" cy=\"-90\" fill=\"none\" rx=\"27.1994\" ry=\"18\" stroke=\"black\"/>\n",
       "<text font-family=\"Times,serif\" font-size=\"14.00\" text-anchor=\"middle\" x=\"263\" y=\"-85.8\">Mul</text>\n",
       "</g>\n",
       "<!-- Add(Pow(Symbol(b), Integer(2)), Mul(Integer(&#45;4), Symbol(a), Symbol(c)))_(2, 1, 0)&#45;&gt;Mul(Integer(&#45;4), Symbol(a), Symbol(c))_(2, 1, 0, 1) -->\n",
       "<g class=\"edge\" id=\"edge22\"><title>Add(Pow(Symbol(b), Integer(2)), Mul(Integer(-4), Symbol(a), Symbol(c)))_(2, 1, 0)-&gt;Mul(Integer(-4), Symbol(a), Symbol(c))_(2, 1, 0, 1)</title>\n",
       "<path d=\"M220.984,-145.465C227.976,-136.402 236.936,-124.786 244.785,-114.612\" fill=\"none\" stroke=\"black\"/>\n",
       "<polygon fill=\"black\" points=\"247.712,-116.548 251.049,-106.492 242.17,-112.272 247.712,-116.548\" stroke=\"black\"/>\n",
       "</g>\n",
       "<!-- Symbol(b)_(2, 1, 0, 0, 0) -->\n",
       "<g class=\"node\" id=\"node11\"><title>Symbol(b)_(2, 1, 0, 0, 0)</title>\n",
       "<ellipse cx=\"83\" cy=\"-18\" fill=\"none\" rx=\"27\" ry=\"18\" stroke=\"black\"/>\n",
       "<text font-family=\"Times,serif\" font-size=\"14.00\" text-anchor=\"middle\" x=\"83\" y=\"-13.8\">b</text>\n",
       "</g>\n",
       "<!-- Pow(Symbol(b), Integer(2))_(2, 1, 0, 0)&#45;&gt;Symbol(b)_(2, 1, 0, 0, 0) -->\n",
       "<g class=\"edge\" id=\"edge24\"><title>Pow(Symbol(b), Integer(2))_(2, 1, 0, 0)-&gt;Symbol(b)_(2, 1, 0, 0, 0)</title>\n",
       "<path d=\"M140.082,-74.496C130.042,-64.7348 116.624,-51.6897 105.32,-40.6999\" fill=\"none\" stroke=\"black\"/>\n",
       "<polygon fill=\"black\" points=\"107.509,-37.9468 97.8993,-33.4855 102.63,-42.9658 107.509,-37.9468\" stroke=\"black\"/>\n",
       "</g>\n",
       "<!-- Integer(2)_(2, 1, 0, 0, 1) -->\n",
       "<g class=\"node\" id=\"node12\"><title>Integer(2)_(2, 1, 0, 0, 1)</title>\n",
       "<ellipse cx=\"155\" cy=\"-18\" fill=\"none\" rx=\"27\" ry=\"18\" stroke=\"black\"/>\n",
       "<text font-family=\"Times,serif\" font-size=\"14.00\" text-anchor=\"middle\" x=\"155\" y=\"-13.8\">2</text>\n",
       "</g>\n",
       "<!-- Pow(Symbol(b), Integer(2))_(2, 1, 0, 0)&#45;&gt;Integer(2)_(2, 1, 0, 0, 1) -->\n",
       "<g class=\"edge\" id=\"edge26\"><title>Pow(Symbol(b), Integer(2))_(2, 1, 0, 0)-&gt;Integer(2)_(2, 1, 0, 0, 1)</title>\n",
       "<path d=\"M155,-71.6966C155,-63.9827 155,-54.7125 155,-46.1124\" fill=\"none\" stroke=\"black\"/>\n",
       "<polygon fill=\"black\" points=\"158.5,-46.1043 155,-36.1043 151.5,-46.1044 158.5,-46.1043\" stroke=\"black\"/>\n",
       "</g>\n",
       "<!-- Integer(&#45;4)_(2, 1, 0, 1, 0) -->\n",
       "<g class=\"node\" id=\"node14\"><title>Integer(-4)_(2, 1, 0, 1, 0)</title>\n",
       "<ellipse cx=\"227\" cy=\"-18\" fill=\"none\" rx=\"27\" ry=\"18\" stroke=\"black\"/>\n",
       "<text font-family=\"Times,serif\" font-size=\"14.00\" text-anchor=\"middle\" x=\"227\" y=\"-13.8\">-4</text>\n",
       "</g>\n",
       "<!-- Mul(Integer(&#45;4), Symbol(a), Symbol(c))_(2, 1, 0, 1)&#45;&gt;Integer(&#45;4)_(2, 1, 0, 1, 0) -->\n",
       "<g class=\"edge\" id=\"edge28\"><title>Mul(Integer(-4), Symbol(a), Symbol(c))_(2, 1, 0, 1)-&gt;Integer(-4)_(2, 1, 0, 1, 0)</title>\n",
       "<path d=\"M254.65,-72.7646C250.288,-64.2831 244.853,-53.7144 239.959,-44.1974\" fill=\"none\" stroke=\"black\"/>\n",
       "<polygon fill=\"black\" points=\"242.99,-42.4395 235.304,-35.1473 236.765,-45.6409 242.99,-42.4395\" stroke=\"black\"/>\n",
       "</g>\n",
       "<!-- Symbol(a)_(2, 1, 0, 1, 1) -->\n",
       "<g class=\"node\" id=\"node15\"><title>Symbol(a)_(2, 1, 0, 1, 1)</title>\n",
       "<ellipse cx=\"299\" cy=\"-18\" fill=\"none\" rx=\"27\" ry=\"18\" stroke=\"black\"/>\n",
       "<text font-family=\"Times,serif\" font-size=\"14.00\" text-anchor=\"middle\" x=\"299\" y=\"-13.8\">a</text>\n",
       "</g>\n",
       "<!-- Mul(Integer(&#45;4), Symbol(a), Symbol(c))_(2, 1, 0, 1)&#45;&gt;Symbol(a)_(2, 1, 0, 1, 1) -->\n",
       "<g class=\"edge\" id=\"edge30\"><title>Mul(Integer(-4), Symbol(a), Symbol(c))_(2, 1, 0, 1)-&gt;Symbol(a)_(2, 1, 0, 1, 1)</title>\n",
       "<path d=\"M271.35,-72.7646C275.712,-64.2831 281.147,-53.7144 286.041,-44.1974\" fill=\"none\" stroke=\"black\"/>\n",
       "<polygon fill=\"black\" points=\"289.235,-45.6409 290.696,-35.1473 283.01,-42.4395 289.235,-45.6409\" stroke=\"black\"/>\n",
       "</g>\n",
       "<!-- Symbol(c)_(2, 1, 0, 1, 2) -->\n",
       "<g class=\"node\" id=\"node16\"><title>Symbol(c)_(2, 1, 0, 1, 2)</title>\n",
       "<ellipse cx=\"371\" cy=\"-18\" fill=\"none\" rx=\"27\" ry=\"18\" stroke=\"black\"/>\n",
       "<text font-family=\"Times,serif\" font-size=\"14.00\" text-anchor=\"middle\" x=\"371\" y=\"-13.8\">c</text>\n",
       "</g>\n",
       "<!-- Mul(Integer(&#45;4), Symbol(a), Symbol(c))_(2, 1, 0, 1)&#45;&gt;Symbol(c)_(2, 1, 0, 1, 2) -->\n",
       "<g class=\"edge\" id=\"edge32\"><title>Mul(Integer(-4), Symbol(a), Symbol(c))_(2, 1, 0, 1)-&gt;Symbol(c)_(2, 1, 0, 1, 2)</title>\n",
       "<path d=\"M281.812,-76.8069C299.002,-65.6653 324.618,-49.0622 343.993,-36.5043\" fill=\"none\" stroke=\"black\"/>\n",
       "<polygon fill=\"black\" points=\"345.916,-39.4294 352.403,-31.0533 342.108,-33.5553 345.916,-39.4294\" stroke=\"black\"/>\n",
       "</g>\n",
       "</g>\n",
       "</svg>"
      ],
      "text/plain": [
       "<IPython.core.display.SVG object>"
      ]
     },
     "execution_count": 189,
     "metadata": {},
     "output_type": "execute_result"
    }
   ],
   "source": [
    "SVG('izraz.svg')"
   ]
  },
  {
   "cell_type": "code",
   "execution_count": 190,
   "metadata": {},
   "outputs": [
    {
     "data": {
      "image/png": "[encoded data removed]",
      "text/latex": [
       "$$x \\left(x + 1\\right)$$"
      ],
      "text/plain": [
       "x⋅(x + 1)"
      ]
     },
     "execution_count": 190,
     "metadata": {},
     "output_type": "execute_result"
    }
   ],
   "source": [
    "(sp.gamma(x + 2) / sp.gamma(x)).simplify()"
   ]
  },
  {
   "cell_type": "code",
   "execution_count": 53,
   "metadata": {},
   "outputs": [
    {
     "data": {
      "image/png": "[encoded data removed]",
      "text/latex": [
       "$$\\left ( x^{2} + 2 x + 1, \\quad \\left(x + 1\\right)^{2}\\right )$$"
      ],
      "text/plain": [
       "⎛ 2                   2⎞\n",
       "⎝x  + 2⋅x + 1, (x + 1) ⎠"
      ]
     },
     "execution_count": 53,
     "metadata": {},
     "output_type": "execute_result"
    }
   ],
   "source": [
    "(x ** 2 + 2 * x + 1).simplify(), (x ** 2 + 2 * x + 1).factor()"
   ]
  },
  {
   "cell_type": "code",
   "execution_count": 54,
   "metadata": {},
   "outputs": [
    {
     "data": {
      "image/png": "[encoded data removed]",
      "text/latex": [
       "$$- 3 x + 1$$"
      ],
      "text/plain": [
       "-3⋅x + 1"
      ]
     },
     "execution_count": 54,
     "metadata": {},
     "output_type": "execute_result"
    }
   ],
   "source": [
    "((x + 1) * (x - 2) - (x + 3) * (x - 1)).expand()"
   ]
  },
  {
   "cell_type": "code",
   "execution_count": 191,
   "metadata": {},
   "outputs": [
    {
     "data": {
      "image/png": "[encoded data removed]",
      "text/latex": [
       "$$z \\left(x + 2 y\\right)^{2}$$"
      ],
      "text/plain": [
       "           2\n",
       "z⋅(x + 2⋅y) "
      ]
     },
     "execution_count": 191,
     "metadata": {},
     "output_type": "execute_result"
    }
   ],
   "source": [
    "from sympy.abc import z\n",
    "(x**2*z + 4*x*y*z + 4*y**2*z).factor()"
   ]
  },
  {
   "cell_type": "code",
   "execution_count": 56,
   "metadata": {},
   "outputs": [
    {
     "data": {
      "image/png": "[encoded data removed]",
      "text/latex": [
       "$$\\left(- \\sin{\\left (x \\right )} + \\cos{\\left (x \\right )}\\right)^{2}$$"
      ],
      "text/plain": [
       "                  2\n",
       "(-sin(x) + cos(x)) "
      ]
     },
     "execution_count": 56,
     "metadata": {},
     "output_type": "execute_result"
    }
   ],
   "source": [
    "(sp.cos(x)**2 + sp.sin(x)**2 - 2*sp.sin(x)*sp.cos(x)).factor()"
   ]
  },
  {
   "cell_type": "code",
   "execution_count": 192,
   "metadata": {},
   "outputs": [],
   "source": [
    "izraz = x*y + x - 3 + 2*x**2 - z*x**2 + x**3"
   ]
  },
  {
   "cell_type": "code",
   "execution_count": 193,
   "metadata": {},
   "outputs": [
    {
     "data": {
      "image/png": "[encoded data removed]",
      "text/latex": [
       "$$- z + 2$$"
      ],
      "text/plain": [
       "-z + 2"
      ]
     },
     "execution_count": 193,
     "metadata": {},
     "output_type": "execute_result"
    }
   ],
   "source": [
    "izraz.coeff(x, 2)"
   ]
  },
  {
   "cell_type": "code",
   "execution_count": 194,
   "metadata": {},
   "outputs": [
    {
     "data": {
      "image/png": "[encoded data removed]",
      "text/latex": [
       "$$\\frac{\\frac{3 x}{2} - 2}{x - 4} + \\frac{1}{x}$$"
      ],
      "text/plain": [
       "3⋅x        \n",
       "─── - 2    \n",
       " 2        1\n",
       "─────── + ─\n",
       " x - 4    x"
      ]
     },
     "execution_count": 194,
     "metadata": {},
     "output_type": "execute_result"
    }
   ],
   "source": [
    "izraz = 1 / x + (3*x/2 - 2) / (x - 4)\n",
    "izraz"
   ]
  },
  {
   "cell_type": "code",
   "execution_count": 195,
   "metadata": {},
   "outputs": [
    {
     "data": {
      "image/png": "[encoded data removed]",
      "text/latex": [
       "$$\\frac{x \\left(3 x - 4\\right) + 2 x - 8}{2 x \\left(x - 4\\right)}$$"
      ],
      "text/plain": [
       "x⋅(3⋅x - 4) + 2⋅x - 8\n",
       "─────────────────────\n",
       "     2⋅x⋅(x - 4)     "
      ]
     },
     "execution_count": 195,
     "metadata": {},
     "output_type": "execute_result"
    }
   ],
   "source": [
    "izraz.together()"
   ]
  },
  {
   "cell_type": "code",
   "execution_count": 196,
   "metadata": {},
   "outputs": [
    {
     "data": {
      "image/png": "[encoded data removed]",
      "text/latex": [
       "$$\\frac{3 x}{2 \\left(x - 4\\right)} - \\frac{2}{x - 4} + \\frac{1}{x}$$"
      ],
      "text/plain": [
       "   3⋅x        2     1\n",
       "───────── - ───── + ─\n",
       "2⋅(x - 4)   x - 4   x"
      ]
     },
     "execution_count": 196,
     "metadata": {},
     "output_type": "execute_result"
    }
   ],
   "source": [
    "izraz.expand()"
   ]
  },
  {
   "cell_type": "code",
   "execution_count": 197,
   "metadata": {},
   "outputs": [
    {
     "data": {
      "image/png": "[encoded data removed]",
      "text/latex": [
       "$$\\frac{3 x^{2} - 2 x - 8}{2 x^{2} - 8 x}$$"
      ],
      "text/plain": [
       "   2          \n",
       "3⋅x  - 2⋅x - 8\n",
       "──────────────\n",
       "     2        \n",
       "  2⋅x  - 8⋅x  "
      ]
     },
     "execution_count": 197,
     "metadata": {},
     "output_type": "execute_result"
    }
   ],
   "source": [
    "izraz.cancel()"
   ]
  },
  {
   "cell_type": "code",
   "execution_count": 198,
   "metadata": {},
   "outputs": [
    {
     "data": {
      "image/png": "[encoded data removed]",
      "text/latex": [
       "$$\\frac{3}{2} + \\frac{4}{x - 4} + \\frac{1}{x}$$"
      ],
      "text/plain": [
       "3     4     1\n",
       "─ + ───── + ─\n",
       "2   x - 4   x"
      ]
     },
     "execution_count": 198,
     "metadata": {},
     "output_type": "execute_result"
    }
   ],
   "source": [
    "izraz.apart()"
   ]
  },
  {
   "cell_type": "code",
   "execution_count": 199,
   "metadata": {},
   "outputs": [
    {
     "data": {
      "image/png": "[encoded data removed]",
      "text/latex": [
       "$$\\frac{3 x^{2} - 2 x - 8}{2 x \\left(x - 4\\right)}$$"
      ],
      "text/plain": [
       "   2          \n",
       "3⋅x  - 2⋅x - 8\n",
       "──────────────\n",
       " 2⋅x⋅(x - 4)  "
      ]
     },
     "execution_count": 199,
     "metadata": {},
     "output_type": "execute_result"
    }
   ],
   "source": [
    "izraz.together().expand().together()"
   ]
  },
  {
   "cell_type": "code",
   "execution_count": 200,
   "metadata": {},
   "outputs": [
    {
     "data": {
      "image/png": "[encoded data removed]",
      "text/latex": [
       "$$\\frac{\\frac{3 x^{2}}{2} - x - 4}{x \\left(x - 4\\right)}$$"
      ],
      "text/plain": [
       "   2        \n",
       "3⋅x         \n",
       "──── - x - 4\n",
       " 2          \n",
       "────────────\n",
       " x⋅(x - 4)  "
      ]
     },
     "execution_count": 200,
     "metadata": {},
     "output_type": "execute_result"
    }
   ],
   "source": [
    "izraz.simplify()"
   ]
  },
  {
   "cell_type": "code",
   "execution_count": 64,
   "metadata": {},
   "outputs": [],
   "source": [
    "izraz = (x*y**2 - 2*x*y*z + x*z**2 + y**2 - 2*y*z + z**2)/(x**2 - 1)"
   ]
  },
  {
   "cell_type": "code",
   "execution_count": 65,
   "metadata": {},
   "outputs": [
    {
     "data": {
      "image/png": "[encoded data removed]",
      "text/latex": [
       "$$\\left ( \\frac{1}{x^{2} - 1} \\left(x y^{2} - 2 x y z + x z^{2} + y^{2} - 2 y z + z^{2}\\right), \\quad \\frac{1}{x - 1} \\left(y^{2} - 2 y z + z^{2}\\right), \\quad \\frac{\\left(y - z\\right)^{2}}{x - 1}\\right )$$"
      ],
      "text/plain": [
       "⎛   2                2    2            2   2            2         2⎞\n",
       "⎜x⋅y  - 2⋅x⋅y⋅z + x⋅z  + y  - 2⋅y⋅z + z   y  - 2⋅y⋅z + z   (y - z) ⎟\n",
       "⎜───────────────────────────────────────, ───────────────, ────────⎟\n",
       "⎜                  2                           x - 1        x - 1  ⎟\n",
       "⎝                 x  - 1                                           ⎠"
      ]
     },
     "execution_count": 65,
     "metadata": {},
     "output_type": "execute_result"
    }
   ],
   "source": [
    "izraz, izraz.cancel(), izraz.factor()"
   ]
  },
  {
   "cell_type": "code",
   "execution_count": 66,
   "metadata": {},
   "outputs": [
    {
     "data": {
      "image/png": "[encoded data removed]",
      "text/latex": [
       "$$\\frac{2 x - 1}{x^{2} + x + 1} - \\frac{1}{x + 4} + \\frac{3}{x}$$"
      ],
      "text/plain": [
       " 2⋅x - 1       1     3\n",
       "────────── - ───── + ─\n",
       " 2           x + 4   x\n",
       "x  + x + 1            "
      ]
     },
     "execution_count": 66,
     "metadata": {},
     "output_type": "execute_result"
    }
   ],
   "source": [
    "((4*x**3 + 21*x**2 + 10*x + 12)/(x**4 + 5*x**3 + 5*x**2 + 4*x)).apart()"
   ]
  },
  {
   "cell_type": "code",
   "execution_count": 67,
   "metadata": {},
   "outputs": [
    {
     "data": {
      "image/png": "[encoded data removed]",
      "text/latex": [
       "$$9.0 \\cdot 10^{-125}$$"
      ],
      "text/plain": [
       "0.e-124"
      ]
     },
     "execution_count": 67,
     "metadata": {},
     "output_type": "execute_result"
    }
   ],
   "source": [
    "(sp.acos(sp.cos(7)) - (7 - 2*sp.pi)).n()"
   ]
  },
  {
   "cell_type": "code",
   "execution_count": 201,
   "metadata": {},
   "outputs": [
    {
     "data": {
      "image/png": "[encoded data removed]",
      "text/latex": [
       "$$\\operatorname{acos}{\\left (\\cos{\\left (7 \\right )} \\right )}$$"
      ],
      "text/plain": [
       "acos(cos(7))"
      ]
     },
     "execution_count": 201,
     "metadata": {},
     "output_type": "execute_result"
    }
   ],
   "source": [
    "sp.trigsimp(sp.acos(sp.cos(7)))"
   ]
  },
  {
   "cell_type": "code",
   "execution_count": 68,
   "metadata": {},
   "outputs": [
    {
     "data": {
      "image/png": "[encoded data removed]",
      "text/latex": [
       "$$7$$"
      ],
      "text/plain": [
       "7"
      ]
     },
     "execution_count": 68,
     "metadata": {},
     "output_type": "execute_result"
    }
   ],
   "source": [
    "sp.acos(sp.cos(7)).simplify()  # Krivo!"
   ]
  },
  {
   "cell_type": "code",
   "execution_count": 69,
   "metadata": {},
   "outputs": [
    {
     "data": {
      "image/png": "[encoded data removed]",
      "text/latex": [
       "$$- \\cosh{\\left (2 x \\right )}$$"
      ],
      "text/plain": [
       "-cosh(2⋅x)"
      ]
     },
     "execution_count": 69,
     "metadata": {},
     "output_type": "execute_result"
    }
   ],
   "source": [
    "sp.trigsimp(sp.sinh(x)**4 - sp.cosh(x)**4)"
   ]
  },
  {
   "cell_type": "code",
   "execution_count": 70,
   "metadata": {},
   "outputs": [
    {
     "data": {
      "image/png": "[encoded data removed]",
      "text/latex": [
       "$$\\sin{\\left (1 \\right )} \\sin{\\left (x \\right )} + \\cos{\\left (1 \\right )} \\cos{\\left (x \\right )}$$"
      ],
      "text/plain": [
       "sin(1)⋅sin(x) + cos(1)⋅cos(x)"
      ]
     },
     "execution_count": 70,
     "metadata": {},
     "output_type": "execute_result"
    }
   ],
   "source": [
    "sp.expand_trig(sp.cos(1 - x))"
   ]
  },
  {
   "cell_type": "code",
   "execution_count": 71,
   "metadata": {},
   "outputs": [
    {
     "data": {
      "image/png": "[encoded data removed]",
      "text/latex": [
       "$$\\cos{\\left (x - 1 \\right )}$$"
      ],
      "text/plain": [
       "cos(x - 1)"
      ]
     },
     "execution_count": 71,
     "metadata": {},
     "output_type": "execute_result"
    }
   ],
   "source": [
    "sp.trigsimp(_)"
   ]
  },
  {
   "cell_type": "code",
   "execution_count": 72,
   "metadata": {},
   "outputs": [],
   "source": [
    "from sympy.abc import a, b, c, x, y, z"
   ]
  },
  {
   "cell_type": "code",
   "execution_count": 73,
   "metadata": {},
   "outputs": [
    {
     "data": {
      "image/png": "[encoded data removed]",
      "text/latex": [
       "$$x^{a + b}$$"
      ],
      "text/plain": [
       " a + b\n",
       "x     "
      ]
     },
     "execution_count": 73,
     "metadata": {},
     "output_type": "execute_result"
    }
   ],
   "source": [
    "sp.powsimp(x**a * x**b)"
   ]
  },
  {
   "cell_type": "code",
   "execution_count": 74,
   "metadata": {},
   "outputs": [
    {
     "data": {
      "image/png": "[encoded data removed]",
      "text/latex": [
       "$$6^{a}$$"
      ],
      "text/plain": [
       " a\n",
       "6 "
      ]
     },
     "execution_count": 74,
     "metadata": {},
     "output_type": "execute_result"
    }
   ],
   "source": [
    "sp.powsimp(2**a * 3**a)"
   ]
  },
  {
   "cell_type": "code",
   "execution_count": 75,
   "metadata": {},
   "outputs": [],
   "source": [
    "ar, br, cr, xr, yr, zr = sp.symbols('a b c x y z', real=True)"
   ]
  },
  {
   "cell_type": "code",
   "execution_count": 76,
   "metadata": {},
   "outputs": [],
   "source": [
    "ap, bp, cp, xp, yp, zp = sp.symbols('a b c x y z', nonnegative=True)"
   ]
  },
  {
   "cell_type": "code",
   "execution_count": 77,
   "metadata": {},
   "outputs": [
    {
     "data": {
      "image/png": "[encoded data removed]",
      "text/latex": [
       "$$\\left(x y\\right)^{a}$$"
      ],
      "text/plain": [
       "     a\n",
       "(x⋅y) "
      ]
     },
     "execution_count": 77,
     "metadata": {},
     "output_type": "execute_result"
    }
   ],
   "source": [
    "sp.powsimp(xp ** ar * yp ** ar)"
   ]
  },
  {
   "cell_type": "code",
   "execution_count": 78,
   "metadata": {},
   "outputs": [
    {
     "data": {
      "image/png": "[encoded data removed]",
      "text/latex": [
       "$$\\left(x y\\right)^{a}$$"
      ],
      "text/plain": [
       "     a\n",
       "(x⋅y) "
      ]
     },
     "execution_count": 78,
     "metadata": {},
     "output_type": "execute_result"
    }
   ],
   "source": [
    "sp.powsimp(x ** a * y ** a, force=True)"
   ]
  },
  {
   "cell_type": "code",
   "execution_count": 79,
   "metadata": {},
   "outputs": [
    {
     "data": {
      "image/png": "[encoded data removed]",
      "text/latex": [
       "$$x^{2} y^{2}$$"
      ],
      "text/plain": [
       " 2  2\n",
       "x ⋅y "
      ]
     },
     "execution_count": 79,
     "metadata": {},
     "output_type": "execute_result"
    }
   ],
   "source": [
    "sp.powsimp(x ** 2 * y ** 2)"
   ]
  },
  {
   "cell_type": "code",
   "execution_count": 203,
   "metadata": {},
   "outputs": [
    {
     "data": {
      "image/png": "[encoded data removed]",
      "text/latex": [
       "$$\\left ( 2 x + 2 y, \\quad x^{2} y^{2}\\right )$$"
      ],
      "text/plain": [
       "⎛            2  2⎞\n",
       "⎝2⋅x + 2⋅y, x ⋅y ⎠"
      ]
     },
     "execution_count": 203,
     "metadata": {},
     "output_type": "execute_result"
    }
   ],
   "source": [
    "2*(x+y), (x*y)**2"
   ]
  },
  {
   "cell_type": "code",
   "execution_count": 80,
   "metadata": {},
   "outputs": [
    {
     "data": {
      "image/png": "[encoded data removed]",
      "text/latex": [
       "$$x^{a} x^{b}$$"
      ],
      "text/plain": [
       " a  b\n",
       "x ⋅x "
      ]
     },
     "execution_count": 80,
     "metadata": {},
     "output_type": "execute_result"
    }
   ],
   "source": [
    "sp.expand_power_exp(x ** (a + b))"
   ]
  },
  {
   "cell_type": "code",
   "execution_count": 81,
   "metadata": {},
   "outputs": [
    {
     "data": {
      "image/png": "[encoded data removed]",
      "text/latex": [
       "$$x^{a} y^{a}$$"
      ],
      "text/plain": [
       " a  a\n",
       "x ⋅y "
      ]
     },
     "execution_count": 81,
     "metadata": {},
     "output_type": "execute_result"
    }
   ],
   "source": [
    "sp.expand_power_base((xp * yp) ** ar)"
   ]
  },
  {
   "cell_type": "code",
   "execution_count": 82,
   "metadata": {},
   "outputs": [
    {
     "data": {
      "image/png": "[encoded data removed]",
      "text/latex": [
       "$$x^{a b}$$"
      ],
      "text/plain": [
       " a⋅b\n",
       "x   "
      ]
     },
     "execution_count": 82,
     "metadata": {},
     "output_type": "execute_result"
    }
   ],
   "source": [
    "sp.powdenest((xp**ar)**br)"
   ]
  },
  {
   "cell_type": "code",
   "execution_count": 83,
   "metadata": {},
   "outputs": [],
   "source": [
    "bi = sp.Symbol('b', integer=True)"
   ]
  },
  {
   "cell_type": "code",
   "execution_count": 84,
   "metadata": {},
   "outputs": [
    {
     "data": {
      "image/png": "[encoded data removed]",
      "text/latex": [
       "$$x^{a b}$$"
      ],
      "text/plain": [
       " a⋅b\n",
       "x   "
      ]
     },
     "execution_count": 84,
     "metadata": {},
     "output_type": "execute_result"
    }
   ],
   "source": [
    "sp.powdenest((x**a)**bi)"
   ]
  },
  {
   "cell_type": "code",
   "execution_count": 85,
   "metadata": {},
   "outputs": [
    {
     "data": {
      "image/png": "[encoded data removed]",
      "text/latex": [
       "$$\\log{\\left (x \\right )} + \\log{\\left (y \\right )}$$"
      ],
      "text/plain": [
       "log(x) + log(y)"
      ]
     },
     "execution_count": 85,
     "metadata": {},
     "output_type": "execute_result"
    }
   ],
   "source": [
    "from sympy.abc import x, y\n",
    "xp, yp = sp.symbols('x y', positive=True)\n",
    "sp.expand_log(sp.log(xp * yp))"
   ]
  },
  {
   "cell_type": "code",
   "execution_count": 86,
   "metadata": {},
   "outputs": [
    {
     "data": {
      "image/png": "[encoded data removed]",
      "text/latex": [
       "$$x$$"
      ],
      "text/plain": [
       "x"
      ]
     },
     "execution_count": 86,
     "metadata": {},
     "output_type": "execute_result"
    }
   ],
   "source": [
    "sp.exp(sp.log(x))"
   ]
  },
  {
   "cell_type": "code",
   "execution_count": 87,
   "metadata": {},
   "outputs": [
    {
     "data": {
      "image/png": "[encoded data removed]",
      "text/latex": [
       "$$\\log{\\left (e^{x} \\right )}$$"
      ],
      "text/plain": [
       "   ⎛ x⎞\n",
       "log⎝ℯ ⎠"
      ]
     },
     "execution_count": 87,
     "metadata": {},
     "output_type": "execute_result"
    }
   ],
   "source": [
    "sp.log(sp.exp(x))"
   ]
  },
  {
   "cell_type": "code",
   "execution_count": 88,
   "metadata": {},
   "outputs": [
    {
     "data": {
      "image/png": "[encoded data removed]",
      "text/latex": [
       "$$a \\log{\\left (x \\right )}$$"
      ],
      "text/plain": [
       "a⋅log(x)"
      ]
     },
     "execution_count": 88,
     "metadata": {},
     "output_type": "execute_result"
    }
   ],
   "source": [
    "sp.expand_log(sp.log(xp ** ar))"
   ]
  },
  {
   "cell_type": "code",
   "execution_count": 89,
   "metadata": {},
   "outputs": [
    {
     "data": {
      "image/png": "[encoded data removed]",
      "text/latex": [
       "$$\\log{\\left (x^{2} \\right )}$$"
      ],
      "text/plain": [
       "   ⎛ 2⎞\n",
       "log⎝x ⎠"
      ]
     },
     "execution_count": 89,
     "metadata": {},
     "output_type": "execute_result"
    }
   ],
   "source": [
    "sp.logcombine(2 * sp.log(xp))"
   ]
  },
  {
   "cell_type": "code",
   "execution_count": 204,
   "metadata": {},
   "outputs": [
    {
     "data": {
      "image/png": "[encoded data removed]",
      "text/latex": [
       "$$x! = \\Gamma{\\left(x + 1 \\right)}$$"
      ],
      "text/plain": [
       "x! = Γ(x + 1)"
      ]
     },
     "execution_count": 204,
     "metadata": {},
     "output_type": "execute_result"
    }
   ],
   "source": [
    "sp.Eq(sp.factorial(x), sp.gamma(x + 1))"
   ]
  },
  {
   "cell_type": "code",
   "execution_count": 205,
   "metadata": {},
   "outputs": [
    {
     "data": {
      "image/png": "[encoded data removed]",
      "text/latex": [
       "$$\\mathrm{True}$$"
      ],
      "text/plain": [
       "True"
      ]
     },
     "execution_count": 205,
     "metadata": {},
     "output_type": "execute_result"
    }
   ],
   "source": [
    "_.simplify()"
   ]
  },
  {
   "cell_type": "code",
   "execution_count": 206,
   "metadata": {},
   "outputs": [
    {
     "data": {
      "image/png": "[encoded data removed]",
      "text/latex": [
       "$$\\begin{cases} z! & \\text{for}\\: - \\Re{\\left(z\\right)} < 1 \\\\\\int_{0}^{\\infty} t^{z} e^{- t}\\, dt & \\text{otherwise} \\end{cases}$$"
      ],
      "text/plain": [
       "⎧    z!       for -re(z) < 1\n",
       "⎪                           \n",
       "⎪∞                          \n",
       "⎪⌠                          \n",
       "⎨⎮  z  -t                   \n",
       "⎪⎮ t ⋅ℯ   dt    otherwise   \n",
       "⎪⌡                          \n",
       "⎪0                          \n",
       "⎩                           "
      ]
     },
     "execution_count": 206,
     "metadata": {},
     "output_type": "execute_result"
    }
   ],
   "source": [
    "sp.Integral(t**z * sp.E**-t, (t, 0, sp.oo)).doit().rewrite(sp.factorial)"
   ]
  },
  {
   "cell_type": "code",
   "execution_count": 93,
   "metadata": {},
   "outputs": [
    {
     "data": {
      "image/png": "[encoded data removed]",
      "text/latex": [
       "$${\\binom{n}{k}}$$"
      ],
      "text/plain": [
       "⎛n⎞\n",
       "⎜ ⎟\n",
       "⎝k⎠"
      ]
     },
     "execution_count": 93,
     "metadata": {},
     "output_type": "execute_result"
    }
   ],
   "source": [
    "from sympy.abc import n, k\n",
    "sp.binomial(n, k)"
   ]
  },
  {
   "cell_type": "code",
   "execution_count": 207,
   "metadata": {},
   "outputs": [
    {
     "data": {
      "image/png": "[encoded data removed]",
      "text/latex": [
       "$$\\frac{n!}{k! \\left(- k + n\\right)!}$$"
      ],
      "text/plain": [
       "     n!     \n",
       "────────────\n",
       "k!⋅(-k + n)!"
      ]
     },
     "execution_count": 207,
     "metadata": {},
     "output_type": "execute_result"
    }
   ],
   "source": [
    "sp.binomial(n, k).rewrite(sp.factorial)"
   ]
  },
  {
   "cell_type": "code",
   "execution_count": 96,
   "metadata": {},
   "outputs": [
    {
     "data": {
      "image/png": "[encoded data removed]",
      "text/latex": [
       "$$\\frac{n}{2} \\left(n - 1\\right)$$"
      ],
      "text/plain": [
       "n⋅(n - 1)\n",
       "─────────\n",
       "    2    "
      ]
     },
     "execution_count": 96,
     "metadata": {},
     "output_type": "execute_result"
    }
   ],
   "source": [
    "sp.combsimp(sp.binomial(n, n-2))"
   ]
  },
  {
   "cell_type": "code",
   "execution_count": 97,
   "metadata": {},
   "outputs": [
    {
     "data": {
      "image/png": "[encoded data removed]",
      "text/latex": [
       "$$\\frac{\\pi x}{\\sin{\\left (\\pi x \\right )}}$$"
      ],
      "text/plain": [
       "  π⋅x   \n",
       "────────\n",
       "sin(π⋅x)"
      ]
     },
     "execution_count": 97,
     "metadata": {},
     "output_type": "execute_result"
    }
   ],
   "source": [
    "sp.combsimp(sp.factorial(x) * sp.factorial(-x))"
   ]
  },
  {
   "cell_type": "code",
   "execution_count": 98,
   "metadata": {
    "scrolled": true
   },
   "outputs": [
    {
     "data": {
      "image/png": "[encoded data removed]",
      "text/latex": [
       "$$- \\frac{1}{x - \\frac{\\pi}{2}} - \\frac{\\pi}{6} + \\frac{1}{45} \\left(x - \\frac{\\pi}{2}\\right)^{3} + \\frac{2}{945} \\left(x - \\frac{\\pi}{2}\\right)^{5} + \\frac{1}{4725} \\left(x - \\frac{\\pi}{2}\\right)^{7} + \\frac{x}{3} + \\mathcal{O}\\left(\\left(x - \\frac{\\pi}{2}\\right)^{9}; x\\rightarrow \\frac{\\pi}{2}\\right)$$"
      ],
      "text/plain": [
       "                     3            5          7                         \n",
       "              ⎛    π⎞      ⎛    π⎞    ⎛    π⎞                          \n",
       "              ⎜x - ─⎟    2⋅⎜x - ─⎟    ⎜x - ─⎟         ⎛       9       ⎞\n",
       "    1     π   ⎝    2⎠      ⎝    2⎠    ⎝    2⎠    x    ⎜⎛    π⎞       π⎟\n",
       "- ───── - ─ + ──────── + ────────── + ──────── + ─ + O⎜⎜x - ─⎟ ; x → ─⎟\n",
       "      π   6      45         945         4725     3    ⎝⎝    2⎠       2⎠\n",
       "  x - ─                                                                \n",
       "      2                                                                "
      ]
     },
     "execution_count": 98,
     "metadata": {},
     "output_type": "execute_result"
    }
   ],
   "source": [
    "sp.series(sp.tan(x), x, sp.pi / 2, 9)"
   ]
  },
  {
   "cell_type": "code",
   "execution_count": 99,
   "metadata": {},
   "outputs": [
    {
     "data": {
      "image/png": "[encoded data removed]",
      "text/latex": [
       "$$\\left\\{2 n \\pi + \\frac{\\pi}{2}\\; |\\; n \\in \\mathbb{Z}\\right\\} \\cup \\left\\{2 n \\pi + \\frac{3 \\pi}{2}\\; |\\; n \\in \\mathbb{Z}\\right\\}$$"
      ],
      "text/plain": [
       "⎧        π        ⎫   ⎧        3⋅π        ⎫\n",
       "⎨2⋅n⋅π + ─ | n ∊ ℤ⎬ ∪ ⎨2⋅n⋅π + ─── | n ∊ ℤ⎬\n",
       "⎩        2        ⎭   ⎩         2         ⎭"
      ]
     },
     "execution_count": 99,
     "metadata": {},
     "output_type": "execute_result"
    }
   ],
   "source": [
    "sp.solveset(sp.cos(x), x)"
   ]
  },
  {
   "cell_type": "code",
   "execution_count": 100,
   "metadata": {},
   "outputs": [
    {
     "data": {
      "image/png": "[encoded data removed]",
      "text/latex": [
       "$$\\left\\{\\frac{1}{2} - \\frac{\\sqrt{3} i}{2}, \\frac{1}{2} + \\frac{\\sqrt{3} i}{2}\\right\\}$$"
      ],
      "text/plain": [
       "⎧1   √3⋅ⅈ  1   √3⋅ⅈ⎫\n",
       "⎨─ - ────, ─ + ────⎬\n",
       "⎩2    2    2    2  ⎭"
      ]
     },
     "execution_count": 100,
     "metadata": {},
     "output_type": "execute_result"
    }
   ],
   "source": [
    "sp.solveset(x**2 - x + 1, x)"
   ]
  },
  {
   "cell_type": "code",
   "execution_count": 101,
   "metadata": {},
   "outputs": [
    {
     "data": {
      "image/png": "[encoded data removed]",
      "text/latex": [
       "$$\\emptyset$$"
      ],
      "text/plain": [
       "∅"
      ]
     },
     "execution_count": 101,
     "metadata": {},
     "output_type": "execute_result"
    }
   ],
   "source": [
    "sp.solveset(sp.Eq(x - y, x + y + 2), x)"
   ]
  },
  {
   "cell_type": "code",
   "execution_count": 210,
   "metadata": {},
   "outputs": [
    {
     "data": {
      "image/png": "[encoded data removed]",
      "text/latex": [
       "$$\\left\\{0\\right\\} \\cup \\left[\\pi, 2 \\pi\\right]$$"
      ],
      "text/plain": [
       "{0} ∪ [π, 2⋅π]"
      ]
     },
     "execution_count": 210,
     "metadata": {},
     "output_type": "execute_result"
    }
   ],
   "source": [
    "sp.solveset(sp.sin(x) <= 0, x, sp.S.Reals)  # Krivo!"
   ]
  },
  {
   "cell_type": "code",
   "execution_count": 211,
   "metadata": {},
   "outputs": [
    {
     "data": {
      "text/plain": [
       "'Union(FiniteSet(Integer(0)), Interval(pi, Mul(Integer(2), pi), S.false, S.false))'"
      ]
     },
     "execution_count": 211,
     "metadata": {},
     "output_type": "execute_result"
    }
   ],
   "source": [
    "sp.srepr(_)"
   ]
  },
  {
   "cell_type": "code",
   "execution_count": 213,
   "metadata": {},
   "outputs": [],
   "source": [
    "M = sp.Matrix([[2, 3], [4, 5], [7, 1]])"
   ]
  },
  {
   "cell_type": "code",
   "execution_count": 217,
   "metadata": {},
   "outputs": [
    {
     "data": {
      "image/png": "[encoded data removed]",
      "text/latex": [
       "$$\\left[\\begin{matrix}2\\\\4\\\\7\\end{matrix}\\right]$$"
      ],
      "text/plain": [
       "⎡2⎤\n",
       "⎢ ⎥\n",
       "⎢4⎥\n",
       "⎢ ⎥\n",
       "⎣7⎦"
      ]
     },
     "execution_count": 217,
     "metadata": {},
     "output_type": "execute_result"
    }
   ],
   "source": [
    "M.col(0)"
   ]
  },
  {
   "cell_type": "code",
   "execution_count": 218,
   "metadata": {},
   "outputs": [
    {
     "data": {
      "image/png": "[encoded data removed]",
      "text/latex": [
       "$$\\left[\\begin{matrix}1\\\\9\\end{matrix}\\right]$$"
      ],
      "text/plain": [
       "⎡1⎤\n",
       "⎢ ⎥\n",
       "⎣9⎦"
      ]
     },
     "execution_count": 218,
     "metadata": {},
     "output_type": "execute_result"
    }
   ],
   "source": [
    "sp.Matrix([1, 9])"
   ]
  },
  {
   "cell_type": "code",
   "execution_count": 219,
   "metadata": {},
   "outputs": [
    {
     "data": {
      "image/png": "[encoded data removed]",
      "text/latex": [
       "$$\\left[\\begin{matrix}29\\\\49\\\\16\\end{matrix}\\right]$$"
      ],
      "text/plain": [
       "⎡29⎤\n",
       "⎢  ⎥\n",
       "⎢49⎥\n",
       "⎢  ⎥\n",
       "⎣16⎦"
      ]
     },
     "execution_count": 219,
     "metadata": {},
     "output_type": "execute_result"
    }
   ],
   "source": [
    "M * _"
   ]
  },
  {
   "cell_type": "code",
   "execution_count": 224,
   "metadata": {},
   "outputs": [
    {
     "data": {
      "image/png": "[encoded data removed]",
      "text/latex": [
       "$$\\left[\\begin{matrix}- \\frac{33 \\left(- \\sqrt{1378} + 52\\right)^{n}}{\\left(17 + \\sqrt{1378}\\right) \\left(\\frac{33}{- \\sqrt{1378} + 17} - \\frac{33}{17 + \\sqrt{1378}}\\right)} + \\frac{33 \\left(\\sqrt{1378} + 52\\right)^{n}}{\\left(- \\sqrt{1378} + 17\\right) \\left(\\frac{33}{- \\sqrt{1378} + 17} - \\frac{33}{17 + \\sqrt{1378}}\\right)} & - \\frac{1089 \\left(- \\sqrt{1378} + 52\\right)^{n}}{\\left(17 + \\sqrt{1378}\\right) \\left(- \\sqrt{1378} + 17\\right) \\left(\\frac{33}{- \\sqrt{1378} + 17} - \\frac{33}{17 + \\sqrt{1378}}\\right)} + \\frac{1089 \\left(\\sqrt{1378} + 52\\right)^{n}}{\\left(17 + \\sqrt{1378}\\right) \\left(- \\sqrt{1378} + 17\\right) \\left(\\frac{33}{- \\sqrt{1378} + 17} - \\frac{33}{17 + \\sqrt{1378}}\\right)}\\\\\\frac{\\left(- \\sqrt{1378} + 52\\right)^{n}}{\\frac{33}{- \\sqrt{1378} + 17} - \\frac{33}{17 + \\sqrt{1378}}} - \\frac{\\left(\\sqrt{1378} + 52\\right)^{n}}{\\frac{33}{- \\sqrt{1378} + 17} - \\frac{33}{17 + \\sqrt{1378}}} & \\frac{33 \\left(- \\sqrt{1378} + 52\\right)^{n}}{\\left(- \\sqrt{1378} + 17\\right) \\left(\\frac{33}{- \\sqrt{1378} + 17} - \\frac{33}{17 + \\sqrt{1378}}\\right)} - \\frac{33 \\left(\\sqrt{1378} + 52\\right)^{n}}{\\left(17 + \\sqrt{1378}\\right) \\left(\\frac{33}{- \\sqrt{1378} + 17} - \\frac{33}{17 + \\sqrt{1378}}\\right)}\\end{matrix}\\right]$$"
      ],
      "text/plain": [
       "⎡                             n                                         n     \n",
       "⎢             33⋅(-√1378 + 52)                           33⋅(√1378 + 52)      \n",
       "⎢- ─────────────────────────────────────── + ─────────────────────────────────\n",
       "⎢               ⎛     33           33    ⎞                 ⎛     33           \n",
       "⎢  (17 + √1378)⋅⎜─────────── - ──────────⎟   (-√1378 + 17)⋅⎜─────────── - ────\n",
       "⎢               ⎝-√1378 + 17   17 + √1378⎠                 ⎝-√1378 + 17   17 +\n",
       "⎢                                                                             \n",
       "⎢                                  n                         n                \n",
       "⎢                     (-√1378 + 52)              (√1378 + 52)                 \n",
       "⎢                ──────────────────────── - ────────────────────────          \n",
       "⎢                     33           33            33           33              \n",
       "⎢                ─────────── - ──────────   ─────────── - ──────────          \n",
       "⎣                -√1378 + 17   17 + √1378   -√1378 + 17   17 + √1378          \n",
       "\n",
       "                                              n                               \n",
       "                            1089⋅(-√1378 + 52)                                \n",
       "───────  - ───────────────────────────────────────────────────── + ───────────\n",
       "33    ⎞                               ⎛     33           33    ⎞              \n",
       "──────⎟    (17 + √1378)⋅(-√1378 + 17)⋅⎜─────────── - ──────────⎟   (17 + √1378\n",
       " √1378⎠                               ⎝-√1378 + 17   17 + √1378⎠              \n",
       "                                                                              \n",
       "                                                  n                           \n",
       "                                  33⋅(-√1378 + 52)                            \n",
       "                       ──────────────────────────────────────── - ────────────\n",
       "                                     ⎛     33           33    ⎞               \n",
       "                       (-√1378 + 17)⋅⎜─────────── - ──────────⎟   (17 + √1378)\n",
       "                                     ⎝-√1378 + 17   17 + √1378⎠               \n",
       "\n",
       "                        n                 ⎤\n",
       "       1089⋅(√1378 + 52)                  ⎥\n",
       "──────────────────────────────────────────⎥\n",
       "                ⎛     33           33    ⎞⎥\n",
       ")⋅(-√1378 + 17)⋅⎜─────────── - ──────────⎟⎥\n",
       "                ⎝-√1378 + 17   17 + √1378⎠⎥\n",
       "                                          ⎥\n",
       "               n                          ⎥\n",
       "33⋅(√1378 + 52)                           ⎥\n",
       "───────────────────────────               ⎥\n",
       " ⎛     33           33    ⎞               ⎥\n",
       "⋅⎜─────────── - ──────────⎟               ⎥\n",
       " ⎝-√1378 + 17   17 + √1378⎠               ⎦"
      ]
     },
     "execution_count": 224,
     "metadata": {},
     "output_type": "execute_result"
    }
   ],
   "source": [
    "(M.T * M) ** n"
   ]
  },
  {
   "cell_type": "code",
   "execution_count": 225,
   "metadata": {},
   "outputs": [
    {
     "data": {
      "image/png": "[encoded data removed]",
      "text/latex": [
       "$$\\left[\\begin{matrix}1 & 0 & 0 & 0 & 0\\\\0 & 1 & 0 & 0 & 0\\\\0 & 0 & 1 & 0 & 0\\\\0 & 0 & 0 & 1 & 0\\\\0 & 0 & 0 & 0 & 1\\end{matrix}\\right]$$"
      ],
      "text/plain": [
       "⎡1  0  0  0  0⎤\n",
       "⎢             ⎥\n",
       "⎢0  1  0  0  0⎥\n",
       "⎢             ⎥\n",
       "⎢0  0  1  0  0⎥\n",
       "⎢             ⎥\n",
       "⎢0  0  0  1  0⎥\n",
       "⎢             ⎥\n",
       "⎣0  0  0  0  1⎦"
      ]
     },
     "execution_count": 225,
     "metadata": {},
     "output_type": "execute_result"
    }
   ],
   "source": [
    "sp.eye(5)"
   ]
  },
  {
   "cell_type": "code",
   "execution_count": 226,
   "metadata": {},
   "outputs": [
    {
     "data": {
      "image/png": "[encoded data removed]",
      "text/latex": [
       "$$\\left[\\begin{matrix}0 & 0 & 0 & 0 & 0 & 0 & 0\\\\0 & 0 & 0 & 0 & 0 & 0 & 0\\\\0 & 0 & 0 & 0 & 0 & 0 & 0\\end{matrix}\\right]$$"
      ],
      "text/plain": [
       "⎡0  0  0  0  0  0  0⎤\n",
       "⎢                   ⎥\n",
       "⎢0  0  0  0  0  0  0⎥\n",
       "⎢                   ⎥\n",
       "⎣0  0  0  0  0  0  0⎦"
      ]
     },
     "execution_count": 226,
     "metadata": {},
     "output_type": "execute_result"
    }
   ],
   "source": [
    "sp.zeros(3, 7)"
   ]
  },
  {
   "cell_type": "code",
   "execution_count": 231,
   "metadata": {},
   "outputs": [
    {
     "data": {
      "image/png": "[encoded data removed]",
      "text/latex": [
       "$$\\left[\\begin{matrix}\\frac{3}{4} & - \\frac{1}{4} & - \\frac{1}{4}\\\\- \\frac{1}{4} & \\frac{3}{4} & - \\frac{1}{4}\\\\- \\frac{1}{4} & - \\frac{1}{4} & \\frac{3}{4}\\end{matrix}\\right]$$"
      ],
      "text/plain": [
       "⎡3/4   -1/4  -1/4⎤\n",
       "⎢                ⎥\n",
       "⎢-1/4  3/4   -1/4⎥\n",
       "⎢                ⎥\n",
       "⎣-1/4  -1/4  3/4 ⎦"
      ]
     },
     "execution_count": 231,
     "metadata": {},
     "output_type": "execute_result"
    }
   ],
   "source": [
    "(sp.ones(3, 3) + sp.eye(3)) ** -1"
   ]
  },
  {
   "cell_type": "code",
   "execution_count": 247,
   "metadata": {},
   "outputs": [
    {
     "data": {
      "image/png": "[encoded data removed]",
      "text/latex": [
       "$$\\left[\\begin{matrix}7573878 & 13938678 & 15022332\\\\13938678 & 25653446 & 27658228\\\\15022332 & 27658228 & 29907020\\end{matrix}\\right]$$"
      ],
      "text/plain": [
       "⎡7573878   13938678  15022332⎤\n",
       "⎢                            ⎥\n",
       "⎢13938678  25653446  27658228⎥\n",
       "⎢                            ⎥\n",
       "⎣15022332  27658228  29907020⎦"
      ]
     },
     "execution_count": 247,
     "metadata": {},
     "output_type": "execute_result"
    }
   ],
   "source": [
    "n = sp.Symbol('n', positive=True)\n",
    "sp.simplify(((M * M.T) ** n).subs({n: 4}).expand())"
   ]
  },
  {
   "cell_type": "code",
   "execution_count": 237,
   "metadata": {},
   "outputs": [
    {
     "data": {
      "image/png": "[encoded data removed]",
      "text/latex": [
       "$$\\left ( \\left[\\begin{matrix}1 & 0 & 1 & 3\\\\0 & 1 & \\frac{2}{3} & \\frac{1}{3}\\\\0 & 0 & 0 & 0\\end{matrix}\\right], \\quad \\left ( 0, \\quad 1\\right )\\right )$$"
      ],
      "text/plain": [
       "⎛⎡1  0   1    3 ⎤        ⎞\n",
       "⎜⎢              ⎥        ⎟\n",
       "⎜⎢0  1  2/3  1/3⎥, (0, 1)⎟\n",
       "⎜⎢              ⎥        ⎟\n",
       "⎝⎣0  0   0    0 ⎦        ⎠"
      ]
     },
     "execution_count": 237,
     "metadata": {},
     "output_type": "execute_result"
    }
   ],
   "source": [
    "sp.Matrix([[1, 0, 1, 3], [2, 3, 4, 7], [-1, -3, -3, -4]]).rref()"
   ]
  },
  {
   "cell_type": "code",
   "execution_count": null,
   "metadata": {},
   "outputs": [],
   "source": []
  }
 ],
 "metadata": {
  "kernelspec": {
   "display_name": "Python 3",
   "language": "python",
   "name": "python3"
  },
  "language_info": {
   "codemirror_mode": {
    "name": "ipython",
    "version": 3
   },
   "file_extension": ".py",
   "mimetype": "text/x-python",
   "name": "python",
   "nbconvert_exporter": "python",
   "pygments_lexer": "ipython3",
   "version": "3.6.4"
  }
 },
 "nbformat": 4,
 "nbformat_minor": 2
}
